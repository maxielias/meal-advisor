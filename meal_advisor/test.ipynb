{
 "cells": [
  {
   "cell_type": "code",
   "execution_count": 85,
   "metadata": {},
   "outputs": [],
   "source": [
    "import json\n",
    "import pandas as pd\n",
    "import numpy as np\n",
    "import os\n",
    "import requests\n",
    "from bs4 import BeautifulSoup\n",
    "import re\n",
    "import nltk\n",
    "#nltk.download(\"all\")"
   ]
  },
  {
   "cell_type": "code",
   "execution_count": 86,
   "metadata": {},
   "outputs": [
    {
     "data": {
      "text/plain": [
       "{'breakfast', 'desserts', 'drinks', 'main-courses', 'side-dishes', 'snacks'}"
      ]
     },
     "metadata": {},
     "output_type": "display_data"
    }
   ],
   "source": [
    "df_recipes = pd.read_csv(\"data/recipes_clean_healthyfitnessmeals.csv\", header=0)\n",
    "'''f = [\"snacks\"]\n",
    "df_recipes = df_recipes[df_recipes[\"category\"].isin(f)]\n",
    "'''#df_recipes[\"calPerServ\"] = df_recipes[\"calories\"] / df_recipes[\"servings\"]\n",
    "display(set(df_recipes[\"category\"])) # , \"title\", \"calories\"]].head(10))"
   ]
  },
  {
   "cell_type": "code",
   "execution_count": 52,
   "metadata": {},
   "outputs": [],
   "source": [
    "with open(\"data/recipes_raw_mealdb.json\") as jsonfile:\n",
    "    data = json.loads(jsonfile.read())\n",
    "\n",
    "list_of_ingredients = list(set([d[1].lower() for i in range(len(data)) for d in data[i].items() if d[0].startswith(\"strIngredient\") and d[1]!=\"\" and d[1]]))\n",
    "with open(\"data/list_of_ingredients.txt\", \"w\", encoding=\"utf8\") as f:\n",
    "    for l in list_of_ingredients:\n",
    "        f.write(f\"{l}\\n\")\n",
    "# list_of_ingredients\n",
    "# print(set([d[\"strMeal\"] for d in data if d[\"strCategory\"] == \"Beef\"]))"
   ]
  },
  {
   "cell_type": "code",
   "execution_count": 5,
   "metadata": {},
   "outputs": [
    {
     "name": "stdout",
     "output_type": "stream",
     "text": [
      "[{'idMeal': '52795', 'strMeal': 'Chicken Handi', 'strDrinkAlternate': None, 'strCategory': 'Chicken', 'strArea': 'Indian', 'strInstructions': 'Take a large pot or wok, big enough to cook all the chicken, and heat the oil in it. Once the oil is hot, add sliced onion and fry them until deep golden brown. Then take them out on a plate and set aside.\\r\\nTo the same pot, add the chopped garlic and sauté for a minute. Then add the chopped tomatoes and cook until tomatoes turn soft. This would take about 5 minutes.\\r\\nThen return the fried onion to the pot and stir. Add ginger paste and sauté well.\\r\\nNow add the cumin seeds, half of the coriander seeds and chopped green chillies. Give them a quick stir.\\r\\nNext goes in the spices – turmeric powder and red chilli powder. Sauté the spices well for couple of minutes.\\r\\nAdd the chicken pieces to the wok, season it with salt to taste and cook the chicken covered on medium-low heat until the chicken is almost cooked through. This would take about 15 minutes. Slowly sautéing the chicken will enhance the flavor, so do not expedite this step by putting it on high heat.\\r\\nWhen the oil separates from the spices, add the beaten yogurt keeping the heat on lowest so that the yogurt doesn’t split. Sprinkle the remaining coriander seeds and add half of the dried fenugreek leaves. Mix well.\\r\\nFinally add the cream and give a final mix to combine everything well.\\r\\nSprinkle the remaining kasuri methi and garam masala and serve the chicken handi hot with naan or rotis. Enjoy!', 'strMealThumb': 'https://www.themealdb.com/images/media/meals/wyxwsp1486979827.jpg', 'strTags': None, 'strYoutube': 'https://www.youtube.com/watch?v=IO0issT0Rmc', 'strIngredient1': 'Chicken', 'strIngredient2': 'Onion', 'strIngredient3': 'Tomatoes', 'strIngredient4': 'Garlic', 'strIngredient5': 'Ginger paste', 'strIngredient6': 'Vegetable oil', 'strIngredient7': 'Cumin seeds', 'strIngredient8': 'Coriander seeds', 'strIngredient9': 'Turmeric powder', 'strIngredient10': 'Chilli powder', 'strIngredient11': 'Green chilli', 'strIngredient12': 'Yogurt', 'strIngredient13': 'Cream', 'strIngredient14': 'fenugreek', 'strIngredient15': 'Garam masala', 'strIngredient16': 'Salt', 'strIngredient17': '', 'strIngredient18': '', 'strIngredient19': '', 'strIngredient20': '', 'strMeasure1': '1.2 kg', 'strMeasure2': '5 thinly sliced', 'strMeasure3': '2 finely chopped', 'strMeasure4': '8 cloves chopped', 'strMeasure5': '1 tbsp', 'strMeasure6': '¼ cup', 'strMeasure7': '2 tsp', 'strMeasure8': '3 tsp', 'strMeasure9': '1 tsp', 'strMeasure10': '1 tsp', 'strMeasure11': '2', 'strMeasure12': '1 cup', 'strMeasure13': '¾ cup', 'strMeasure14': '3 tsp Dried', 'strMeasure15': '1 tsp', 'strMeasure16': 'To taste', 'strMeasure17': '', 'strMeasure18': '', 'strMeasure19': '', 'strMeasure20': '', 'strSource': '', 'strImageSource': None, 'strCreativeCommonsConfirmed': None, 'dateModified': None}]\n"
     ]
    }
   ],
   "source": [
    "with open(\"data/recipes_raw_mealdb.json\") as jsonfile:\n",
    "    data = json.loads(jsonfile.read())\n",
    "\n",
    "#print(data[0])\n",
    "print([m for m in data if m[\"strMeal\"]==\"Chicken Handi\"])"
   ]
  },
  {
   "cell_type": "code",
   "execution_count": 67,
   "metadata": {},
   "outputs": [
    {
     "name": "stdout",
     "output_type": "stream",
     "text": [
      "[('strIngredient1', 'Udon Noodles')]\n",
      "[{'idMeal': '52871', 'strMeal': 'Yaki Udon', 'strDrinkAlternate': None, 'strCategory': 'Vegetarian', 'strArea': 'Japanese', 'strInstructions': 'Boil some water in a large saucepan. Add 250ml cold water and the udon noodles. (As they are so thick, adding cold water helps them to cook a little bit slower so the middle cooks through). If using frozen or fresh noodles, cook for 2 mins or until al dente; dried will take longer, about 5-6 mins. Drain and leave in the colander.\\r\\nHeat 1 tbsp of the oil, add the onion and cabbage and sauté for 5 mins until softened. Add the mushrooms and some spring onions, and sauté for 1 more min. Pour in the remaining sesame oil and the noodles. If using cold noodles, let them heat through before adding the ingredients for the sauce – otherwise tip in straight away and keep stir-frying until sticky and piping hot. Sprinkle with the remaining spring onions.', 'strMealThumb': 'https://www.themealdb.com/images/media/meals/wrustq1511475474.jpg', 'strTags': 'LowCalorie', 'strYoutube': 'https://www.youtube.com/watch?v=5Iy0MCowSvA', 'strIngredient1': 'Udon Noodles', 'strIngredient2': 'Sesame Seed Oil', 'strIngredient3': 'Onion', 'strIngredient4': 'Cabbage', 'strIngredient5': 'Shiitake Mushrooms', 'strIngredient6': 'Spring Onions', 'strIngredient7': 'Mirin', 'strIngredient8': 'Soy Sauce', 'strIngredient9': 'Caster Sugar', 'strIngredient10': 'Worcestershire Sauce', 'strIngredient11': '', 'strIngredient12': '', 'strIngredient13': '', 'strIngredient14': '', 'strIngredient15': '', 'strIngredient16': '', 'strIngredient17': '', 'strIngredient18': '', 'strIngredient19': '', 'strIngredient20': '', 'strMeasure1': '250g', 'strMeasure2': '2 tbs', 'strMeasure3': '1 sliced', 'strMeasure4': '0.25', 'strMeasure5': '10', 'strMeasure6': '4', 'strMeasure7': '4 tbsp', 'strMeasure8': '2 tbs', 'strMeasure9': '1 tblsp ', 'strMeasure10': '1 tblsp ', 'strMeasure11': '', 'strMeasure12': '', 'strMeasure13': '', 'strMeasure14': '', 'strMeasure15': '', 'strMeasure16': '', 'strMeasure17': '', 'strMeasure18': '', 'strMeasure19': '', 'strMeasure20': '', 'strSource': 'https://www.bbcgoodfood.com/recipes/yaki-udon', 'strImageSource': None, 'strCreativeCommonsConfirmed': None, 'dateModified': None}]\n"
     ]
    }
   ],
   "source": [
    "filter=\"Udon Noodles\"\n",
    "a = [d for i in range(len(data)) for d in data[i].items() if d[0].startswith(\"strIngredient\") and str(d[1]).lower().strip()==filter.lower().strip()] #[d for i in range(len(data)) for d in data[i].items() if d[0].startswith(\"strIngredient\") and d[1]==filter])\n",
    "print(a)\n",
    "print([d for d in data for i in a if d[i[0]]==i[1]])"
   ]
  },
  {
   "cell_type": "code",
   "execution_count": 41,
   "metadata": {},
   "outputs": [
    {
     "name": "stdout",
     "output_type": "stream",
     "text": [
      "['udon noodles', 'sesame seed oil', 'onion', 'cabbage', 'shiitake mushrooms', 'spring onions', 'mirin', 'soy sauce', 'caster sugar', 'worcestershire sauce', 'whole wheat', 'lamb loin chops', 'olive oil', 'shallots', 'carrots', 'turnips', 'celeriac', 'charlotte potatoes', 'white wine', 'caster sugar', 'fresh thyme', 'oregano', 'chicken stock', 'veal', 'flour', 'olive oil', 'butter', 'onion', 'carrot', 'celery', 'fennel', 'garlic', 'orange zest', 'marjoram', 'bay leaf', 'dry white wine', 'chicken stock', 'tomatoes', 'parsley', 'garlic', 'lemon zest', 'oxtail', 'onion', 'spring onions', 'garlic', 'ginger', 'scotch bonnet', 'soy sauce', 'fresh thyme', 'vegetable oil', 'water', 'broad beans', 'corn flour', 'water', 'toor dal', 'water', 'salt', 'turmeric', 'ghee', 'chopped tomatoes', 'cumin seeds', 'mustard seeds', 'bay leaf', 'green chili', 'ginger', 'cilantro', 'red pepper', 'salt', 'sugar', 'garam masala', 'almonds', 'butter', 'muscovado sugar', 'orange', 'apricot jam', 'plain flour', 'baking powder', 'eggs', 'ground almonds', 'milk', 'dried fruit', 'glace cherry', 'milk', 'caster sugar', 'sea salt', 'bay leaf', 'garlic', 'thyme', 'duck legs', 'white wine', 'double cream', 'white chocolate chips', 'vanilla', 'egg yolks', 'caster sugar', 'caster sugar', 'pork', 'garlic clove', 'ginger', 'soy sauce', 'sesame seed oil', 'carrots', 'celery', 'spring onions', 'wonton skin', 'oil', 'water', 'flour', 'caster sugar', 'yeast', 'salt', 'milk', 'eggs', 'butter', 'walnuts', 'butter', 'brown sugar', 'cinnamon', 'milk', 'icing sugar', 'olive oil', 'ginger', 'garlic', 'tomatoes', 'lemon juice', 'caster sugar', 'vine leaves', 'fennel bulb', 'lamb mince', 'onion', 'potato', 'basmati rice', 'chopped parsley', 'coriander', 'lemon juice', 'garlic', 'clove', 'cinnamon', 'tomatoes', 'digestive biscuits', 'butter', 'bramley apples', 'butter, softened', 'caster sugar', 'free-range eggs, beaten', 'ground almonds', 'almond extract', 'flaked almonds', 'plain flour', 'caster sugar', 'butter', 'braeburn apples', 'butter', 'demerara sugar', 'blackberrys', 'cinnamon', 'ice cream', 'milk', 'oil', 'eggs', 'flour', 'baking powder', 'salt', 'unsalted butter', 'sugar', 'peanut butter', 'chicken thighs', 'challots', 'ginger', 'garlic clove', 'cayenne pepper', 'turmeric', 'cumin', 'coriander', 'fennel', 'tamarind paste', 'coconut milk', 'sugar', 'water', 'olive oil', 'italian fennel sausages', 'onion', 'fennel bulb', 'smoky paprika', 'garlic', 'fennel seeds', 'red wine', 'chopped tomatoes', 'caster sugar', 'pitted black olives', 'rigatoni', 'pecorino', 'anchovy fillet', 'garlic', 'olive oil', 'basil leaves', 'miniature marshmallows', 'chocolate chips', 'peanut butter', 'vanilla extract', 'peanuts', 'butter', 'self-raising flour', 'vanilla', 'suet', 'milk', 'raspberry jam', 'custard', 'chicken thighs', 'lime', 'spring onions', 'ginger', 'garlic', 'onion', 'red chilli', 'thyme', 'lime', 'soy sauce', 'vegetable oil', 'brown sugar', 'allspice', 'basmati rice', 'coconut milk', 'spring onions', 'thyme', 'garlic', 'allspice', 'kidney beans', 'red chilli', 'ginger', 'garlic', 'coriander', 'sunflower oil', 'chicken breasts', 'peanut butter', 'chicken stock', 'greek yogurt', 'butter', 'sour cream', 'sugar', 'cream cheese', 'caster sugar', 'plain flour', 'lemon juice', 'eggs', 'sour cream', 'sour cream', 'caster sugar', 'lemon juice', 'custard', 'caster sugar', 'cocoa', 'egg', 'digestive biscuits', 'desiccated coconut', 'almonds', 'butter', 'double cream', 'custard powder', 'icing sugar', 'dark chocolate', 'butter', 'coconut milk', 'water', 'ginger paste', 'ginger', 'bay leaf', 'rice', 'eggs', 'cucumber', 'peanuts', 'anchovy fillet', 'vegetable oil', 'onion', 'garlic', 'shallots', 'chilli powder', 'anchovy fillet', 'sugar', 'tamarind paste', 'strawberries', 'double cream', 'meringue nests', 'ginger cordial', 'mint', 'butter', 'plain flour', 'lemon', 'butter', 'currants', 'mixed peel', 'muscovado sugar', 'cinnamon', 'ginger', 'allspice', 'lemon', 'eggs', 'sugar', 'raw king prawns', 'olive oil', 'chopped onion', 'freshly chopped parsley', 'white wine', 'chopped tomatoes', 'minced garlic', 'cubed feta cheese', 'macaroni', 'plain flour', 'mustard powder', 'garlic powder', 'kosher salt', 'black pepper', 'cayenne pepper', 'butter', 'whole milk', 'heavy cream', 'monterey jack cheese', 'butter', 'garlic powder', 'bread', 'cheddar cheese', 'colby jack cheese', 'butter', 'mozzarella balls', 'baby plum tomatoes', 'fresh basil', 'farfalle', 'extra virgin olive oil', 'green olives', 'tuna', 'salt', 'pepper', 'peanuts', 'coconut cream', 'massaman curry paste', 'beef', 'potatoes', 'onion', 'lime', 'cinnamon stick', 'tamarind paste', 'brown sugar', 'fish sauce', 'chilli', 'jasmine rice', 'salmon', 'olive oil', 'soy sauce', 'sake', 'sesame seed', 'chocolate chips', 'heavy cream', 'condensed milk', 'vanilla extract', 'white chocolate chips', 'miniature marshmallows', 'mushrooms', 'wood ear mushrooms', 'tofu', 'pork', 'chicken stock', 'salt', 'sugar', 'sesame seed oil', 'pepper', 'hotsauce', 'vinegar', 'soy sauce', 'cornstarch', 'water', 'spring onions', 'floury potatoes', 'olive oil', 'semi-skimmed milk', 'white fish fillets', 'plain flour', 'nutmeg', 'double cream', 'jerusalem artichokes', 'leek', 'prawns', 'parsley', 'dill', 'lemon', 'gruyère', 'lemon', 'olive oil', 'onion', 'garlic', 'carrot', 'french lentils', 'thyme', 'bay leaf', 'salt', 'celery', 'clotted cream', 'butter', 'corn flour', 'parmesan cheese', 'nutmeg', 'fettuccine', 'parsley', 'plain flour', 'salt', 'curry powder', 'butter', 'water', 'minced beef', 'allspice', 'black pepper', 'vegetable oil', 'onions', 'red pepper', 'garlic', 'thyme', 'salt', 'tomato ketchup', 'water', 'onions', 'egg', 'water', 'water', 'sushi rice', 'mirin', 'pickle juice', 'spring onions', 'vegetable oil', 'onion', 'pork', 'vegetable stock', 'soy sauce', 'mirin', 'sugar', 'eggs', 'sushi rice', 'chives', 'plain chocolate', 'butter', 'milk', 'eggs', 'granulated sugar', 'flour', 'enchilada sauce', 'shredded monterey jack cheese', 'corn tortillas', 'chicken breasts', 'flour', 'butter', 'egg', 'salt', 'cheese', 'milk', 'eggs', 'parmesan cheese', 'plum tomatoes', 'white vinegar', 'honey', 'basil', 'cashew nuts', 'khus khus', 'cumin seeds', 'onions', 'ginger garlic paste', 'garlic', 'mint', 'cilantro', 'saffron', 'ghee', 'basmati rice', 'full fat yogurt', 'cumin seeds', 'bay leaf', 'cinnamon', 'cloves', 'cardamom', 'lamb', 'red chilli powder', 'biryani masala', 'onion', 'sunflower oil', 'garlic', 'ginger', 'madras paste', 'paprika', 'cinnamon stick', 'cardamom', 'clove', 'bay leaf', 'tomato purée', 'lamb', 'greek yogurt', 'coriander', 'fries', 'doner meat', 'garlic sauce', 'hotsauce', 'lettuce', 'tomato', 'cucumber', 'gouda cheese', 'chicken', 'oil', 'egg white', 'flour', 'brown sugar', 'salt', 'paprika', 'onion salt', 'chili powder', 'black pepper', 'celery salt', 'sage', 'garlic powder', 'allspice', 'oregano', 'basil', 'marjoram', 'chicken breast', 'plain flour', 'egg', 'breadcrumbs', 'vegetable oil', 'sunflower oil', 'onions', 'garlic', 'carrot', 'plain flour', 'curry powder', 'chicken stock', 'honey', 'soy sauce', 'bay leaf', 'garam masala', 'green red lentils', 'carrot', 'onion', 'zucchini', 'coriander', 'spinach', 'lasagne sheets', 'vegan butter', 'flour', 'soya milk', 'mustard', 'vinegar', 'self raising flour', 'coco sugar', 'cacao', 'baking powder', 'flax eggs', 'almond milk', 'vanilla', 'water', 'pork', 'rice vermicelli', 'egg rolls', 'challots', 'garlic', 'sugar', 'fish sauce', 'soy sauce', 'pepper', 'olive oil', 'cucumber', 'mint', 'peanuts', 'mackerel', 'red chili', 'ginger', 'garlic', 'pepper', 'cumin', 'turmeric', 'cinnamon stick', 'clove', 'cardamom', 'sugar', 'tamarind ball', 'vinegar', 'oil', 'olive oil', 'onion', 'carrot', 'celery', 'garlic', 'cannellini beans', 'canned tomatoes', 'water', 'rosemary', 'thyme', 'kale', 'wholegrain bread', 'red onion', 'parmesan', 'soy sauce', 'water', 'brown sugar', 'ground ginger', 'minced garlic', 'cornstarch', 'chicken breasts', 'stir-fry vegetables', 'brown rice', 'lemons', 'paprika', 'red onions', 'chicken thighs', 'vegetable oil', 'greek yogurt', 'ginger', 'garlic clove', 'garam masala', 'ground cumin', 'chilli powder', 'turmeric', 'rice stick noodles', 'dark soy sauce', 'oyster sauce', 'soy sauce', 'white vinegar', 'sugar', 'water', 'peanut oil', 'garlic', 'chicken', 'egg', 'chinese broccoli', 'potatoes', 'onions', 'olive oil', 'chicken stock', 'creme fraiche', 'parmesan', 'chicken breasts', 'bacon', 'spinach', 'peas', 'vegetable oil', 'beef gravy', 'potatoes', 'cheese curds', 'sausages', 'bacon', 'mushrooms', 'tomatoes', 'black pudding', 'eggs', 'bread', 'red snapper', 'vegetable oil', 'garlic', 'ginger', 'thyme', 'bay leaf', 'red pepper', 'yellow pepper', 'onion', 'carrots', 'sugar', 'allspice', 'worcestershire sauce', 'scotch bonnet', 'lime', 'malt vinegar', 'pepper', 'chicken stock', 'salt', 'sugar', 'pepper', 'sesame seed oil', 'peas', 'mushrooms', 'cornstarch', 'water', 'spring onions', 'beef', 'onion', 'chicken stock cube', 'tomatoes', 'garlic clove', 'tomato puree', 'rice', 'noodles', 'butter', 'olive oil', 'pita bread', 'cumin', 'white wine vinegar', 'salt', 'pepper', 'chicken breast', 'plain flour', 'egg', 'starch', 'baking powder', 'salt', 'onion salt', 'garlic powder', 'water', 'chicken stock', 'duck sauce', 'soy sauce', 'honey', 'rice vinegar', 'sesame seed oil', 'gochujang', 'starch', 'garlic', 'spring onions', 'ginger', 'butter beans', 'olive oil', 'onion', 'garlic clove', 'tomato puree', 'tomatoes', 'sugar', 'dried oregano', 'cinnamon', 'chopped parsley', 'cabbage', 'butter', 'onion', 'ground beef', 'ground pork', 'rice', 'garlic', 'salt', 'black pepper', 'tomato puree', 'sardines', 'olive oil', 'garlic', 'paprika', 'lemon', 'rosemary', 'red chilli', 'mushrooms', 'chestnuts', 'challots', 'garlic', 'rosemary', 'wild mushrooms', 'soy sauce', 'white wine', 'lasagne sheets', 'breadcrumbs', 'sage', 'truffle oil', 'sunflower oil', 'paneer', 'ginger', 'cumin', 'turmeric', 'coriander', 'green chilli', 'tomato', 'peas', 'garam masala', 'coriander', 'naan bread', 'onions', 'olive oil', 'garlic', 'lean minced beef', 'mushrooms', 'dried oregano', 'tomatoes', 'hot beef stock', 'tomato puree', 'worcestershire sauce', 'spaghetti', 'parmesan', 'penne rigate', 'olive oil', 'garlic', 'chopped tomatoes', 'red chile flakes', 'italian seasoning', 'basil', 'parmigiano-reggiano', 'olive oil', 'duck legs', 'onions', 'garlic', 'cinnamon', 'plain flour', 'red wine', 'chopped tomatoes', 'chicken stock cube', 'rosemary', 'bay leaves', 'sugar', 'milk', 'paccheri pasta', 'parmesan cheese', 'rapeseed oil', 'onion', 'garlic', 'paprika', 'cumin', 'thyme', 'carrots', 'celery', 'red pepper', 'yellow pepper', 'tomato', 'vegetable stock cube', 'courgettes', 'thyme', 'lentils', 'roasted vegetables', 'kidney beans', 'chopped tomatoes', 'mixed grain', 'potatoes', 'small potatoes', 'salted butter', 'mushrooms', 'brown lentils', 'garlic', 'kosher salt', 'onion', 'tomato puree', 'bay leaves', 'olive oil', 'dry white wine', 'vegetable stock', 'cornstarch', 'soy sauce', 'rosemary', 'parsley', 'sage', 'chives', 'self-raising flour', 'sugar', 'eggs', 'milk', 'potatoes', 'broccoli', 'garlic', 'chicken breast', 'balsamic vinegar', 'honey', 'chicken stock', 'butter', 'vegetable oil', 'olive oil', 'digestive biscuits', 'almonds', 'butter', 'greek yogurt', 'mascarpone', 'eggs', 'lemon', 'orange', 'honey', 'fruit mix', 'floury potatoes', 'butter', 'garlic clove', 'cabbage', 'spring onions', 'double cream', 'mustard', 'ham', 'eggs', 'sausages', 'bacon', 'mushrooms', 'tomatoes', 'black pudding', 'eggs', 'bread', 'baked beans', 'butter', 'olive oil', 'onion', 'sugar', 'garlic clove', 'plain flour', 'dry white wine', 'beef stock', 'bread', 'gruyère', 'plain flour', 'chilled butter', 'cold water', 'raspberry jam', 'butter', 'caster sugar', 'ground almonds', 'free-range egg, beaten', 'almond extract', 'flaked almonds', 'butter', 'bread', 'sultanas', 'cinnamon', 'milk', 'double cream', 'eggs', 'sugar', 'nutmeg', 'salted butter', 'dark soft brown sugar', 'golden syrup', 'orange', 'rolled oats', 'christmas pudding', 'chicken', 'onion', 'tomatoes', 'garlic', 'ginger paste', 'vegetable oil', 'cumin seeds', 'coriander seeds', 'turmeric powder', 'chilli powder', 'green chilli', 'yogurt', 'cream', 'fenugreek', 'garam masala', 'salt', 'olive oil', 'red chili', 'thai red curry paste', 'vegetable stock cube', 'coconut milk', 'fish sauce', 'rice noodles', 'lime', 'king prawns', 'coriander', 'olive oil', 'onion', 'carrots', 'lamb leg', 'garlic', 'cumin', 'ginger', 'saffron', 'cinnamon', 'honey', 'apricot', 'vegetable stock cube', 'butternut squash', 'couscous', 'parsley', 'olive oil', 'carrots', 'celery', 'onion', 'garlic', 'brown lentils', 'bay leaves', 'water', 'salt', 'apple cider vinegar', 'pepper', 'egg plants', 'rosemary', 'pine nuts', 'parsley', 'self-raising flour', 'caster sugar', 'baking powder', 'butter', 'dried fruit', 'eggs', 'milk', 'vanilla extract', 'spaghetti', 'olive oil', 'onion', 'garlic', 'red chilli', 'tomato puree', 'pilchards', 'black olives', 'parmesan', 'goose fat', 'pork', 'onion', 'garlic', 'carrots', 'fennel seeds', 'red wine vinegar', 'vegetable stock', 'tomato puree', 'rosemary', 'parsley', 'haricot beans', 'breadcrumbs', 'oil', 'bread', 'broccoli', 'flour', 'eggs', 'milk', 'sunflower oil', 'sugar', 'raspberries', 'blueberries', 'vegetable oil', 'minced beef', 'onion', 'tomato puree', 'plain flour', 'mushrooms', 'beef stock', 'worcestershire sauce', 'shortcrust pastry', 'egg yolks', 'cumin', 'rapeseed oil', 'red onions', 'garlic clove', 'green chilli', 'red pepper', 'nutmeg', 'coriander', 'lamb mince', 'pepper', 'coriander', 'plain flour', 'salt', 'milk', 'lard', 'egg yolks', 'digestive biscuits', 'butter', 'condensed milk', 'egg yolks', 'lime', 'double cream', 'icing sugar', 'lime', 'vegetable oil', 'onion', 'garlic', 'ginger', 'coriander', 'cumin', 'paprika', 'garam masala', 'chopped tomatoes', 'kidney beans', 'basmati rice', 'smoked haddock', 'bay leaves', 'milk', 'eggs', 'parsley', 'coriander', 'vegetable oil', 'onion', 'coriander', 'curry powder', 'rice', 'butter', 'leek', 'salt', 'creme fraiche', 'egg', 'egg yolks', 'nutmeg', 'plain flour', 'salt', 'butter', 'lard', 'cheddar cheese', 'water', 'eggs', 'butter', 'parmesan', 'tarragon', 'parsley', 'chives', 'gruyère', 'potatoes', 'green beans', 'sunflower oil', 'garlic', 'thai green curry paste', 'coconut milk', 'thai fish sauce', 'sugar', 'chicken', 'lime', 'basil', 'rice', 'sausages', 'vegetable oil', 'plain flour', 'eggs', 'horseradish', 'milk', 'cherry tomatoes', 'olive oil', 'onion', 'garlic', 'worcestershire sauce', 'tomato puree', 'turkey mince', 'eggs', 'breadcrumbs', 'barbeque sauce', 'cannellini beans', 'parsley', 'mushrooms', 'english mustard', 'olive oil', 'beef fillet', 'parma ham', 'puff pastry', 'flour', 'egg yolks', 'aubergine', 'onion', 'tomatoes', 'garlic', 'green chili', 'red chili powder', 'oil', 'coriander leaves', 'salt', 'butter', 'olive oil', 'chicken', 'salt', 'squash', 'broccoli', 'mushrooms', 'pepper', 'onion', 'garlic', 'red pepper flakes', 'white wine', 'milk', 'heavy cream', 'parmesan cheese', 'bowtie pasta', 'salt', 'pepper', 'parsley', 'macaroni', 'chicken stock', 'heavy cream', 'fajita seasoning', 'salt', 'chicken breast', 'olive oil', 'onion', 'red pepper', 'garlic', 'cheddar cheese', 'parsley', 'olive oil', 'onion', 'leek', 'garlic', 'cumin', 'coriander', 'smoked paprika', 'cinnamon', 'chili powder', 'cocoa', 'dried oregano', 'diced tomatoes', 'water', 'carrots', 'brown lentils', 'sea salt', 'squash', 'cashews', 'apple cider vinegar', 'medjool dates', 'water', 'vanilla extract', 'self-raising flour', 'bicarbonate of soda', 'eggs', 'butter', 'demerara sugar', 'black treacle', 'milk', 'ice cream', 'muscovado sugar', 'butter', 'double cream', 'black treacle', 'aubergine', 'courgettes', 'yellow pepper', 'tomato', 'olive oil', 'basil', 'onion', 'garlic clove', 'red wine vinegar', 'sugar', 'butter', 'onions', 'chicken stock', 'chicken breast', 'potatoes', 'salt', 'black pepper', 'pumpkin', 'shortcrust pastry', 'plain flour', 'caster sugar', 'salt', 'nutmeg', 'cinnamon', 'eggs', 'butter', 'milk', 'icing sugar', 'butter', 'peanut cookies', 'gelatine leafs', 'ricotta', 'peanut butter', 'golden syrup', 'milk', 'double cream', 'light brown soft sugar', 'peanut brittle', 'butter', 'caster sugar', 'eggs', 'self-raising flour', 'milk', 'lemon', 'mixed peel', 'beef brisket', 'salt', 'black pepper', 'coriander', 'sugar', 'bay leaf', 'cloves', 'black pepper', 'coriander', 'paprika', 'garlic', 'onion', 'dill', 'english mustard', 'celery salt', 'red pepper flakes', 'olive oil', 'bacon', 'onion', 'celery', 'carrots', 'garlic', 'minced beef', 'tomato puree', 'chopped tomatoes', 'honey', 'lasagne sheets', 'creme fraiche', 'mozzarella balls', 'parmesan cheese', 'basil leaves', 'lamb shoulder', 'flour', 'vegetable oil', 'onion', 'carrots', 'vegetable stock', 'potatoes', 'shortcrust pastry', 'eggs', 'prawns', 'olive oil', 'dry white wine', 'fish stock', 'fennel', 'onion', 'garlic', 'potatoes', 'orange', 'star anise', 'bay leaf', 'harissa spice', 'tomato puree', 'chopped tomatoes', 'mussels', 'white fish', 'thyme', 'bread', 'potatoes', 'fennel', 'garlic', 'milk', 'double cream', 'butter', 'parmesan cheese', 'potatoes', 'olive oil', 'eggs', 'red wine vinegar', 'capers', 'sunflower oil', 'red onions', 'spinach', 'tuna', 'tahini', 'lemon', 'olive oil', 'red onions', 'garlic', 'yellow pepper', 'green beans', 'courgettes', 'kale', 'lentils', 'potatoes', 'butter', 'milk', 'gruyère', 'butter', 'leek', 'plain flour', 'white wine', 'milk', 'parsley', 'salmon', 'haddock', 'smoked haddock', 'eggs', 'cajun', 'cayenne pepper', 'white fish', 'vegetable oil', 'flour tortilla', 'avocado', 'little gem lettuce', 'spring onion', 'salsa', 'sour cream', 'lemon', 'garlic', 'chicken breasts', 'vinaigrette dressing', 'cumin', 'smoked paprika', 'garlic', 'refried beans', 'hard taco shells', 'shredded mexican cheese', 'grape tomatoes', 'jalapeno', 'avocado', 'green salsa', 'sour cream', 'milk', 'small potatoes', 'harissa spice', 'olive oil', 'lemon', 'spring onions', 'rocket', 'feta', 'mint', 'pine nuts', 'salt', 'pepper', 'olive oil', 'egg plants', 'harissa', 'chickpeas', 'cherry tomatoes', 'greek yogurt', 'ground cumin', 'parsley', 'butter', 'onion', 'rice', 'white wine', 'vegetable stock', 'lemon', 'king prawns', 'salmon', 'asparagus', 'black pepper', 'parmesan', 'sake', 'soy sauce', 'sesame seed oil', 'corn flour', 'water', 'chicken', 'chilli powder', 'rice vinegar', 'brown sugar', 'spring onions', 'garlic clove', 'water chestnut', 'peanuts', 'prawns', 'soy sauce', 'tomato puree', 'corn flour', 'caster sugar', 'sunflower oil', 'peanuts', 'chilli', 'brown sugar', 'garlic clove', 'water chestnut', 'ginger', 'potatoes', 'olive oil', 'green pepper', 'onions', 'ras el hanout', 'pumpkin', 'eggs', 'salt', 'pepper', 'beef brisket', 'salt', 'onion', 'garlic', 'thyme', 'rosemary', 'bay leaves', 'beef stock', 'carrots', 'mustard', 'potatoes', 'beef', 'broccoli', 'potatoes', 'carrots', 'plain flour', 'eggs', 'milk', 'sunflower oil', 'corn flour', 'orange', 'orange', 'caster sugar', 'peaches', 'blueberries', 'self-raising flour', 'butter', 'muscovado sugar', 'cinnamon', 'milk', 'butter', 'egg', 'milk', 'golden syrup', 'black treacle', 'brown sugar', 'oatmeal', 'self-raising flour', 'ground ginger', 'butter', 'lamb', 'lamb kidney', 'onions', 'carrots', 'plain flour', 'worcestershire sauce', 'chicken stock', 'bay leaves', 'potatoes', 'olive oil', 'onion', 'chickpeas', 'vegetable stock', 'cumin', 'garlic', 'salt', 'harissa spice', 'pepper', 'lime', 'sour cream', 'chopped onion', 'dried oregano', 'salt', 'bread', 'bacon', 'tomato', 'mozzarella', 'butter', 'garlic', 'sea salt', 'olive oil', 'lemon', 'dill', 'lamb leg', 'pita bread', 'bulgur wheat', 'lamb mince', 'cumin', 'coriander', 'paprika', 'garlic', 'olive oil', 'bun', 'cucumber', 'greek yogurt', 'mint', 'olive oil', 'lamb', 'saffron', 'onion', 'water', 'parsley', 'butter', 'lemon', 'potatoes', 'butter', 'cheese', 'onion', 'red pepper', 'red chile flakes', 'yeast', 'water', 'water', 'sugar', 'salt', 'eggs', 'shortening', 'flour', 'canola oil', 'milk', 'sugar', 'vanilla', 'boiling water', 'butter', 'brown lentils', 'rice', 'coriander', 'macaroni', 'chickpeas', 'onion', 'salt', 'vegetable oil', 'cream cheese', 'sugar', 'vanilla extract', 'flour', 'puff pastry', 'strawberries', 'raspberries', 'blackberries', 'chicken breasts', 'carrots', 'small potatoes', 'onion', 'beef stock', 'mozzarella', 'sour cream', 'butter', 'sugar', 'vegetable oil', 'salt', 'pepper', 'kidney beans', 'carrots', 'spring onions', 'thyme', 'onion', 'black pepper', 'red pepper', 'garlic clove', 'allspice', 'beef', 'water', 'potatoes', 'plain flour', 'water', 'coconut milk', 'baby aubergine', 'fennel', 'red pepper', 'courgettes', 'onion', 'paella rice', 'paprika', 'saffron', 'white wine', 'vegetable stock', 'frozen peas', 'lemon', 'parsley', 'salt', 'black pepper', 'chicken legs', 'onions', 'carrots', 'leek', 'celery', 'cabbage', 'cloves', 'allspice', 'bay leaf', 'parsley', 'dill', 'pepper', 'salt', 'butter', 'egg yolks', 'cream cheese', 'baking powder', 'flour', 'jam', 'minced beef', 'onion', 'eggs', 'chilli', 'baguette', 'salt', 'pepper', 'mayonnaise', 'plain flour', 'butter', 'golden syrup', 'breadcrumbs', 'lemons', 'eggs', 'puff pastry', 'plain flour', 'braeburn apples', 'caster sugar', 'butter', 'creme fraiche', 'chicken thigh', 'ginger', 'garlic', 'soy sauce', 'sake', 'granulated sugar', 'potato starch', 'vegetable oil', 'lemon', 'olive oil', 'bacon', 'shallots', 'chicken legs', 'chicken thighs', 'chicken breasts', 'garlic', 'brandy', 'red wine', 'chicken stock', 'tomato puree', 'thyme', 'rosemary', 'bay leaves', 'parsley', 'chestnut mushroom', 'plain flour', 'butter', 'tofu', 'minced beef', 'sesame seed oil', 'doubanjiang', 'fermented black beans', 'pepper', 'salt', 'sichuan pepper', 'soy sauce', 'water', 'olive oil', 'scallions', 'spring onions', 'garlic', 'ginger', 'water', 'cornstarch', 'goat meat', 'corn flour', 'tomatoes', 'salt', 'onion', 'green chilli', 'coriander leaves', 'digestive biscuits', 'pretzels', 'butter', 'cream cheese', 'vanilla extract', 'icing sugar', 'caramel', 'sea salt', 'double cream', 'caramel sauce', 'toffee popcorn', 'pretzels', 'mussels', 'prawns', 'saffron', 'vermicelli', 'olive oil', 'onions', 'garlic', 'paprika', 'monkfish', 'baby squid', 'fish stock', 'tomatoes', 'lemon', 'parsley', 'beef', 'onions', 'garlic', 'olive oil', 'chorizo', 'cumin', 'all spice', 'cloves', 'cinnamon stick', 'bay leaves', 'oregano', 'ancho chillies', 'balsamic vinegar', 'plum tomatoes', 'tomato ketchup', 'dark brown sugar', 'borlotti beans', 'olive oil', 'onions', 'garlic', 'butter', 'mushrooms', 'beef fillet', 'plain flour', 'creme fraiche', 'english mustard', 'beef stock', 'parsley', 'rapeseed oil', 'onion', 'celery', 'leek', 'potatoes', 'butter', 'vegetable stock', 'broccoli', 'stilton cheese', 'pears', 'caster sugar', 'butter', 'star anise', 'cardamom', 'cinnamon', 'brandy', 'puff pastry', 'eggs', 'olive oil', 'courgettes', 'spring onions', 'red pepper', 'garlic clove', 'red chilli', 'cream cheese', 'milk', 'chives', 'basil', 'rocket', 'parmesan', 'broad beans', 'parsley', 'olive oil', 'lemons', 'garlic clove', 'cumin', 'flour', 'water', 'salt', 'unsalted butter', 'olive oil', 'haddock', 'potatoes', 'green chilli', 'coriander', 'cumin seeds', 'pepper', 'garlic', 'ginger', 'flour', 'eggs', 'breadcrumbs', 'vegetable oil', 'sardines', 'vegetable oil', 'flour', 'salt', 'fettuccine', 'heavy cream', 'butter', 'parmesan', 'parsley', 'black pepper', 'butter', 'parmesan', 'milk', 'bay leaves', 'plain flour', 'english mustard', 'cayenne pepper', 'gruyère', 'eggs', 'goats cheese', 'double cream', 'spinach', 'potatoes', 'sunflower oil', 'minced pork', 'onion', 'garlic clove', 'cinnamon', 'allspice', 'nutmeg', 'vegetable stock', 'shortcrust pastry', 'egg', 'linguine pasta', 'sugar snap peas', 'olive oil', 'garlic clove', 'red chilli', 'king prawns', 'cherry tomatoes', 'basil leaves', 'lettuce', 'bread', 'fromage frais', 'lime', 'caster sugar', 'clams', 'butter', 'bacon', 'onion', 'thyme', 'bay leaf', 'plain flour', 'milk', 'double cream', 'potatoes', 'parsley', 'butter', 'plain flour', 'caster sugar', 'mincemeat', 'egg', 'icing sugar', 'beef', 'aubergine', 'greek yogurt', 'egg', 'parmesan', 'tomato', 'tomato puree', 'potatoes', 'mulukhiyah', 'onion', 'beef', 'salt', 'water', 'garlic clove', 'olive oil', 'sausages', 'tomato sauce', 'butter beans', 'black treacle', 'english mustard', 'banana', 'eggs', 'baking powder', 'vanilla extract', 'oil', 'pecan nuts', 'raspberries', 'olive oil', 'butter', 'beef', 'plain flour', 'garlic', 'onions', 'celery', 'carrots', 'leek', 'swede', 'red wine', 'beef stock', 'bay leaf', 'thyme', 'parsley', 'plain flour', 'baking powder', 'suet', 'water', 'tiger prawns', 'olive oil', 'onion', 'fennel', 'carrots', 'dry white wine', 'brandy', 'chopped tomatoes', 'fish stock', 'paprika', 'double cream', 'prawns', 'potatoes', 'butter', 'milk', 'minced beef', 'onion', 'creamed corn', 'paprika', 'parsley', 'salt', 'pepper', 'butter', 'sugar', 'eggs', 'vanilla extract', 'flour', 'baking powder', 'milk', 'maple syrup', 'brown sugar', 'single cream', 'butter', 'potatoes', 'milk', 'butter', 'mustard', 'spring onions', 'spring onions', 'carrots', 'onion', 'garlic clove', 'cumin', 'coriander', 'olive oil', 'garam masala', 'lemon juice', 'peanuts', 'chilli', 'prawns', 'oil', 'water', 'tamarind paste', 'potatoes', 'red onions', 'garlic clove', 'cabbage', 'chinese broccoli', 'tofu', 'soy sauce', 'noodles', 'egg', 'mushrooms', 'buckwheat', 'vegetable oil', 'onion', 'garlic', 'bay leaf', 'vegetable stock cube', 'sour cream', 'white wine vinegar', 'parsley', 'olive oil', 'garlic', 'caster sugar', 'red wine vinegar', 'chopped tomatoes', 'basil leaves', 'mascarpone', 'milk', 'parmesan', 'mozzarella', 'spinach', 'parmesan', 'ricotta', 'nutmeg', 'cannellini beans', 'butternut squash', 'garlic', 'olive oil', 'linguine pasta', 'sage', 'onion', 'olive oil', 'butter', 'potatoes', 'garlic', 'eggs', 'parsley', 'baguette', 'vine tomatoes', 'olive oil', 'flour', 'sugar', 'baking powder', 'salt', 'egg', 'milk', 'oil', 'oil', 'icing sugar', 'orange', 'caster sugar', 'olive oil', 'flour', 'baking powder', 'eggs', 'vanilla extract', 'lamb mince', 'garlic', 'onion', 'spinach', 'tomato puree', 'cumin', 'chicken stock', 'harissa spice', 'chickpeas', 'lemon juice', 'macaroni', 'salt', 'pepper', 'beef', 'plain flour', 'rapeseed oil', 'red wine', 'beef stock', 'onion', 'carrots', 'thyme', 'mustard', 'egg yolks', 'puff pastry', 'green beans', 'butter', 'salt', 'pepper', 'beef', 'olive oil', 'shallots', 'garlic', 'bacon', 'thyme', 'bay leaf', 'stout', 'beef stock', 'corn flour', 'oysters', 'plain flour', 'salt', 'butter', 'eggs', 'olive oil', 'onions', 'celery', 'carrots', 'potatoes', 'bay leaf', 'tomato puree', 'sugar', 'white vinegar', 'chopped tomatoes', 'passata', 'vegetable stock cube', 'whole milk', 'butter', 'onion', 'mushrooms', 'plain flour', 'chicken stock cube', 'nutmeg', 'mustard powder', 'chicken', 'sweetcorn', 'potatoes', 'butter', 'olive oil', 'onion', 'chicken breast', 'ginger', 'harissa spice', 'dried apricots', 'chickpeas', 'couscous', 'chicken stock', 'coriander', 'hazlenuts', 'butter', 'caster sugar', 'lemon', 'plain flour', 'baking powder', 'blackberrys', 'sugar', 'caster sugar', 'lemon juice', 'double cream', 'yogurt', 'mint', 'peanut butter', 'sugar', 'egg', 'water', 'sugar', 'yeast', 'plain flour', 'salt', 'olive oil', 'passata', 'mozzarella', 'oregano', 'basil', 'black pepper', 'puff pastry', 'egg white', 'egg yolks', 'vegetable oil', 'beef', 'lamb kidney', 'onions', 'plain flour', 'beef stock', 'salt', 'pepper', 'worcestershire sauce', 'butter', 'muscovado sugar', 'eggs', 'self-raising flour', 'baking powder', 'bicarbonate of soda', 'black treacle', 'milk', 'double cream', 'butter', 'muscovado sugar', 'black treacle', 'double cream', 'vanilla extract', 'self-raising flour', 'salt', 'suet', 'currants', 'caster sugar', 'lemon', 'orange', 'milk', 'custard', 'olive oil', 'spring onions', 'spinach', 'filo pastry', 'tuna', 'eggs', 'hotsauce', 'tomatoes', 'cucumber', 'lemon juice', 'apricot jam', 'broad beans', 'spring onions', 'garlic clove', 'parsley', 'cumin', 'baking powder', 'cayenne pepper', 'flour', 'vegetable oil', 'pork chops', 'flour', 'eggs', 'breadcrumbs', 'vegetable oil', 'tomato ketchup', 'worcestershire sauce', 'oyster sauce', 'caster sugar', 'beef', 'onions', 'carrots', 'garlic', 'bay leaf', 'red wine', 'water', 'mustard', 'salt', 'pepper', 'paprika', 'vegetable oil', 'banana', 'cacao', 'avocado', 'honey', 'lemon juice', 'vanilla', 'water', 'sea salt', 'plain flour', 'butter', 'cream cheese', 'icing sugar', 'butter', 'maple syrup', 'light brown soft sugar', 'dark brown soft sugar', 'eggs', 'vanilla extract', 'pecan nuts', 'dark chocolate chips', 'butter', 'caster sugar', 'self-raising flour', 'almonds', 'baking powder', 'eggs', 'vanilla extract', 'almond extract', 'butter', 'caster sugar', 'self-raising flour', 'almonds', 'baking powder', 'eggs', 'vanilla extract', 'almond extract', 'pink food colouring', 'apricot', 'marzipan', 'icing sugar', 'strawberries', 'blackberries', 'redcurrants', 'raspberries', 'caster sugar', 'bread', 'rapeseed oil', 'leek', 'courgettes', 'vegetable stock', 'cannellini beans', 'green beans', 'tomatoes', 'garlic clove', 'basil', 'parmesan', 'flour', 'salt', 'egg', 'egg', 'butter', 'butter', 'onion', 'swede', 'beef brisket', 'eggs', 'salt', 'pepper', 'butter', 'chopped onion', 'sauerkraut', 'butter', 'chopped onion', 'potatoes', 'eggs', 'sour cream', 'flour', 'salt', 'baking powder', 'dark chocolate', 'milk chocolate', 'salted butter', 'light brown soft sugar', 'eggs', 'plain flour', 'cocoa', 'raspberries', 'chickpeas', 'olive oil', 'paprika', 'tomatoes', 'red onions', 'red wine vinegar', 'avocado', 'lime', 'lime', 'sour cream', 'harissa spice', 'corn tortillas', 'coriander', 'ham', 'peas', 'onions', 'carrots', 'bay leaves', 'celery', 'frozen peas', 'bread', 'brown sugar', 'butter', 'eggs', 'vanilla extract', 'salt', 'plain flour', 'milk', 'goose fat', 'beef shin', 'bacon', 'challots', 'chestnut mushroom', 'garlic clove', 'bouquet garni', 'tomato puree', 'red wine', 'celeriac', 'olive oil', 'thyme', 'rosemary', 'bay leaf', 'cardamom', 'plain flour', 'caster sugar', 'yeast', 'milk', 'eggs', 'eggs', 'butter', 'brie', 'prosciutto', 'flour', 'eggs', 'milk', 'water', 'salt', 'sugar', 'butter', 'chicken', 'red chilli', 'garlic', 'ginger', 'dried oregano', 'coriander', 'paprika', 'red wine vinegar', 'oil', 'red onions', 'carrots', 'beetroot', 'cabbage', 'mayonnaise', 'greek yogurt', 'red wine vinegar', 'cumin seeds', 'garlic', 'beef fillet', 'olive oil', 'vinegar', 'parsley', 'ciabatta', 'rocket', 'basil leaves', 'parsley', 'jalapeno', 'vinegar', 'spring onions', 'garlic', 'caster sugar', 'chicken stock', 'chicken breast', 'butter', 'leek', 'garlic', 'plain flour', 'milk', 'white wine', 'double cream', 'ham', 'sea salt', 'pepper', 'plain flour', 'butter', 'free-range egg, beaten', 'cold water', 'free-range egg, beaten', 'potatoes', 'butter', 'double cream', 'egg yolks', 'butter', 'shallots', 'carrots', 'celery', 'garlic clove', 'white wine', 'tomato puree', 'tinned tomatos', 'chicken stock', 'chicken', 'black olives', 'parsley', 'gruyere cheese', 'pork', 'white wine', 'paprika', 'lemon', 'lemon juice', 'olive oil', 'mayonnaise', 'potatoes', 'vegetable oil', 'onions', 'red pepper', 'coriander', 'red chilli', 'garlic', 'dry white wine', 'saffron', 'bay leaf', 'potatoes', 'plum tomatoes', 'cod', 'squid', 'tiger prawns', 'clams', 'mussels', 'baguette', 'plain flour', 'icing sugar', 'puff pastry', 'caster sugar', 'lemon zest', 'cinnamon', 'eggs', 'egg yolks', 'corn flour', 'whole milk', 'vanilla', 'cinnamon', 'canola oil', 'beef fillet', 'beef stock', 'butter', 'garlic', 'challots', 'mushrooms', 'brandy', 'heavy cream', 'dijon mustard', 'worcestershire sauce', 'tabasco sauce', 'parsley', 'chives', 'salt', 'pepper', 'salt cod', 'ackee', 'onion', 'paprika', 'curry powder', 'jerusalem artichokes', 'hotsauce', 'red pepper', 'yellow pepper', 'tomatoes', 'salt', 'pepper', 'self-raising flour', 'suet', 'salt', 'olive oil', 'vegetable oil', 'plain flour', 'bicarbonate of soda', 'sugar', 'eggs', 'salt', 'cinnamon', 'carrots', 'walnuts', 'cream cheese', 'caster sugar', 'butter', 'white flour', 'salt', 'yeast', 'milk', 'butter', 'eggs', 'vegetable oil', 'butter', 'brown sugar', 'cinnamon', 'dried fruit', 'milk', 'caster sugar', 'onions', 'thyme', 'olive oil', 'potatoes', 'vegetable stock', 'water', 'yeast', 'sugar', 'milk', 'butter', 'eggs', 'salt', 'flour', 'oil', 'lemon', 'sugar', 'cinnamon', 'chicken', 'tomato', 'onions', 'garlic clove', 'red pepper', 'carrots', 'lime', 'thyme', 'allspice', 'soy sauce', 'cornstarch', 'coconut milk', 'vegetable oil', 'pork', 'egg', 'water', 'salt', 'sugar', 'soy sauce', 'starch', 'tomato puree', 'vinegar', 'coriander', 'beef', 'salt', 'sesame seed oil', 'pepper', 'egg white', 'starch', 'oil', 'ginger', 'garlic', 'onion', 'carrots', 'green pepper', 'celery', 'mushrooms', 'cooking wine', 'water', 'oyster sauce', 'hotsauce', 'sugar', 'soy sauce', 'beef', 'salt', 'pepper', 'sesame seed oil', 'egg', 'starch', 'oil', 'noodles', 'onion', 'minced garlic', 'ginger', 'bean sprouts', 'mushrooms', 'water', 'oyster sauce', 'sugar', 'soy sauce', 'fennel', 'parsley', 'lemon', 'cherry tomatoes', 'olive oil', 'salmon', 'black olives', 'ricotta', 'eggs', 'flour', 'sugar', 'cinnamon', 'lemons', 'dark rum', 'icing sugar', 'single cream', 'caster sugar', 'dark chocolate', 'butter', 'butter', 'caster sugar', 'dark chocolate', 'double cream', 'egg yolks', 'egg white', 'double cream', 'icing sugar', 'puff pastry', 'dark brown soft sugar', 'braeburn apples', 'red wine jelly', 'creme fraiche', 'icing sugar', 'cardamom', 'rice stick noodles', 'prawns', 'egg', 'pepper', 'sesame seed oil', 'cornstarch', 'oil', 'minced garlic', 'ginger', 'onion', 'bean sprouts', 'spring onions', 'cooking wine', 'oyster sauce', 'sugar', 'vinegar', 'soy sauce', 'salmon', 'avocado', 'cucumber', 'spinach', 'mint', 'lime', 'honey', 'olive oil', 'eggs', 'white wine vinegar', 'english muffins', 'butter', 'smoked salmon', 'lemon juice', 'white wine vinegar', 'egg', 'unsalted butter', 'potatoes', 'olive oil', 'bacon', 'garlic clove', 'maple syrup', 'parsley', 'salt', 'pepper', 'allspice', 'butter', 'flour', 'beef stock', 'onion', 'parsley', 'beef', 'salt', 'pepper', 'nutmeg', 'flour', 'eggs', 'breadcrumbs', 'olive oil', 'mushrooms', 'chicken legs', 'passata', 'chicken stock cube', 'black olives', 'parsley', 'shortcrust pastry', 'eggs', 'muscovado sugar', 'raisins', 'vanilla extract', 'butter', 'single cream', 'walnuts', 'chicken', 'butter', 'olive oil', 'red onions', 'red pepper', 'chorizo', 'sun-dried tomatoes', 'garlic', 'basmati rice', 'tomato puree', 'paprika', 'bay leaves', 'thyme', 'chicken stock', 'dry white wine', 'lemons', 'black olives', 'salt', 'pepper', 'olive oil', 'red onions', 'red chilli', 'garlic', 'coriander', 'cherry tomatoes', 'caster sugar', 'eggs', 'feta', 'butter', 'onion', 'cardamom', 'turmeric', 'cinnamon stick', 'bay leaf', 'basmati rice', 'chicken stock', 'smoked haddock', 'eggs', 'parsley', 'lemon', 'potatoes', 'red onions', 'garlic', 'lime', 'bread', 'pork', 'barbeque sauce', 'hotsauce', 'tomato ketchup', 'sugar', 'vegetable oil', 'salt', 'pepper', 'rice', 'onion', 'lime', 'garlic clove', 'cucumber', 'carrots', 'ground beef', 'soy sauce', 'potatoes', 'bay leaf', 'shallots', 'butter', 'kale', 'sausages', 'milk', 'nutmeg', 'salt', 'pepper', 'water', 'peas', 'pork', 'vegetable stock cube', 'celery', 'carrots', 'potatoes', 'onion', 'leek', 'celeriac', 'sausages', 'kale', 'bacon', 'garlic', 'onion', 'paprika', 'thyme', 'tomato', 'red pepper', 'banana', 'vegetable oil', 'chicken', 'salt', 'pepper', 'ginger cordial', 'ginger', 'spring onions', 'rice', 'water', 'coriander', 'mars bar', 'butter', 'rice krispies', 'milk chocolate', 'spaghetti', 'egg yolks', 'salt', 'bacon', 'pecorino', 'black pepper', 'potatoes', 'carrots', 'scallions', 'garlic', 'bread', 'garlic powder', 'soy sauce', 'ground beef', 'vegetable oil', 'sugar', 'butter', 'minced beef', 'olive oil', 'sesame seed burger buns', 'onion', 'iceberg lettuce', 'cheese', 'dill pickles', 'mayonnaise', 'white wine vinegar', 'pepper', 'mustard', 'onion salt', 'garlic powder', 'paprika', 'bacon', 'kielbasa', 'pork', 'flour', 'garlic', 'onion', 'mushrooms', 'cabbage', 'sauerkraut', 'red wine', 'bay leaf', 'basil', 'marjoram', 'paprika', 'caraway seed', 'hotsauce', 'beef stock', 'tomato puree', 'diced tomatoes', 'worcestershire sauce', 'potatoes', 'spring onions', 'plain flour', 'egg white', 'milk', 'bicarbonate of soda', 'butter', 'vegetable oil', 'cherry tomatoes', 'bacon', 'egg', 'beef', 'vegetable oil', 'cinnamon stick', 'cloves', 'star anise', 'cardamom', 'coconut cream', 'water', 'tamarind paste', 'lime', 'sugar', 'challots', 'filo pastry', 'minced beef', 'onion', 'oil', 'salt', 'pepper', 'potatoes', 'apples', 'garlic', 'lemon', 'pork', 'zucchini', 'chicken stock', 'vegetable oil', 'sugar', 'butter', 'tomatoes', 'olive oil', 'onion', 'red pepper', 'green pepper', 'garlic', 'cumin', 'paprika', 'salt', 'chili powder', 'eggs', 'cashew nuts', 'icing sugar', 'egg yolks', 'orange blossom water', 'icing sugar', 'almonds', 'lentils', 'onion', 'carrots', 'tomato puree', 'cumin', 'paprika', 'mint', 'thyme', 'black pepper', 'red pepper flakes', 'vegetable stock', 'water', 'sea salt', 'flour', 'salt', 'sugar', 'butter', 'water', 'rhubarb', 'strawberries', 'cornstarch', 'sugar', 'cinnamon', 'lemon juice', 'unsalted butter', 'milk', 'sugar', 'orange', 'demerara sugar', 'grand marnier', 'christmas pudding', 'custard', 'mascarpone', 'double cream', 'flaked almonds', 'dark chocolate', 'almonds', 'bramley apples', 'candied peel', 'nutmeg', 'raisins', 'plain flour', 'breadcrumbs', 'muscovado sugar', 'eggs', 'brandy', 'butter', 'tomatoes', 'sugar', 'olive oil', 'onion', 'garlic clove', 'lamb', 'cinnamon', 'tomato puree', 'rice', 'chicken stock', 'dill', 'chopped parsley', 'mint', 'herring', 'onion', 'olive oil', 'allspice', 'pepper', 'bay leaf', 'chicken thighs', 'coriander', 'cumin', 'cardamom', 'cayenne pepper', 'paprika', 'lemon juice', 'olive oil', 'greek yogurt', 'garlic clove', 'cumin', 'lemon juice', 'lettuce', 'tomato', 'pita bread', 'spring onions', 'olive oil', 'red chilli', 'garlic', 'prawns', 'feta', 'butter', 'plain flour', 'egg', 'white wine vinegar', 'rice', 'coconut milk', 'water', 'salt', 'corn flour', 'flour', 'eggs', 'coconut cream', 'sugar', 'sushi rice', 'rice wine', 'caster sugar', 'mayonnaise', 'rice wine', 'soy sauce', 'cucumber', 'butter', 'muscovado sugar', 'plain flour', 'eggs', 'ground almonds', 'sherry', 'candied peel', 'glace cherry', 'raisins', 'currants', 'pecan nuts', 'lemon', 'mixed spice', 'rose water', 'vanilla extract', 'baking powder', 'beef brisket', 'small potatoes', 'carrots', 'cabbage', 'kale', 'italian fennel sausages', 'cabbage', 'garlic clove', 'onion', 'shiitake mushrooms', 'chicken stock', 'salt', 'pepper', 'quinoa', 'butter', 'red chilli', 'garlic', 'chicken breast', 'olive oil', 'black olives', 'red onions', 'feta', 'mint', 'lemon', 'chicken breast', 'pickle juice', 'egg', 'milk', 'flour', 'icing sugar', 'paprika', 'salt', 'black pepper', 'garlic powder', 'celery salt', 'cayenne pepper', 'olive oil', 'sesame seed burger buns', 'butter', 'pork chops', 'bacon', 'potatoes', 'carrots', 'swede', 'cabbage', 'bay leaf', 'cider', 'chicken stock', 'minced beef', 'minced pork', 'onion', 'garlic', 'parsley', 'paprika', 'baking powder', 'breadcrumbs', 'water', 'vegetable stock cube', 'salt', 'pepper', 'potatoes', 'courgettes', 'carrots', 'green pepper', 'aubergine', 'onion', 'lamb shoulder', 'garlic sauce', 'tomato puree', 'olive oil', 'thyme', 'white wine', 'pepper', 'cannellini beans', 'vegetable oil', 'tomatoes', 'challots', 'garlic', 'parsley', 'chorizo', 'beef brisket', 'bread', 'lettuce', 'tomato', 'ham', 'mozzarella', 'bacon', 'egg', 'onion', 'pepper']\n"
     ]
    }
   ],
   "source": [
    "some_list=list()\n",
    "with open(\"data/list_of_ingredients.txt\", encoding=\"utf-8\") as f:\n",
    "    for line in f.readlines():\n",
    "        some_list.append(line.rstrip())\n",
    "print(some_list)"
   ]
  },
  {
   "cell_type": "code",
   "execution_count": 23,
   "metadata": {},
   "outputs": [
    {
     "name": "stdout",
     "output_type": "stream",
     "text": [
      "['Chicken', 'Salmon', 'Beef', 'Pork', 'Avocado', 'Apple Cider Vinegar', 'Asparagus', 'Aubergine', 'Baby Plum Tomatoes', 'Bacon', 'Baking Powder', 'Balsamic Vinegar', 'Basil', 'Basil Leaves', 'Basmati Rice', 'Bay Leaf', 'Bay Leaves', 'Beef Brisket', 'Beef Fillet', 'Beef Gravy', 'Beef Stock', 'Bicarbonate Of Soda', 'Biryani Masala', 'Black Pepper', 'Black Treacle', 'Borlotti Beans', 'Bowtie Pasta', 'Bramley Apples', 'Brandy', 'Bread', 'Breadcrumbs', 'Broccoli', 'Brown Lentils', 'Brown Rice', 'Brown Sugar', 'Butter', 'Cacao', 'Cajun', 'Canned Tomatoes', 'Cannellini Beans', 'Cardamom', 'Carrots', 'Cashew Nuts', 'Cashews', 'Caster Sugar', 'Cayenne Pepper', 'Celeriac', 'Celery', 'Celery Salt', 'Challots', 'Charlotte Potatoes', 'Cheddar Cheese', 'Cheese', 'Cheese Curds', 'Cherry Tomatoes', 'Chestnut Mushroom', 'Chicken Breast', 'Chicken Breasts', 'Chicken Legs', 'Chicken Stock', 'Chicken Thighs', 'Chickpeas', 'Chili Powder', 'Chilled Butter', 'Chilli', 'Chilli Powder', 'Chinese Broccoli', 'Chocolate Chips', 'Chopped Onion', 'Chopped Parsley', 'Chopped Tomatoes', 'Chorizo', 'Christmas Pudding', 'Cilantro', 'Cinnamon', 'Cinnamon Stick', 'Cloves', 'Coco Sugar', 'Cocoa', 'Coconut Cream', 'Coconut Milk', 'Colby Jack Cheese', 'Cold Water', 'Condensed Milk', 'Coriander', 'Coriander Leaves', 'Coriander Seeds', 'Corn Tortillas', 'Cornstarch', 'Cream', 'Creme Fraiche', 'Cubed Feta Cheese', 'Cucumber', 'Cumin', 'Cumin Seeds', 'Curry Powder', 'Dark Brown Sugar', 'Dark Soft Brown Sugar', 'Dark Soy Sauce', 'Demerara Sugar', 'Diced Tomatoes', 'Digestive Biscuits', 'Dill', 'Doner Meat', 'Double Cream', 'Dried Oregano', 'Dry White Wine', 'Egg Plants', 'Egg Rolls', 'Egg White', 'Egg Yolks', 'Eggs', 'Enchilada Sauce', 'English Mustard', 'Extra Virgin Olive Oil', 'Fajita Seasoning', 'Farfalle', 'Fennel Bulb', 'Fennel Seeds', 'Fenugreek', 'Feta', 'Fish Sauce', 'Flaked Almonds', 'Flax Eggs', 'Flour', 'Flour Tortilla', 'Floury Potatoes', 'Free-range Egg, Beaten', 'Free-range Eggs, Beaten', 'French Lentils', 'Fresh Basil', 'Fresh Thyme', 'Freshly Chopped Parsley', 'Fries', 'Full Fat Yogurt', 'Garam Masala', 'Garlic', 'Garlic Clove', 'Garlic Powder', 'Garlic Sauce', 'Ghee', 'Ginger', 'Ginger Cordial', 'Ginger Garlic Paste', 'Ginger Paste', 'Golden Syrup', 'Gouda Cheese', 'Granulated Sugar', 'Grape Tomatoes', 'Greek Yogurt', 'Green Beans', 'Green Chilli', 'Green Olives', 'Green Red Lentils', 'Green Salsa', 'Ground Almonds', 'Ground Cumin', 'Ground Ginger', 'Gruyère', 'Hard Taco Shells', 'Harissa Spice', 'Heavy Cream', 'Honey', 'Horseradish', 'Hot Beef Stock', 'Hotsauce', 'Ice Cream', 'Italian Fennel Sausages', 'Italian Seasoning', 'Jalapeno', 'Jasmine Rice', 'Jerusalem Artichokes', 'Kale', 'Khus Khus', 'King Prawns', 'Kosher Salt', 'Lamb', 'Lamb Loin Chops', 'Lamb Mince', 'Lasagne Sheets', 'Lean Minced Beef', 'Leek', 'Lemon', 'Lemon Juice', 'Lemon Zest', 'Lemons', 'Lettuce', 'Lime', 'Little Gem Lettuce', 'Macaroni', 'Mackerel', 'Madras Paste', 'Marjoram', 'Massaman Curry Paste', 'Medjool Dates', 'Meringue Nests', 'Milk', 'Minced Garlic', 'Miniature Marshmallows', 'Mint', 'Monterey Jack Cheese', 'Mozzarella Balls', 'Muscovado Sugar', 'Mushrooms', 'Mustard', 'Mustard Powder', 'Mustard Seeds', 'Nutmeg', 'Oil', 'Olive Oil', 'Onion Salt', 'Onions', 'Orange', 'Orange Zest', 'Oregano', 'Oyster Sauce', 'Paprika', 'Parma Ham', 'Parmesan', 'Parmesan Cheese', 'Parmigiano-reggiano', 'Parsley', 'Peanut Butter', 'Peanut Oil', 'Peanuts', 'Peas', 'Pecorino', 'Penne Rigate', 'Pepper', 'Pine Nuts', 'Pitted Black Olives', 'Plain Chocolate', 'Plain Flour', 'Plum Tomatoes', 'Potato Starch', 'Potatoes', 'Prawns', 'Puff Pastry', 'Raspberry Jam', 'Raw King Prawns', 'Red Chile Flakes', 'Red Chilli', 'Red Chilli Powder', 'Red Onions', 'Red Pepper', 'Red Pepper Flakes', 'Red Wine', 'Refried Beans', 'Rice', 'Rice Noodles', 'Rice Stick Noodles', 'Rice Vermicelli', 'Rigatoni', 'Rocket', 'Rolled Oats', 'Saffron', 'Sage', 'Sake', 'Salsa', 'Salt', 'Salted Butter', 'Sausages', 'Sea Salt', 'Self-raising Flour', 'Semi-skimmed Milk', 'Sesame Seed', 'Shallots', 'Shredded Mexican Cheese', 'Shredded Monterey Jack Cheese', 'Small Potatoes', 'Smoked Paprika', 'Smoky Paprika', 'Sour Cream', 'Soy Sauce', 'Soya Milk', 'Spaghetti', 'Spinach', 'Spring Onions', 'Squash', 'Stir-fry Vegetables', 'Strawberries', 'Sugar', 'Sultanas', 'Sunflower Oil', 'Tamarind Ball', 'Tamarind Paste', 'Thai Fish Sauce', 'Thai Green Curry Paste', 'Thai Red Curry Paste', 'Thyme', 'Tomato Ketchup', 'Tomato Puree', 'Tomatoes', 'Toor Dal', 'Tuna', 'Turmeric', 'Turmeric Powder', 'Turnips', 'Vanilla', 'Vanilla Extract', 'Veal', 'Vegan Butter', 'Vegetable Oil', 'Vegetable Stock', 'Vegetable Stock Cube', 'Vinaigrette Dressing', 'Vine Leaves', 'Vinegar', 'Water', 'White Chocolate Chips', 'White Fish', 'White Fish Fillets', 'White Vinegar', 'White Wine', 'Whole Milk', 'Whole Wheat', 'Wholegrain Bread', 'Worcestershire Sauce', 'Yogurt', 'Zucchini', 'Pretzels', 'Cream Cheese', 'Icing Sugar', 'Toffee Popcorn', 'Caramel', 'Caramel Sauce', 'Tagliatelle', 'Fettuccine', 'Clotted Cream', 'Corn Flour', 'Mussels', 'Fideo', 'Monkfish', 'Vermicelli Pasta', 'Baby Squid', 'Squid', 'Fish Stock', 'Pilchards', 'Black Olives', 'Onion', 'Tomato', 'Duck', 'Duck Legs', 'Chicken Stock Cube', 'Pappardelle Pasta', 'Paccheri Pasta', 'Linguine Pasta', 'Sugar Snap Peas', 'Crusty Bread', 'Fromage Frais', 'Clams', 'Passata', 'Rapeseed Oil', 'Stilton Cheese', 'Lamb Leg', 'Lamb Shoulder', 'Apricot', 'Butternut Squash', 'Couscous', 'Minced Beef', 'Turkey Mince', 'Barbeque Sauce', 'Sweetcorn', 'Goose Fat', 'Duck Fat', 'Fennel', 'Red Wine Vinegar', 'Haricot Beans', 'Rosemary', 'Butter Beans', 'Pinto Beans', 'Tomato Sauce', 'Mascarpone', 'Mozzarella', 'Ricotta', 'Dried Apricots', 'Capers', 'Banana', 'Raspberries', 'Blueberries', 'Walnuts', 'Pecan Nuts', 'Maple Syrup', 'Light Brown Soft Sugar', 'Dark Brown Soft Sugar', 'Dark Chocolate Chips', 'Milk Chocolate', 'Dark Chocolate', 'Pumpkin', 'Shortcrust Pastry', 'Peanut Cookies', 'Gelatine Leafs', 'Peanut Brittle', 'Peaches', 'Yellow Pepper', 'Green Pepper', 'Courgettes', 'Tinned Tomatos', 'Chestnuts', 'Wild Mushrooms', 'Truffle Oil', 'Paneer', 'Naan Bread', 'Lentils', 'Roasted Vegetables', 'Kidney Beans', 'Mixed Grain', 'Tahini', 'Tortillas', 'Udon Noodles', 'Cabbage', 'Shiitake Mushrooms', 'Mirin', 'Sesame Seed Oil', 'Baguette', 'Vine Tomatoes', 'Suet', 'Swede', 'Ham', 'Oysters', 'Stout', 'Lard', 'Lamb Kidney', 'Beef Kidney', 'Haddock', 'Smoked Haddock', 'Brussels Sprouts', 'Raisins', 'Currants', 'Custard', 'Mixed Peel', 'Redcurrants', 'Blackberries', 'Hazlenuts', 'Braeburn Apples', 'Red Food Colouring', 'Pink Food Colouring', 'Blue Food Colouring', 'Yellow Food Colouring', 'Apricot Jam', 'Marzipan', 'Almonds', 'Black Pudding', 'Baked Beans', 'White Flour', 'Yeast', 'Fruit Mix', 'Dried Fruit', 'Cherry', 'Glace Cherry', 'Treacle', 'Oatmeal', 'Oats', 'Egg', 'Beef Shin', 'Bouquet Garni', 'Single Cream', 'Red Wine Jelly', 'Apples', 'Goats Cheese', 'Prosciutto', 'Unsalted Butter', 'Brie', 'Tarragon Leaves', 'Chives', 'Pears', 'White Chocolate', 'Star Anise', 'Tiger Prawns', 'Custard Powder', 'Desiccated Coconut', 'Frozen Peas', 'Minced Pork', 'Creamed Corn', 'Sun-Dried Tomatoes', 'Dijon Mustard', 'Tabasco Sauce', 'Canola Oil', 'Cod', 'Salt Cod', 'Ackee', 'Jerk', 'Ground Beef', 'Baby Aubergine', 'Paella Rice', 'Scotch Bonnet', 'Oxtail', 'Broad Beans', 'Red Snapper', 'Malt Vinegar', 'Rice Vinegar', 'Water Chestnut', 'Tofu', 'Doubanjiang', 'Fermented Black Beans', 'Scallions', 'Sichuan Pepper', 'Wonton Skin', 'Starch', 'Rice wine', 'Cooking wine', 'Duck Sauce', 'Gochujang', 'Bean Sprouts', 'Noodles', 'Wood Ear Mushrooms', 'Dark Rum', 'Light Rum', 'Rum', 'English Muffins', 'Muffins', 'White Wine Vinegar', 'Smoked Salmon', 'Mars Bar', 'Rice Krispies', 'Ancho Chillies', 'Almond Milk', 'Allspice', 'Almond Extract', 'Tripe', 'Goat Meat', 'Black Beans', 'Anchovy Fillet', 'Ras el hanout', 'Filo Pastry', 'Orange Blossom Water', 'Candied Peel', 'Grand Marnier', 'Sherry', 'Rose water', 'Mixed Spice', 'Mincemeat', 'Sweet Potatoes', 'Bread Rolls', 'Bun', 'Potatoe Buns', 'Ground Pork', 'Pork Chops', 'Yukon Gold Potatoes', 'Yellow Onion', 'Beef Stock Concentrate', 'Chicken Stock Concentrate', 'Persian Cucumber', 'Mayonnaise', 'Sriracha', 'Rhubarb', 'Pita Bread', 'Bulgur Wheat', 'Quinoa', 'Dill Pickles', 'Sesame Seed Burger Buns', 'Buns', 'Iceberg Lettuce', 'Gherkin Relish', 'Cheese Slices', 'Shortening', 'Warm Water', 'Boiling Water', 'Pickle Juice', 'Powdered Sugar', 'Kielbasa', 'Polish Sausage', 'Sauerkraut', 'Caraway Seed', 'Herring', 'Jam', 'Mulukhiyah', 'Sushi Rice', 'Figs', 'Cider', 'Beetroot', 'Sardines', 'Ciabatta', 'Buckwheat']\n",
      "None\n"
     ]
    },
    {
     "data": {
      "text/plain": [
       "'print(len([id[\"strMeal\"] for id in resp[\"meals\"]]))\\nprint([id[\"strMeal\"] for id in resp[\"meals\"]])'"
      ]
     },
     "execution_count": 23,
     "metadata": {},
     "output_type": "execute_result"
    }
   ],
   "source": [
    "page = \"http://www.themealdb.com/api/json/v1/1/list.php?i=list\" #categories.php?\"\n",
    "response = requests.get(page)\n",
    "resp = response.json() #.text()\n",
    "print([r[\"strIngredient\"] for r in resp[\"meals\"]])\n",
    "#jsonfile = json.loads(resp)\n",
    "#print([cat[\"strIngredient\"] for cat in resp[\"meals\"]])\n",
    "#print(jsonfile)\n",
    "\n",
    "page = \"https://www.themealdb.com/api/json/v1/1/filter.php?i=doner\" #categories.php?\"\n",
    "response = requests.get(page)\n",
    "resp = response.json() #.text()'''\n",
    "print(resp[\"meals\"])\n",
    "'''print(len([id[\"strMeal\"] for id in resp[\"meals\"]]))\n",
    "print([id[\"strMeal\"] for id in resp[\"meals\"]])'''\n",
    "\n",
    "# ['52940', '52846', '52796', '52934', '52956', '52795', '52813', '52945', '52774', '53039', '52814']"
   ]
  },
  {
   "cell_type": "code",
   "execution_count": 24,
   "metadata": {},
   "outputs": [
    {
     "ename": "TypeError",
     "evalue": "list indices must be integers or slices, not str",
     "output_type": "error",
     "traceback": [
      "\u001b[1;31m---------------------------------------------------------------------------\u001b[0m",
      "\u001b[1;31mTypeError\u001b[0m                                 Traceback (most recent call last)",
      "Cell \u001b[1;32mIn [24], line 20\u001b[0m\n\u001b[0;32m     16\u001b[0m     recipe_resp\u001b[39m.\u001b[39mappend(resp)\n\u001b[0;32m     17\u001b[0m     \u001b[39m'''if resp[\"meals\"][0][\"strCategory\"]==\"Chicken\" and resp[\"meals\"][0][\"strArea\"]==\"Italian\":\u001b[39;00m\n\u001b[0;32m     18\u001b[0m \u001b[39m        print(resp[\"meals\"][0])'''\u001b[39;00m\n\u001b[1;32m---> 20\u001b[0m \u001b[39mprint\u001b[39m(recipe_resp[\u001b[39m\"\u001b[39;49m\u001b[39mmeals\u001b[39;49m\u001b[39m\"\u001b[39;49m])\n\u001b[0;32m     21\u001b[0m \u001b[39m#jsonfile = json.loads(resp)\u001b[39;00m\n\u001b[0;32m     22\u001b[0m \u001b[39m'''ingredient_keys = [k for k in resp[\"meals\"][0].keys() if k.startswith(\"strIngredient\")]\u001b[39;00m\n\u001b[0;32m     23\u001b[0m \u001b[39mfor ik in ingredient_keys:\u001b[39;00m\n\u001b[0;32m     24\u001b[0m \u001b[39m    print(resp[\"meals\"][0][ik])'''\u001b[39;00m\n",
      "\u001b[1;31mTypeError\u001b[0m: list indices must be integers or slices, not str"
     ]
    }
   ],
   "source": [
    "'''page = \"http://www.themealdb.com/api/json/v1/1/search.php?f=c\" # \"http://www.themealdb.com/api/json/v1/1/filter.php?c=Seafood\"\n",
    "response = requests.get(page)\n",
    "resp = response.json() #.text()\n",
    "#jsonfile = json.loads(resp)\n",
    "print(len(resp[\"meals\"]))\n",
    "#print(jsonfile)\n",
    "meal_id = resp[\"meals\"][3][\"idMeal\"]'''\n",
    "\n",
    "recipe_resp = list()\n",
    "\n",
    "meal_id_list=['52940', '52846', '52796', '52934', '52956', '52795', '52813', '52945', '52774', '53039', '52814']\n",
    "for mid in meal_id_list:\n",
    "    page = f\"http://www.themealdb.com/api/json/v1/1/lookup.php?i={mid}\"\n",
    "    response = requests.get(page)\n",
    "    resp = response.json() #.text()\n",
    "    recipe_resp.append(resp)\n",
    "    '''if resp[\"meals\"][0][\"strCategory\"]==\"Chicken\" and resp[\"meals\"][0][\"strArea\"]==\"Italian\":\n",
    "        print(resp[\"meals\"][0])'''\n",
    "\n",
    "print(recipe_resp[\"meals\"])\n",
    "#jsonfile = json.loads(resp)\n",
    "'''ingredient_keys = [k for k in resp[\"meals\"][0].keys() if k.startswith(\"strIngredient\")]\n",
    "for ik in ingredient_keys:\n",
    "    print(resp[\"meals\"][0][ik])'''\n",
    "#print(jsonfile)\n",
    "#df_nested_list = pd.json_normalize(resp, record_path =['meals'])\n",
    "#display(df_nested_list)\n",
    "\n",
    "#USAR SIMILAR SENTENCES PYTHON"
   ]
  },
  {
   "cell_type": "code",
   "execution_count": 38,
   "metadata": {},
   "outputs": [
    {
     "name": "stdout",
     "output_type": "stream",
     "text": [
      "['Jamaican', 'British', 'Italian', 'French', 'Chinese', 'Indian', 'American', 'Chinese', 'Thai', 'Portuguese', 'Thai']\n"
     ]
    }
   ],
   "source": [
    "print(set([recipe_resp[rr][\"meals\"][0][\"strArea\"] for rr in range(len(recipe_resp))]))"
   ]
  },
  {
   "cell_type": "code",
   "execution_count": 44,
   "metadata": {},
   "outputs": [
    {
     "ename": "KeyError",
     "evalue": "'calories'",
     "output_type": "error",
     "traceback": [
      "\u001b[1;31m---------------------------------------------------------------------------\u001b[0m",
      "\u001b[1;31mKeyError\u001b[0m                                  Traceback (most recent call last)",
      "Cell \u001b[1;32mIn[44], line 6\u001b[0m\n\u001b[0;32m      2\u001b[0m     data \u001b[39m=\u001b[39m json\u001b[39m.\u001b[39mloads(jsonfile\u001b[39m.\u001b[39mread())\n\u001b[0;32m      4\u001b[0m \u001b[39mimport\u001b[39;00m \u001b[39mre\u001b[39;00m\n\u001b[1;32m----> 6\u001b[0m servings \u001b[39m=\u001b[39m [d[\u001b[39m\"\u001b[39m\u001b[39mcalories\u001b[39m\u001b[39m\"\u001b[39m] \u001b[39mfor\u001b[39;00m i \u001b[39min\u001b[39;00m \u001b[39mrange\u001b[39m(\u001b[39m200\u001b[39m) \u001b[39mfor\u001b[39;00m d \u001b[39min\u001b[39;00m data[i][\u001b[39m\"\u001b[39m\u001b[39mrecipe\u001b[39m\u001b[39m\"\u001b[39m]]\n\u001b[0;32m      7\u001b[0m \u001b[39mprint\u001b[39m(\u001b[39mlen\u001b[39m(servings))\n\u001b[0;32m      8\u001b[0m \u001b[39mprint\u001b[39m(servings)\n",
      "Cell \u001b[1;32mIn[44], line 6\u001b[0m, in \u001b[0;36m<listcomp>\u001b[1;34m(.0)\u001b[0m\n\u001b[0;32m      2\u001b[0m     data \u001b[39m=\u001b[39m json\u001b[39m.\u001b[39mloads(jsonfile\u001b[39m.\u001b[39mread())\n\u001b[0;32m      4\u001b[0m \u001b[39mimport\u001b[39;00m \u001b[39mre\u001b[39;00m\n\u001b[1;32m----> 6\u001b[0m servings \u001b[39m=\u001b[39m [d[\u001b[39m\"\u001b[39;49m\u001b[39mcalories\u001b[39;49m\u001b[39m\"\u001b[39;49m] \u001b[39mfor\u001b[39;00m i \u001b[39min\u001b[39;00m \u001b[39mrange\u001b[39m(\u001b[39m200\u001b[39m) \u001b[39mfor\u001b[39;00m d \u001b[39min\u001b[39;00m data[i][\u001b[39m\"\u001b[39m\u001b[39mrecipe\u001b[39m\u001b[39m\"\u001b[39m]]\n\u001b[0;32m      7\u001b[0m \u001b[39mprint\u001b[39m(\u001b[39mlen\u001b[39m(servings))\n\u001b[0;32m      8\u001b[0m \u001b[39mprint\u001b[39m(servings)\n",
      "\u001b[1;31mKeyError\u001b[0m: 'calories'"
     ]
    }
   ],
   "source": [
    "# \"recipes_clean_healthyfitnessmeals\"\n",
    "with open(\"data/recipes_raw.json\") as jsonfile:\n",
    "    data = json.loads(jsonfile.read())\n",
    "\n",
    "import re\n",
    "\n",
    "servings = [d[\"calories\"] for i in range(200) for d in data[i][\"recipe\"]]\n",
    "print(len(servings))\n",
    "print(servings)\n",
    "'''for s in servings:\n",
    "    if \"-\" in s:\n",
    "        split_s = [int(i) for i in re.findall(r'\\d+', s)]\n",
    "        avg_serving =  int(round(sum(split_s) / len(split_s), 0))\n",
    "        print(avg_serving)\n",
    "    else:\n",
    "        print(int(re.findall(r'\\d+', s)[0]))'''\n"
   ]
  },
  {
   "cell_type": "code",
   "execution_count": 84,
   "metadata": {},
   "outputs": [
    {
     "name": "stdout",
     "output_type": "stream",
     "text": [
      "753\n"
     ]
    },
    {
     "data": {
      "text/plain": [
       "'regex = re.compile(r\\'/((\\\\w+)(,\\\\s*\\\\w+)*)((\\\\s*and\\\\s*\\\\w+)*)/gm\\')\\n\\ningredients_list = df[\"ingredients.item\"]\\nlist_ing = list()\\n#total_ingredients = ingredients_list[0] \\nfor ing_list in ingredients_list: #[0:10]:\\n    # print(ing_list)\\n    # joined_ingredients = \", \".join(ing_list)\\n    joined_ingredients = [i.split(\",\") for i in ing_list  if \",\" in i]\\n    # joined_ingredients = [\", \".join(i) if len(i)>1 else i for i in joined_ingredients ]\\n    # joined_ingredients = [i.split(\"and\") for i in joined_ingredients]\\n    #print([\", \".join(j) for j in joined_ingredients])\\n    #print(joined_ingredients)\\n    list_ing.append(joined_ingredients)'"
      ]
     },
     "execution_count": 84,
     "metadata": {},
     "output_type": "execute_result"
    }
   ],
   "source": [
    "with open(\"data/recipes_raw.json\") as jsonfile:\n",
    "    data = json.loads(jsonfile.read())\n",
    "\n",
    "df = pd.read_json(\"data/recipes_raw.json\")\n",
    "print(len(df))\n",
    "#print(df.columns, len(df))\n",
    "'''df_nested_list = pd.json_normalize(data, record_path =['recipe'])\n",
    "#print(df_nested_list.columns)\n",
    "#display(df_nested_list.columns, len(df_nested_list))\n",
    "\n",
    "df = pd.concat([df, df_nested_list], axis=1).drop(columns=[\"recipe\"]).reset_index().drop(columns=\"index\")\n",
    "display(df.head())'''\n",
    "# display(set([i[idx] for i in df[\"ingredients.item\"] for idx in range(len(i)) if \",\" in i[idx]]))\n",
    "\n",
    "'''regex = re.compile(r'/((\\w+)(,\\s*\\w+)*)((\\s*and\\s*\\w+)*)/gm')\n",
    "\n",
    "ingredients_list = df[\"ingredients.item\"]\n",
    "list_ing = list()\n",
    "#total_ingredients = ingredients_list[0] \n",
    "for ing_list in ingredients_list: #[0:10]:\n",
    "    # print(ing_list)\n",
    "    # joined_ingredients = \", \".join(ing_list)\n",
    "    joined_ingredients = [i.split(\",\") for i in ing_list  if \",\" in i]\n",
    "    # joined_ingredients = [\", \".join(i) if len(i)>1 else i for i in joined_ingredients ]\n",
    "    # joined_ingredients = [i.split(\"and\") for i in joined_ingredients]\n",
    "    #print([\", \".join(j) for j in joined_ingredients])\n",
    "    #print(joined_ingredients)\n",
    "    list_ing.append(joined_ingredients)'''\n"
   ]
  },
  {
   "cell_type": "code",
   "execution_count": 30,
   "metadata": {},
   "outputs": [
    {
     "name": "stdout",
     "output_type": "stream",
     "text": [
      "[{'sentence': 'low-calorie sweetener equivalent', 'quantity': '', 'unit': '', 'name': 'low-calorie sweetener equivalent', 'comment': '', 'other': '', 'confidence': {'quantity': 0, 'unit': 0, 'name': 0.902, 'comment': 0, 'other': 0}}]\n"
     ]
    }
   ],
   "source": [
    "from ingredient_parser import parse_ingredient\n",
    "from ingredient_parser import parse_multiple_ingredients\n",
    "list_ing = ['low-calorie sweetener equivalent']\n",
    "print(parse_multiple_ingredients(list_ing, confidence=True))"
   ]
  },
  {
   "cell_type": "code",
   "execution_count": 23,
   "metadata": {},
   "outputs": [
    {
     "name": "stdout",
     "output_type": "stream",
     "text": [
      "{'old_api_id': None, 'item_id': '589e284caf7fa7fd78c52c6a', 'item_name': 'Cheese Pizza - 1 medium pizza', 'leg_loc_id': 328, 'brand_id': '513fcc648110a4cafb90ca5e', 'brand_name': 'USDA', 'item_description': None, 'updated_at': '2017-02-10T20:59:35.000Z', 'nf_ingredient_statement': None, 'nf_water_grams': None, 'nf_calories': 1702.4, 'nf_calories_from_fat': 558.24, 'nf_total_fat': 62.03, 'nf_saturated_fat': 28.59, 'nf_trans_fatty_acid': 1.56, 'nf_polyunsaturated_fat': 10.77, 'nf_monounsaturated_fat': 16.69, 'nf_cholesterol': 108.8, 'nf_sodium': 3827.2, 'nf_total_carbohydrate': 213.29, 'nf_dietary_fiber': 14.71, 'nf_sugars': 22.91, 'nf_protein': 72.91, 'nf_vitamin_a_dv': 45.82, 'nf_vitamin_c_dv': 14.95, 'nf_calcium_dv': 120.34, 'nf_iron_dv': 88.16, 'nf_refuse_pct': None, 'nf_servings_per_container': None, 'nf_serving_size_qty': 1, 'nf_serving_size_unit': 'medium pizza', 'nf_serving_weight_grams': 640, 'allergen_contains_milk': None, 'allergen_contains_eggs': None, 'allergen_contains_fish': None, 'allergen_contains_shellfish': None, 'allergen_contains_tree_nuts': None, 'allergen_contains_peanuts': None, 'allergen_contains_wheat': None, 'allergen_contains_soybeans': None, 'allergen_contains_gluten': None, 'usda_fields': None}\n"
     ]
    }
   ],
   "source": [
    "# nutritioninx\n",
    "\n",
    "from nutritionix import Nutritionix\n",
    "nix = Nutritionix(app_id=\"be0d7e30\", api_key=\"aa65acf1b4629d8395eb8202fb7f9718\")\n",
    "\n",
    "ingredient = \"pizza\"\n",
    "\n",
    "# pizza = nix.search(\"pizza\").\n",
    "len_item = len(nix.search(ingredient, results=\"0:1\").json()[\"hits\"]) #, results=\"0:1\").json()[\"hits\"][0][\"fields\"][\"item_id\"]\n",
    "\n",
    "for i in range(len_item):\n",
    "    item_id = nix.search(ingredient, results=\"0:1\").json()[\"hits\"][i][\"fields\"][\"item_id\"]\n",
    "    print(nix.item(id=item_id).json())\n",
    "\n",
    "#result = nix.item(id=item_id).json()\n",
    "#print(result)"
   ]
  },
  {
   "cell_type": "code",
   "execution_count": 80,
   "metadata": {},
   "outputs": [
    {
     "name": "stdout",
     "output_type": "stream",
     "text": [
      "[('main-courses', 'https://healthyfitnessmeals.com/oven-roasted-chicken-breast/'), ('side-dishes', 'https://healthyfitnessmeals.com/one-pot-cheesy-creamed-corn/'), ('snacks', 'https://healthyfitnessmeals.com/easy-peanut-butter-cookies/'), ('main-courses', 'https://healthyfitnessmeals.com/leftover-turkey-soup-recipe/'), ('snacks', 'https://healthyfitnessmeals.com/air-fried-buffalo-chicken-wings/'), ('side-dishes', 'https://healthyfitnessmeals.com/caprese-salad-recipe/'), ('breakfast', 'https://healthyfitnessmeals.com/steel-cut-oats/'), ('side-dishes', 'https://healthyfitnessmeals.com/italian-chicken-veggie-soup/'), ('main-courses', 'https://healthyfitnessmeals.com/ground-turkey-chili/'), ('main-courses', 'https://healthyfitnessmeals.com/beef-shawarma/'), ('side-dishes', 'https://healthyfitnessmeals.com/sausage-white-bean-soup/'), ('side-dishes', 'https://healthyfitnessmeals.com/mango-black-bean-salad-recipe/'), ('main-courses', 'https://healthyfitnessmeals.com/cilantro-lime-chicken-and-rice-recipe/'), ('breakfast', 'https://healthyfitnessmeals.com/asparagus-stuffed-chicken-breast/'), ('main-courses', 'https://healthyfitnessmeals.com/lemon-dill-salmon-skewers/'), ('side-dishes', 'https://healthyfitnessmeals.com/caprese-pasta-salad/'), ('side-dishes', 'https://healthyfitnessmeals.com/cheesy-cauliflower-bake/'), ('breakfast', 'https://healthyfitnessmeals.com/berry-coconut-smoothie-bowl/'), ('drinks', 'https://healthyfitnessmeals.com/strawberries-and-cream-smoothie/'), ('snacks', 'https://healthyfitnessmeals.com/crockpot-spinach-artichoke-dip/'), ('breakfast', 'https://healthyfitnessmeals.com/chocolate-chia-protein-pudding/'), ('main-courses', 'https://healthyfitnessmeals.com/mediterranean-chicken-salad/'), ('side-dishes', 'https://healthyfitnessmeals.com/mexican-shrimp-cocktail-recipe/'), ('side-dishes', 'https://healthyfitnessmeals.com/baked-candied-sweet-potatoes/'), ('drinks', 'https://healthyfitnessmeals.com/pumpkin-pie-protein-shake/'), ('side-dishes', 'https://healthyfitnessmeals.com/work-with-me/'), ('snacks', 'https://healthyfitnessmeals.com/no-bake-chocolate-oat-bars/'), ('desserts', 'https://healthyfitnessmeals.com/healthy-pumpkin-cookie-skillet/'), ('side-dishes', 'https://healthyfitnessmeals.com/easy-maple-roasted-carrots/'), ('side-dishes', 'https://healthyfitnessmeals.com/how-to-make-croutons/'), ('drinks', 'https://healthyfitnessmeals.com/spaghetti-casserole-recipe/'), ('main-courses', 'https://healthyfitnessmeals.com/chicken-enchilada-casserole/'), ('snacks', 'https://healthyfitnessmeals.com/easy-apple-muffins/'), ('desserts', 'https://healthyfitnessmeals.com/pumpkin-oatmeal-cookies/'), ('desserts', 'https://healthyfitnessmeals.com/healthy-chocolate-chia-pudding/'), ('side-dishes', 'https://healthyfitnessmeals.com/chicken-gnocchi-soup/'), ('side-dishes', 'https://healthyfitnessmeals.com/whole-wheat-bread/'), ('main-courses', 'https://healthyfitnessmeals.com/enchilada-stuffed-zucchini-boats/'), ('desserts', 'https://healthyfitnessmeals.com/chocolate-chip-baked-oats/'), ('snacks', 'https://healthyfitnessmeals.com/healthy-oatmeal-bars/'), ('main-courses', 'https://healthyfitnessmeals.com/pan-seared-salmon-recipe/'), ('snacks', 'https://healthyfitnessmeals.com/healthier-pumpkin-muffins/'), ('snacks', 'https://healthyfitnessmeals.com/air-fryer-cauliflower-wings/'), ('snacks', 'https://healthyfitnessmeals.com/baked-oatmeal-protein-muffins/'), ('snacks', 'https://healthyfitnessmeals.com/lemon-blueberry-muffins/'), ('side-dishes', 'https://healthyfitnessmeals.com/southwest-pasta-salad/'), ('main-courses', 'https://healthyfitnessmeals.com/easy-chicken-quesadilla/'), ('side-dishes', 'https://healthyfitnessmeals.com/crispy-tuna-patties/'), ('breakfast', 'https://healthyfitnessmeals.com/scallion-pancakes/'), ('side-dishes', 'https://healthyfitnessmeals.com/hawaiian-shrimp-lettuce-wraps/'), ('side-dishes', 'https://healthyfitnessmeals.com/summer-corn-salad/'), ('side-dishes', 'https://healthyfitnessmeals.com/skinny-turkey-gravy-recipe/'), ('snacks', 'https://healthyfitnessmeals.com/keto-pecan-brittles-recipe/'), ('desserts', 'https://healthyfitnessmeals.com/berry-frozen-yogurt/'), ('side-dishes', 'https://healthyfitnessmeals.com/how-to-cut-a-potato-into-home-fries/'), ('side-dishes', 'https://healthyfitnessmeals.com/easy-zucchini-fritters-recipe/'), ('side-dishes', 'https://healthyfitnessmeals.com/oven-baked-chicken-wings/'), ('breakfast', 'https://healthyfitnessmeals.com/cranberry-orange-bread/'), ('side-dishes', 'https://healthyfitnessmeals.com/healthy-asparagus-soup/'), ('desserts', 'https://healthyfitnessmeals.com/keto-chocolate-cupcakes/'), ('side-dishes', 'https://healthyfitnessmeals.com/cheesy-potato-casserole/'), ('breakfast', 'https://healthyfitnessmeals.com/cookie-dough-bars/'), ('side-dishes', 'https://healthyfitnessmeals.com/roasted-beet-salad/'), ('snacks', 'https://healthyfitnessmeals.com/vegan-avocado-chocolate-truffles/'), ('breakfast', 'https://healthyfitnessmeals.com/peanut-butter-smoothie-bowl/'), ('side-dishes', 'https://healthyfitnessmeals.com/white-chicken-chili-recipe/'), ('breakfast', 'https://healthyfitnessmeals.com/fluffy-protein-waffles-recipe/'), ('snacks', 'https://healthyfitnessmeals.com/healthy-mexican-street-corn/'), ('breakfast', 'https://healthyfitnessmeals.com/work-with-me/'), ('breakfast', 'https://healthyfitnessmeals.com/peanut-butter-oatmeal-cookies/'), ('snacks', 'https://healthyfitnessmeals.com/easy-fruit-salad-recipe/'), ('breakfast', 'https://healthyfitnessmeals.com/no-bake-cheesecake/'), ('breakfast', 'https://healthyfitnessmeals.com/healthy-oatmeal-chocolate-chip-banana-bread/'), ('desserts', 'https://healthyfitnessmeals.com/no-bake-protein-energy-bites/'), ('side-dishes', 'https://healthyfitnessmeals.com/peanut-butter-yogurt-dip/'), ('side-dishes', 'https://healthyfitnessmeals.com/vegetable-beef-soup/'), ('main-courses', 'https://healthyfitnessmeals.com/chicken-and-pasta-recipe/'), ('main-courses', 'https://healthyfitnessmeals.com/stuffed-chicken-breast-recipe/'), ('desserts', 'https://healthyfitnessmeals.com/double-chocolate-protein-pudding/'), ('main-courses', 'https://healthyfitnessmeals.com/mongolian-chicken/'), ('side-dishes', 'https://healthyfitnessmeals.com/healthy-tuna-salad/'), ('snacks', 'https://healthyfitnessmeals.com/baked-keto-zucchini-fries/'), ('side-dishes', 'https://healthyfitnessmeals.com/easy-cheese-fondue/'), ('main-courses', 'https://healthyfitnessmeals.com/baked-honey-lemon-chicken/'), ('breakfast', 'https://healthyfitnessmeals.com/protein-overnight-oats-recipe/'), ('main-courses', 'https://healthyfitnessmeals.com/creamy-chicken-spinach/'), ('main-courses', 'https://healthyfitnessmeals.com/taco-casserole-recipe/'), ('main-courses', 'https://healthyfitnessmeals.com/baked-potato-wedges/'), ('snacks', 'https://healthyfitnessmeals.com/asparagus-stuffed-chicken-breast/'), ('main-courses', 'https://healthyfitnessmeals.com/shrimp-tacos-with-pineapple-salsa-recipe/'), ('side-dishes', 'https://healthyfitnessmeals.com/garlic-roasted-broccolini/'), ('breakfast', 'https://healthyfitnessmeals.com/papaya-breakfast-boats/'), ('main-courses', 'https://healthyfitnessmeals.com/greek-quinoa-salad-bowl/'), ('side-dishes', 'https://healthyfitnessmeals.com/maple-roasted-butternut-squash/'), ('main-courses', 'https://healthyfitnessmeals.com/greek-quinoa-bowls/'), ('main-courses', 'https://healthyfitnessmeals.com/baked-tomato-feta-pasta/'), ('breakfast', 'https://healthyfitnessmeals.com/blueberry-banana-smoothie/'), ('snacks', 'https://healthyfitnessmeals.com/coconut-chia-pudding/'), ('desserts', 'https://healthyfitnessmeals.com/chocolate-zucchini-cake/'), ('breakfast', 'https://healthyfitnessmeals.com/easy-crustless-quiche/'), ('main-courses', 'https://healthyfitnessmeals.com/baked-macaroni-and-cheese/'), ('side-dishes', 'https://healthyfitnessmeals.com/air-fryer-zucchini-chips/'), ('side-dishes', 'https://healthyfitnessmeals.com/easy-vegan-mac-and-cheese/'), ('breakfast', 'https://healthyfitnessmeals.com/banana-oatmeal-pancakes/'), ('desserts', 'https://healthyfitnessmeals.com/peanut-butter-cookie-dough-balls/'), ('snacks', 'https://healthyfitnessmeals.com/apple-pie-chia-pudding-recipe/'), ('side-dishes', 'https://healthyfitnessmeals.com/tomato-bruschetta-bread/'), ('snacks', 'https://healthyfitnessmeals.com/buffalo-chicken-dip/'), ('breakfast', 'https://healthyfitnessmeals.com/apple-cinnamon-muffins/'), ('snacks', 'https://healthyfitnessmeals.com/healthy-zucchini-brownies/'), ('main-courses', 'https://healthyfitnessmeals.com/grilled-chicken-wraps/'), ('main-courses', 'https://healthyfitnessmeals.com/honey-garlic-chicken-breast/'), ('desserts', 'https://healthyfitnessmeals.com/cranberry-almond-breakfast-cookies/'), ('main-courses', 'https://healthyfitnessmeals.com/lemon-shrimp-pasta-recipe/'), ('snacks', 'https://healthyfitnessmeals.com/vegan-strawberry-popsicles/'), ('breakfast', 'https://healthyfitnessmeals.com/cookie-dough-overnight-oats/'), ('main-courses', 'https://healthyfitnessmeals.com/creamy-dijon-mustard-chicken/'), ('snacks', 'https://healthyfitnessmeals.com/keto-chocolate-cake-balls/'), ('breakfast', 'https://healthyfitnessmeals.com/baked-avocado-egg/'), ('main-courses', 'https://healthyfitnessmeals.com/indian-chicken-curry-recipe/'), ('side-dishes', 'https://healthyfitnessmeals.com/brussels-sprouts-salad/'), ('main-courses', 'https://healthyfitnessmeals.com/chicken-parmesan-meatballs/'), ('desserts', 'https://healthyfitnessmeals.com/chocolate-peanut-butter-fudge/'), ('desserts', 'https://healthyfitnessmeals.com/healthy-banana-oatmeal-cookies/'), ('desserts', 'https://healthyfitnessmeals.com/cookies-and-cream-ice-cream/'), ('main-courses', 'https://healthyfitnessmeals.com/baked-eggplant-parmesan/'), ('desserts', 'https://healthyfitnessmeals.com/no-bake-peanut-butter-bars/'), ('breakfast', 'https://healthyfitnessmeals.com/pumpkin-chia-pudding/'), ('breakfast', 'https://healthyfitnessmeals.com/pumpkin-overnight-oats/'), ('desserts', 'https://healthyfitnessmeals.com/homemade-protein-granola/'), ('side-dishes', 'https://healthyfitnessmeals.com/easy-mustard-potato-salad/'), ('desserts', 'https://healthyfitnessmeals.com/homemade-oatmeal-granola-bars/'), ('side-dishes', 'https://healthyfitnessmeals.com/how-to-cut-green-onions/'), ('breakfast', 'https://healthyfitnessmeals.com/chicken-adobo-recipe/'), ('desserts', 'https://healthyfitnessmeals.com/healthy-blueberry-muffins/'), ('side-dishes', 'https://healthyfitnessmeals.com/vegan-sweet-potato-nachos/'), ('desserts', 'https://healthyfitnessmeals.com/easy-peanut-butter-cookies/'), ('snacks', 'https://healthyfitnessmeals.com/healthy-blueberry-breakfast-bars/'), ('side-dishes', 'https://healthyfitnessmeals.com/chickpea-feta-salad/'), ('main-courses', 'https://healthyfitnessmeals.com/grilled-chicken-margherita/'), ('side-dishes', 'https://healthyfitnessmeals.com/how-to-cook-rice-on-stove/'), ('breakfast', 'https://healthyfitnessmeals.com/lemon-poppy-seed-muffins/'), ('side-dishes', 'https://healthyfitnessmeals.com/grape-salad-recipe/'), ('side-dishes', 'https://healthyfitnessmeals.com/creamy-chicken-noodle-soup/'), ('snacks', 'https://healthyfitnessmeals.com/work-with-me/'), ('snacks', 'https://healthyfitnessmeals.com/peanut-butter-oatmeal-cookies/'), ('main-courses', 'https://healthyfitnessmeals.com/oven-baked-tilapia-recipe/'), ('snacks', 'https://healthyfitnessmeals.com/no-bake-cheesecake/'), ('side-dishes', 'https://healthyfitnessmeals.com/roasted-cauliflower-soup/'), ('desserts', 'https://healthyfitnessmeals.com/healthy-oatmeal-raisin-cookies/'), ('side-dishes', 'https://healthyfitnessmeals.com/baked-sweet-potato-fries/'), ('breakfast', 'https://healthyfitnessmeals.com/zucchini-blueberry-baked-oatmeal/'), ('desserts', 'https://healthyfitnessmeals.com/vegan-banana-bread/'), ('desserts', 'https://healthyfitnessmeals.com/keto-chocolate-chip-cookies/'), ('main-courses', 'https://healthyfitnessmeals.com/italian-stuffed-chicken-breast/'), ('breakfast', 'https://healthyfitnessmeals.com/chocolate-fruit-dip/'), ('side-dishes', 'https://healthyfitnessmeals.com/cowboy-caviar/'), ('main-courses', 'https://healthyfitnessmeals.com/chicken-tikka-masala-recipe/'), ('desserts', 'https://healthyfitnessmeals.com/no-bake-chocolate-oat-bars/'), ('snacks', 'https://healthyfitnessmeals.com/keto-buffalo-cauliflower-bites/'), ('snacks', 'https://healthyfitnessmeals.com/white-chocolate-cranberry-granola/'), ('desserts', 'https://healthyfitnessmeals.com/easy-apple-muffins/'), ('main-courses', 'https://healthyfitnessmeals.com/chicken-avocado-ranch-burrito/'), ('breakfast', 'https://healthyfitnessmeals.com/baked-egg-nests/'), ('main-courses', 'https://healthyfitnessmeals.com/beef-and-barley-soup/'), ('main-courses', 'https://healthyfitnessmeals.com/loaded-harvest-quinoa-salad/'), ('snacks', 'https://healthyfitnessmeals.com/date-energy-balls/'), ('main-courses', 'https://healthyfitnessmeals.com/slow-cooker-beef-stew/'), ('desserts', 'https://healthyfitnessmeals.com/peanut-butter-banana-muffins/'), ('breakfast', 'https://healthyfitnessmeals.com/meal-prep-paleo-waffle-recipe/'), ('desserts', 'https://healthyfitnessmeals.com/healthy-oatmeal-bars/'), ('main-courses', 'https://healthyfitnessmeals.com/spinach-and-mushroom-pasta/'), ('desserts', 'https://healthyfitnessmeals.com/greek-yogurt-skinny-cheesecakes/'), ('desserts', 'https://healthyfitnessmeals.com/healthy-pumpkin-chia-muffins/'), ('side-dishes', 'https://healthyfitnessmeals.com/spinach-apple-pecan-salad/'), ('side-dishes', 'https://healthyfitnessmeals.com/mexican-corn-soup/'), ('breakfast', 'https://healthyfitnessmeals.com/blueberry-puffed-protein-pancake/'), ('breakfast', 'https://healthyfitnessmeals.com/chunky-monkey-overnight-oats/'), ('snacks', 'https://healthyfitnessmeals.com/oven-baked-chicken-wings/'), ('main-courses', 'https://healthyfitnessmeals.com/sheet-pan-chicken-and-veggies/'), ('main-courses', 'https://healthyfitnessmeals.com/baked-buffalo-chicken-breast/'), ('desserts', 'https://healthyfitnessmeals.com/healthier-pumpkin-muffins/'), ('snacks', 'https://healthyfitnessmeals.com/mixed-berry-fruit-salad/'), ('breakfast', 'https://healthyfitnessmeals.com/pineapple-kale-smoothie/'), ('breakfast', 'https://healthyfitnessmeals.com/egg-and-veggie-breakfast/'), ('main-courses', 'https://healthyfitnessmeals.com/chicken-carbonara-recipe/'), ('main-courses', 'https://healthyfitnessmeals.com/garlic-roasted-mushrooms-recipe/'), ('desserts', 'https://healthyfitnessmeals.com/baked-oatmeal-protein-muffins/'), ('desserts', 'https://healthyfitnessmeals.com/lemon-blueberry-muffins/'), ('side-dishes', 'https://healthyfitnessmeals.com/roasted-butternut-squash-soup/'), ('side-dishes', 'https://healthyfitnessmeals.com/baked-potato-wedges/'), ('side-dishes', 'https://healthyfitnessmeals.com/greek-quinoa-salad-bowl/'), ('desserts', 'https://healthyfitnessmeals.com/keto-pecan-brittles-recipe/'), ('side-dishes', 'https://healthyfitnessmeals.com/homemade-baba-ganoush/'), ('desserts', 'https://healthyfitnessmeals.com/no-bake-blueberry-cheesecake/'), ('breakfast', 'https://healthyfitnessmeals.com/oatmeal-breakfast-bars/'), ('main-courses', 'https://healthyfitnessmeals.com/air-fryer-boneless-chicken-breast/'), ('desserts', 'https://healthyfitnessmeals.com/oatmeal-chocolate-chip-cookies/'), ('snacks', 'https://healthyfitnessmeals.com/peanut-butter-yogurt-dip/'), ('side-dishes', 'https://healthyfitnessmeals.com/easy-potatoes-au-gratin/'), ('breakfast', 'https://healthyfitnessmeals.com/how-to-make-mexican-seasoning/'), ('snacks', 'https://healthyfitnessmeals.com/no-bake-paleo-pumpkin-chocolate-truffles/'), ('main-courses', 'https://healthyfitnessmeals.com/crispy-baked-chicken-thighs/'), ('desserts', 'https://healthyfitnessmeals.com/healthy-protein-brownies-recipe/'), ('drinks', 'https://healthyfitnessmeals.com/asparagus-stuffed-chicken-breast/'), ('breakfast', 'https://healthyfitnessmeals.com/healthy-overnight-oats/'), ('main-courses', 'https://healthyfitnessmeals.com/easy-shrimp-fried-rice/'), ('main-courses', 'https://healthyfitnessmeals.com/cajun-chicken-pasta/'), ('desserts', 'https://healthyfitnessmeals.com/keto-cinnamon-rolls/'), ('main-courses', 'https://healthyfitnessmeals.com/easy-chicken-souvlaki/'), ('drinks', 'https://healthyfitnessmeals.com/berry-coconut-smoothie-bowl/'), ('breakfast', 'https://healthyfitnessmeals.com/pumpkin-baked-oatmeal/'), ('snacks', 'https://healthyfitnessmeals.com/easy-cheese-fondue/'), ('main-courses', 'https://healthyfitnessmeals.com/sweet-potato-breakfast-skillet-recipe/'), ('desserts', 'https://healthyfitnessmeals.com/vegan-avocado-chocolate-truffles/'), ('desserts', 'https://healthyfitnessmeals.com/easy-fruit-salad-recipe/'), ('snacks', 'https://healthyfitnessmeals.com/chicken-adobo-recipe/'), ('side-dishes', 'https://healthyfitnessmeals.com/oven-roasted-veggies/'), ('main-courses', 'https://healthyfitnessmeals.com/lemon-chicken-pasta-recipe/'), ('main-courses', 'https://healthyfitnessmeals.com/roasted-chickpea-avocado-salad/'), ('side-dishes', 'https://healthyfitnessmeals.com/parmesan-oven-baked-asparagus/'), ('breakfast', 'https://healthyfitnessmeals.com/easy-apple-crumble/'), ('main-courses', 'https://healthyfitnessmeals.com/chicken-noodle-soup-recipe/'), ('breakfast', 'https://healthyfitnessmeals.com/blueberry-scones/'), ('breakfast', 'https://healthyfitnessmeals.com/easy-banana-nut-bread/'), ('desserts', 'https://healthyfitnessmeals.com/asparagus-stuffed-chicken-breast/'), ('breakfast', 'https://healthyfitnessmeals.com/chocolate-chip-pumpkin-bread-recipe/'), ('side-dishes', 'https://healthyfitnessmeals.com/mediterranean-pasta-salad/'), ('side-dishes', 'https://healthyfitnessmeals.com/cheeseburger-sliders/'), ('snacks', 'https://healthyfitnessmeals.com/no-bake-birthday-cake-protein-bites/'), ('desserts', 'https://healthyfitnessmeals.com/coconut-chia-pudding/'), ('desserts', 'https://healthyfitnessmeals.com/chocolate-chia-protein-pudding/'), ('main-courses', 'https://healthyfitnessmeals.com/cilantro-lime-grilled-chicken-salad/'), ('main-courses', 'https://healthyfitnessmeals.com/fajita-stuffed-chicken-breast/'), ('side-dishes', 'https://healthyfitnessmeals.com/healthy-shrimp-salad/'), ('desserts', 'https://healthyfitnessmeals.com/peanut-butter-truffles/'), ('desserts', 'https://healthyfitnessmeals.com/banana-oatmeal-chocolate-chip-muffins/'), ('side-dishes', 'https://healthyfitnessmeals.com/easy-crab-corn-tomato-salad/'), ('breakfast', 'https://healthyfitnessmeals.com/berry-smoothie-bowl/'), ('desserts', 'https://healthyfitnessmeals.com/flourless-peanut-butter-chocolate-chip-protein-cookies/'), ('side-dishes', 'https://healthyfitnessmeals.com/creamy-garlic-mushrooms/'), ('breakfast', 'https://healthyfitnessmeals.com/healthy-zucchini-muffins/'), ('main-courses', 'https://healthyfitnessmeals.com/turkey-lemon-rice-soup/'), ('desserts', 'https://healthyfitnessmeals.com/healthy-zucchini-brownies/'), ('desserts', 'https://healthyfitnessmeals.com/fruit-bake-dessert/'), ('breakfast', 'https://healthyfitnessmeals.com/how-to-cut-an-apple/'), ('main-courses', 'https://healthyfitnessmeals.com/slow-cooker-southwest-turkey-chili/'), ('desserts', 'https://healthyfitnessmeals.com/vegan-strawberry-popsicles/'), ('snacks', 'https://healthyfitnessmeals.com/meal-prep-paleo-waffle-recipe/'), ('main-courses', 'https://healthyfitnessmeals.com/butternut-squash-mushroom-risotto/'), ('main-courses', 'https://healthyfitnessmeals.com/grilled-avocado-chicken-salad/'), ('desserts', 'https://healthyfitnessmeals.com/keto-chocolate-cake-balls/'), ('desserts', 'https://healthyfitnessmeals.com/healthy-banana-bread-recipe/'), ('side-dishes', 'https://healthyfitnessmeals.com/greek-pasta-salad/'), ('breakfast', 'https://healthyfitnessmeals.com/chocolate-banana-muffins/'), ('drinks', 'https://healthyfitnessmeals.com/peanut-butter-smoothie-bowl/'), ('breakfast', 'https://healthyfitnessmeals.com/mocha-protein-shake/'), ('drinks', 'https://healthyfitnessmeals.com/work-with-me/'), ('side-dishes', 'https://healthyfitnessmeals.com/vegetarian-pasta-salad/'), ('snacks', 'https://healthyfitnessmeals.com/vegan-sweet-potato-nachos/'), ('side-dishes', 'https://healthyfitnessmeals.com/whole-roasted-cauliflower/'), ('desserts', 'https://healthyfitnessmeals.com/blueberry-banana-bread/'), ('side-dishes', 'https://healthyfitnessmeals.com/spinach-and-avocado-pasta-recipe/'), ('snacks', 'https://healthyfitnessmeals.com/how-to-make-almond-butter/'), ('breakfast', 'https://healthyfitnessmeals.com/avocado-toast-with-eggs/'), ('main-courses', 'https://healthyfitnessmeals.com/cilantro-lime-pasta-salad-recipe/'), ('snacks', 'https://healthyfitnessmeals.com/grape-salad-recipe/'), ('drinks', 'https://healthyfitnessmeals.com/tropical-smoothie-recipe/'), ('side-dishes', 'https://healthyfitnessmeals.com/loaded-harvest-quinoa-salad/'), ('main-courses', 'https://healthyfitnessmeals.com/grilled-chicken-kafta/'), ('side-dishes', 'https://healthyfitnessmeals.com/chicken-pesto-pasta-salad/'), ('breakfast', 'https://healthyfitnessmeals.com/chocolate-oatmeal-pancakes/'), ('desserts', 'https://healthyfitnessmeals.com/flourless-peanut-butter-banana-muffins/'), ('snacks', 'https://healthyfitnessmeals.com/chocolate-bark/'), ('main-courses', 'https://healthyfitnessmeals.com/teriyaki-chicken-stir-fry/'), ('side-dishes', 'https://healthyfitnessmeals.com/asian-cucumber-salad/'), ('desserts', 'https://healthyfitnessmeals.com/healthy-blueberry-breakfast-bars/'), ('side-dishes', 'https://healthyfitnessmeals.com/spaghetti-meat-sauce/'), ('side-dishes', 'https://healthyfitnessmeals.com/garlic-roasted-mushrooms-recipe/'), ('side-dishes', 'https://healthyfitnessmeals.com/sugar-free-cranberry-sauce/'), ('main-courses', 'https://healthyfitnessmeals.com/greek-chicken-bake/'), ('side-dishes', 'https://healthyfitnessmeals.com/watermelon-feta-salad/'), ('desserts', 'https://healthyfitnessmeals.com/chocolate-chia-pudding/'), ('desserts', 'https://healthyfitnessmeals.com/work-with-me/'), ('desserts', 'https://healthyfitnessmeals.com/peanut-butter-oatmeal-cookies/'), ('breakfast', 'https://healthyfitnessmeals.com/lemon-poppy-seed-zucchini-bread/'), ('main-courses', 'https://healthyfitnessmeals.com/baked-teriyaki-chicken-breast/'), ('desserts', 'https://healthyfitnessmeals.com/no-bake-cheesecake/'), ('drinks', 'https://healthyfitnessmeals.com/blueberry-banana-smoothie/'), ('main-courses', 'https://healthyfitnessmeals.com/grilled-chimichurri-chicken/'), ('side-dishes', 'https://healthyfitnessmeals.com/garlic-roasted-potatoes/'), ('side-dishes', 'https://healthyfitnessmeals.com/cilantro-lime-shrimp-recipe/'), ('side-dishes', 'https://healthyfitnessmeals.com/easy-marinated-tomatoes/'), ('side-dishes', 'https://healthyfitnessmeals.com/shrimp-ceviche/'), ('main-courses', 'https://healthyfitnessmeals.com/easy-chicken-cacciatore/'), ('main-courses', 'https://healthyfitnessmeals.com/honey-mustard-shrimp/'), ('snacks', 'https://healthyfitnessmeals.com/no-bake-oatmeal-cookies/'), ('snacks', 'https://healthyfitnessmeals.com/healthy-chocolate-chip-zucchini-bread/'), ('desserts', 'https://healthyfitnessmeals.com/paleo-chocolate-chip-pumpkin-bars/'), ('desserts', 'https://healthyfitnessmeals.com/healthy-cookie-dough-brownies/'), ('side-dishes', 'https://healthyfitnessmeals.com/roasted-garlic-green-beans/'), ('breakfast', 'https://healthyfitnessmeals.com/overnight-oatmeal-recipe/'), ('main-courses', 'https://healthyfitnessmeals.com/beef-and-broccoli-stir-fry/'), ('desserts', 'https://healthyfitnessmeals.com/gluten-free-lemon-bars/'), ('side-dishes', 'https://healthyfitnessmeals.com/italian-turkey-meatballs/'), ('breakfast', 'https://healthyfitnessmeals.com/low-carb-protein-waffles/'), ('main-courses', 'https://healthyfitnessmeals.com/crispy-baked-chicken-cutlets/'), ('side-dishes', 'https://healthyfitnessmeals.com/air-fryer-zucchini-fries/'), ('side-dishes', 'https://healthyfitnessmeals.com/grilled-cauliflower-steaks/'), ('side-dishes', 'https://healthyfitnessmeals.com/quinoa-tabbouleh-salad-recipe/'), ('side-dishes', 'https://healthyfitnessmeals.com/cheesy-baked-broccoli/'), ('breakfast', 'https://healthyfitnessmeals.com/apple-walnut-bread/'), ('breakfast', 'https://healthyfitnessmeals.com/chocolate-zucchini-bread/'), ('side-dishes', 'https://healthyfitnessmeals.com/mashed-sweet-potatoes/'), ('main-courses', 'https://healthyfitnessmeals.com/grilled-lemon-chicken-skewers/'), ('side-dishes', 'https://healthyfitnessmeals.com/mexican-street-corn-salad/'), ('snacks', 'https://healthyfitnessmeals.com/easy-guacamole-recipe/'), ('main-courses', 'https://healthyfitnessmeals.com/garlic-shrimp-risotto-recipe/'), ('side-dishes', 'https://healthyfitnessmeals.com/roasted-smoked-sweet-potatoes/'), ('side-dishes', 'https://healthyfitnessmeals.com/easy-healthy-egg-salad/'), ('main-courses', 'https://healthyfitnessmeals.com/crockpot-lentil-mushroom-soup/'), ('desserts', 'https://healthyfitnessmeals.com/date-energy-balls/'), ('main-courses', 'https://healthyfitnessmeals.com/easy-honey-glazed-salmon/'), ('main-courses', 'https://healthyfitnessmeals.com/chickpea-avocado-sandwich/'), ('main-courses', 'https://healthyfitnessmeals.com/mexican-grilled-chicken-salad/'), ('desserts', 'https://healthyfitnessmeals.com/almond-butter-fudge/'), ('breakfast', 'https://healthyfitnessmeals.com/no-bake-monster-cookie-energy-bites/'), ('snacks', 'https://healthyfitnessmeals.com/zucchini-fritters/'), ('desserts', 'https://healthyfitnessmeals.com/mixed-berry-fruit-salad/'), ('desserts', 'https://healthyfitnessmeals.com/strawberries-and-cream-smoothie/'), ('breakfast', 'https://healthyfitnessmeals.com/strawberry-chia-seed-pudding/'), ('breakfast', 'https://healthyfitnessmeals.com/creamy-chicken-enchilada-soup/'), ('drinks', 'https://healthyfitnessmeals.com/chicken-adobo-recipe/'), ('side-dishes', 'https://healthyfitnessmeals.com/easy-avocado-chicken-salad/'), ('side-dishes', 'https://healthyfitnessmeals.com/easy-hamburger-soup/'), ('main-courses', 'https://healthyfitnessmeals.com/baked-boneless-chicken-thighs/'), ('desserts', 'https://healthyfitnessmeals.com/vegan-chocolate-fudge/'), ('desserts', 'https://healthyfitnessmeals.com/pumpkin-pie-protein-shake/'), ('breakfast', 'https://healthyfitnessmeals.com/banana-protein-pancakes/'), ('desserts', 'https://healthyfitnessmeals.com/no-bake-paleo-pumpkin-chocolate-truffles/'), ('desserts', 'https://healthyfitnessmeals.com/spaghetti-casserole-recipe/'), ('breakfast', 'https://healthyfitnessmeals.com/easy-keto-pancakes/'), ('breakfast', 'https://healthyfitnessmeals.com/coconut-cream-pie-overnight-oats/'), ('main-courses', 'https://healthyfitnessmeals.com/shrimp-cauliflower-fried-rice/'), ('breakfast', 'https://healthyfitnessmeals.com/banana-ice-cream-recipe/'), ('drinks', 'https://healthyfitnessmeals.com/whipped-coffee-recipe/'), ('side-dishes', 'https://healthyfitnessmeals.com/chicken-avocado-corn-salad/'), ('side-dishes', 'https://healthyfitnessmeals.com/crispy-baked-greek-potato-wedges/'), ('breakfast', 'https://healthyfitnessmeals.com/sweet-potato-breakfast-skillet-recipe/'), ('main-courses', 'https://healthyfitnessmeals.com/grilled-greek-chicken-kabobs/'), ('side-dishes', 'https://healthyfitnessmeals.com/vegetable-stir-fry/'), ('desserts', 'https://healthyfitnessmeals.com/cheesecake-stuffed-strawberries/'), ('main-courses', 'https://healthyfitnessmeals.com/honey-mustard-chicken/'), ('side-dishes', 'https://healthyfitnessmeals.com/tabbouleh-salad/'), ('side-dishes', 'https://healthyfitnessmeals.com/summer-avocado-cucumber-tomato-salad/'), ('side-dishes', 'https://healthyfitnessmeals.com/oven-fried-chicken-tenders/'), ('side-dishes', 'https://healthyfitnessmeals.com/spinach-and-artichoke-dip/'), ('side-dishes', 'https://healthyfitnessmeals.com/easy-avocado-hummus/'), ('main-courses', 'https://healthyfitnessmeals.com/easy-pesto-shrimp/'), ('breakfast', 'https://healthyfitnessmeals.com/blueberry-zucchini-bread/'), ('desserts', 'https://healthyfitnessmeals.com/chia-seed-pudding-recipe/'), ('main-courses', 'https://healthyfitnessmeals.com/slow-cooker-pulled-chicken/'), ('desserts', 'https://healthyfitnessmeals.com/healthy-no-bake-buckeye-balls/'), ('breakfast', 'https://healthyfitnessmeals.com/baked-apples-recipe/'), ('main-courses', 'https://healthyfitnessmeals.com/chicken-arugula-salad/'), ('desserts', 'https://healthyfitnessmeals.com/skinny-chocolate-zucchini-muffins/'), ('side-dishes', 'https://healthyfitnessmeals.com/healthy-mashed-potatoes/'), ('main-courses', 'https://healthyfitnessmeals.com/huli-huli-chicken/'), ('desserts', 'https://healthyfitnessmeals.com/no-bake-birthday-cake-protein-bites/'), ('main-courses', 'https://healthyfitnessmeals.com/avocado-corn-salad/'), ('main-courses', 'https://healthyfitnessmeals.com/vegetarian-burrito-bowl/'), ('main-courses', 'https://healthyfitnessmeals.com/baked-chicken-drumstick-recipe/'), ('drinks', 'https://healthyfitnessmeals.com/pineapple-kale-smoothie/'), ('main-courses', 'https://healthyfitnessmeals.com/roasted-pumpkin-soup-recipe/'), ('side-dishes', 'https://healthyfitnessmeals.com/homemade-jalapeno-skillet-cornbread/'), ('main-courses', 'https://healthyfitnessmeals.com/easy-shrimp-fajitas/'), ('desserts', 'https://healthyfitnessmeals.com/no-bake-chocolate-oatmeal-cookies/'), ('main-courses', 'https://healthyfitnessmeals.com/grilled-salmon-recipe/'), ('breakfast', 'https://healthyfitnessmeals.com/double-chocolate-banana-bread/'), ('main-courses', 'https://healthyfitnessmeals.com/easy-chickeni-stir-fry/'), ('drinks', 'https://healthyfitnessmeals.com/how-to-make-mexican-seasoning/'), ('snacks', 'https://healthyfitnessmeals.com/healthy-edible-chocolate-chip-cookie-dough/'), ('main-courses', 'https://healthyfitnessmeals.com/baked-maple-glazed-salmon/'), ('snacks', 'https://healthyfitnessmeals.com/baked-brie-recipe/'), ('side-dishes', 'https://healthyfitnessmeals.com/greek-orzo-salad/'), ('main-courses', 'https://healthyfitnessmeals.com/air-fried-buffalo-chicken-wings/'), ('main-courses', 'https://healthyfitnessmeals.com/mediterranean-baked-salmon/'), ('desserts', 'https://healthyfitnessmeals.com/chocolate-keto-brownies/'), ('breakfast', 'https://healthyfitnessmeals.com/chocolate-peanut-butter-overnight-oats/'), ('breakfast', 'https://healthyfitnessmeals.com/healthy-pumpkin-pancakes/'), ('snacks', 'https://healthyfitnessmeals.com/asian-cucumber-salad/'), ('side-dishes', 'https://healthyfitnessmeals.com/easy-zucchini-casserole/'), ('side-dishes', 'https://healthyfitnessmeals.com/homemade-roasted-tomato-soup/'), ('side-dishes', 'https://healthyfitnessmeals.com/keto-cauliflower-mac-n-cheese/'), ('main-courses', 'https://healthyfitnessmeals.com/cajun-shrimp-recipe/'), ('desserts', 'https://healthyfitnessmeals.com/healthy-red-velvet-cupcakes/'), ('side-dishes', 'https://healthyfitnessmeals.com/mediterranean-quinoa-salad-recipe/'), ('desserts', 'https://healthyfitnessmeals.com/chocolate-bark/'), ('breakfast', 'https://healthyfitnessmeals.com/chocolate-overnight-oats/'), ('desserts', 'https://healthyfitnessmeals.com/apple-cinnamon-bread/'), ('breakfast', 'https://healthyfitnessmeals.com/breakfast-egg-muffins/'), ('main-courses', 'https://healthyfitnessmeals.com/easy-chili-chicken-tortilla-soup-recipe/'), ('side-dishes', 'https://healthyfitnessmeals.com/crispy-oven-baked-asparagus/'), ('breakfast', 'https://healthyfitnessmeals.com/garden-veggie-frittata/'), ('main-courses', 'https://healthyfitnessmeals.com/bbq-shrimp/'), ('side-dishes', 'https://healthyfitnessmeals.com/keto-tuna-salad/'), ('snacks', 'https://healthyfitnessmeals.com/how-to-make-the-best-cheese-board/'), ('breakfast', 'https://healthyfitnessmeals.com/homemade-beef-stew/'), ('snacks', 'https://healthyfitnessmeals.com/homemade-oatmeal-granola-bars/'), ('desserts', 'https://healthyfitnessmeals.com/baked-oatmeal-recipe/'), ('breakfast', 'https://healthyfitnessmeals.com/healthy-chocolate-chia-pudding/'), ('main-courses', 'https://healthyfitnessmeals.com/parmesan-cauliflower-tacos/'), ('main-courses', 'https://healthyfitnessmeals.com/avocado-chickpea-tuna-salad/'), ('snacks', 'https://healthyfitnessmeals.com/cheesy-baked-broccoli/'), ('side-dishes', 'https://healthyfitnessmeals.com/vegan-chili-recipe/'), ('breakfast', 'https://healthyfitnessmeals.com/chocolate-chip-baked-oats/'), ('desserts', 'https://healthyfitnessmeals.com/healthy-lemon-loaf/'), ('side-dishes', 'https://healthyfitnessmeals.com/roasted-sweet-potatoes/'), ('breakfast', 'https://healthyfitnessmeals.com/blueberry-banana-pancakes-recipe/'), ('desserts', 'https://healthyfitnessmeals.com/no-bake-oatmeal-cookies/'), ('main-courses', 'https://healthyfitnessmeals.com/oven-baked-salmon/'), ('snacks', 'https://healthyfitnessmeals.com/how-to-make-croutons/'), ('drinks', 'https://healthyfitnessmeals.com/berry-smoothie-bowl/'), ('desserts', 'https://healthyfitnessmeals.com/healthy-chocolate-chip-zucchini-bread/'), ('side-dishes', 'https://healthyfitnessmeals.com/healthy-sweet-potato-casserole/'), ('breakfast', 'https://healthyfitnessmeals.com/healthy-pumpkin-waffles/'), ('desserts', 'https://healthyfitnessmeals.com/brown-butter-gingerbread-madeleines/'), ('main-courses', 'https://healthyfitnessmeals.com/easy-teriyaki-shrimp/'), ('main-courses', 'https://healthyfitnessmeals.com/honey-mustard-grilled-chicken-arugula-salad/'), ('desserts', 'https://healthyfitnessmeals.com/chocolate-peppermint-crinkle-cookies/'), ('side-dishes', 'https://healthyfitnessmeals.com/healthy-eggplant-zucchini-gratin/'), ('main-courses', 'https://healthyfitnessmeals.com/baked-parmesan-crusted-chicken/'), ('breakfast', 'https://healthyfitnessmeals.com/broccoli-cheese-casserole/'), ('main-courses', 'https://healthyfitnessmeals.com/tuscan-stuffed-chicken-breast/'), ('main-courses', 'https://healthyfitnessmeals.com/chicken-caprese/'), ('side-dishes', 'https://healthyfitnessmeals.com/vegan-lentil-soup/'), ('drinks', 'https://healthyfitnessmeals.com/mocha-protein-shake/'), ('snacks', 'https://healthyfitnessmeals.com/energy-bites/'), ('snacks', 'https://healthyfitnessmeals.com/papaya-breakfast-boats/'), ('breakfast', 'https://healthyfitnessmeals.com/keto-chocolate-cupcakes/'), ('snacks', 'https://healthyfitnessmeals.com/jam-filled-shortbread-cookies/'), ('main-courses', 'https://healthyfitnessmeals.com/honey-garlic-salmon/'), ('side-dishes', 'https://healthyfitnessmeals.com/keto-avocado-deviled-eggs/'), ('side-dishes', 'https://healthyfitnessmeals.com/zucchini-corn-salad/'), ('snacks', 'https://healthyfitnessmeals.com/blueberry-banana-smoothie/'), ('main-courses', 'https://healthyfitnessmeals.com/taco-stuffed-chicken-breast/'), ('main-courses', 'https://healthyfitnessmeals.com/mexican-stuffed-sweet-potatoes/'), ('main-courses', 'https://healthyfitnessmeals.com/chipotle-chicken-skillet/'), ('desserts', 'https://healthyfitnessmeals.com/healthy-chocolate-chip-pumpkin-cookies/'), ('snacks', 'https://healthyfitnessmeals.com/how-to-cut-a-potato-into-home-fries/'), ('breakfast', 'https://healthyfitnessmeals.com/strawberry-parfaits-recipe/'), ('breakfast', 'https://healthyfitnessmeals.com/no-bake-protein-energy-bites/'), ('snacks', 'https://healthyfitnessmeals.com/banana-oatmeal-muffins/'), ('snacks', 'https://healthyfitnessmeals.com/no-bake-brownie-protein-bites/'), ('main-courses', 'https://healthyfitnessmeals.com/creamy-garlic-chicken-breast-skillet/'), ('side-dishes', 'https://healthyfitnessmeals.com/chicken-mushroom-soup/'), ('breakfast', 'https://healthyfitnessmeals.com/double-chocolate-protein-pudding/'), ('desserts', 'https://healthyfitnessmeals.com/keto-peanut-butter-fudge/'), ('main-courses', 'https://healthyfitnessmeals.com/fish-taco-salad-bowl-recipe/'), ('side-dishes', 'https://healthyfitnessmeals.com/healthy-potato-salad/'), ('snacks', 'https://healthyfitnessmeals.com/baked-avocado-egg/'), ('snacks', 'https://healthyfitnessmeals.com/vegan-gingerbread-men-cookies-recipe/'), ('desserts', 'https://healthyfitnessmeals.com/banana-protein-donuts/'), ('main-courses', 'https://healthyfitnessmeals.com/shrimp-burrito-bowl/'), ('side-dishes', 'https://healthyfitnessmeals.com/salmon-pasta-salad/'), ('side-dishes', 'https://healthyfitnessmeals.com/homemade-thanksgiving-stuffing/'), ('side-dishes', 'https://healthyfitnessmeals.com/vegan-mashed-potatoes/'), ('main-courses', 'https://healthyfitnessmeals.com/creamy-chicken-tortilla-soup/'), ('side-dishes', 'https://healthyfitnessmeals.com/greek-chickpea-salad/'), ('main-courses', 'https://healthyfitnessmeals.com/chicken-alfredo-zoodles/'), ('side-dishes', 'https://healthyfitnessmeals.com/easy-stuffed-mushroom/'), ('side-dishes', 'https://healthyfitnessmeals.com/easy-stuffed-pepper-soup/'), ('side-dishes', 'https://healthyfitnessmeals.com/air-fried-buffalo-chicken-wings/'), ('desserts', 'https://healthyfitnessmeals.com/blueberry-baked-oatmeal/'), ('desserts', 'https://healthyfitnessmeals.com/apple-cider-donuts/'), ('side-dishes', 'https://healthyfitnessmeals.com/healthy-broccoli-casserole/'), ('drinks', 'https://healthyfitnessmeals.com/how-to-make-almond-milk/'), ('snacks', 'https://healthyfitnessmeals.com/protein-peanut-butter-cups/'), ('main-courses', 'https://healthyfitnessmeals.com/crispy-parmesan-roasted-potatoes/'), ('main-courses', 'https://healthyfitnessmeals.com/philly-cheese-steak-recipe/'), ('desserts', 'https://healthyfitnessmeals.com/flourless-chocolate-muffins/'), ('main-courses', 'https://healthyfitnessmeals.com/mediterranean-chicken-skillet/'), ('side-dishes', 'https://healthyfitnessmeals.com/cucumber-avocado-feta-salad/'), ('main-courses', 'https://healthyfitnessmeals.com/chicken-fricassee/'), ('snacks', 'https://healthyfitnessmeals.com/air-fryer-zucchini-chips/'), ('snacks', 'https://healthyfitnessmeals.com/homemade-beef-stew/'), ('breakfast', 'https://healthyfitnessmeals.com/cranberry-almond-breakfast-cookies/'), ('breakfast', 'https://healthyfitnessmeals.com/gluten-free-eggnog-waffles/'), ('main-courses', 'https://healthyfitnessmeals.com/cheese-stuffed-chicken/'), ('snacks', 'https://healthyfitnessmeals.com/easy-cookie-dough-fudge-recipe/'), ('side-dishes', 'https://healthyfitnessmeals.com/crispy-smashed-potatoes/'), ('side-dishes', 'https://healthyfitnessmeals.com/homemade-dinner-rolls/'), ('desserts', 'https://healthyfitnessmeals.com/berry-coconut-smoothie-bowl/'), ('main-courses', 'https://healthyfitnessmeals.com/lemon-chicken-breast-recipe/'), ('breakfast', 'https://healthyfitnessmeals.com/instant-pot-oatmeal/'), ('drinks', 'https://healthyfitnessmeals.com/creamy-chicken-enchilada-soup/'), ('main-courses', 'https://healthyfitnessmeals.com/crispy-chicken-breast/'), ('desserts', 'https://healthyfitnessmeals.com/easy-chocolate-mug-cake/'), ('side-dishes', 'https://healthyfitnessmeals.com/chicken-fried-rice/'), ('main-courses', 'https://healthyfitnessmeals.com/sheet-pan-steak-kale-pesto/'), ('main-courses', 'https://healthyfitnessmeals.com/buffalo-chicken-stuffed-peppers/'), ('snacks', 'https://healthyfitnessmeals.com/chocolate-fruit-dip/'), ('breakfast', 'https://healthyfitnessmeals.com/green-shakshuka/'), ('breakfast', 'https://healthyfitnessmeals.com/homemade-protein-granola/'), ('side-dishes', 'https://healthyfitnessmeals.com/cauliflower-potato-salad/'), ('side-dishes', 'https://healthyfitnessmeals.com/homemade-coleslaw-salad/'), ('main-courses', 'https://healthyfitnessmeals.com/cheesy-cauliflower-bake/'), ('main-courses', 'https://healthyfitnessmeals.com/grilled-bbq-chicken-breast/'), ('desserts', 'https://healthyfitnessmeals.com/healthy-edible-chocolate-chip-cookie-dough/'), ('side-dishes', 'https://healthyfitnessmeals.com/air-fryer-cauliflower-wings/'), ('main-courses', 'https://healthyfitnessmeals.com/grilled-italian-chicken-breast-recipe/'), ('side-dishes', 'https://healthyfitnessmeals.com/zucchini-broccoli-soup/'), ('main-courses', 'https://healthyfitnessmeals.com/mexican-shrimp-cocktail-recipe/'), ('side-dishes', 'https://healthyfitnessmeals.com/butternut-squash-casserole/'), ('breakfast', 'https://healthyfitnessmeals.com/keto-waffles/'), ('main-courses', 'https://healthyfitnessmeals.com/work-with-me/'), ('side-dishes', 'https://healthyfitnessmeals.com/buffalo-chicken-meatballs/'), ('side-dishes', 'https://healthyfitnessmeals.com/healthy-chicken-salad-recipe/'), ('main-courses', 'https://healthyfitnessmeals.com/easy-maple-roasted-carrots/'), ('main-courses', 'https://healthyfitnessmeals.com/spice-crusted-salmon-with-avocado-salsa/'), ('side-dishes', 'https://healthyfitnessmeals.com/cucumber-and-tomato-salad/'), ('breakfast', 'https://healthyfitnessmeals.com/vegan-banana-bread/'), ('main-courses', 'https://healthyfitnessmeals.com/buffalo-chicken-bake/'), ('breakfast', 'https://healthyfitnessmeals.com/chocolate-protein-pancakes/'), ('main-courses', 'https://healthyfitnessmeals.com/creamy-lemon-pepper-chicken/'), ('side-dishes', 'https://healthyfitnessmeals.com/beef-and-barley-soup/'), ('side-dishes', 'https://healthyfitnessmeals.com/cilantro-lime-cauliflower-rice/'), ('side-dishes', 'https://healthyfitnessmeals.com/thai-peanut-dressing/'), ('side-dishes', 'https://healthyfitnessmeals.com/mexican-stuffed-sweet-potatoes/'), ('side-dishes', 'https://healthyfitnessmeals.com/healthy-mexican-street-corn/'), ('breakfast', 'https://healthyfitnessmeals.com/peanut-butter-banana-overnight-oats/'), ('breakfast', 'https://healthyfitnessmeals.com/no-bake-chocolate-oat-bars/'), ('side-dishes', 'https://healthyfitnessmeals.com/air-fryer-broccoli/'), ('snacks', 'https://healthyfitnessmeals.com/baked-sweet-potato-fries/'), ('side-dishes', 'https://healthyfitnessmeals.com/homemade-tomato-rice-soup/'), ('snacks', 'https://healthyfitnessmeals.com/how-to-make-mexican-seasoning/'), ('main-courses', 'https://healthyfitnessmeals.com/broccoli-chicken-pasta-casserole/'), ('desserts', 'https://healthyfitnessmeals.com/cranberry-orange-bread/'), ('side-dishes', 'https://healthyfitnessmeals.com/sweet-potato-wedges/'), ('main-courses', 'https://healthyfitnessmeals.com/easy-shrimp-fettuccine-alfredo/'), ('main-courses', 'https://healthyfitnessmeals.com/easy-honey-garlic-chicken/'), ('desserts', 'https://healthyfitnessmeals.com/cookie-dough-bars/'), ('breakfast', 'https://healthyfitnessmeals.com/easy-apple-muffins/'), ('breakfast', 'https://healthyfitnessmeals.com/oatmeal-breakfast-bowl/'), ('side-dishes', 'https://healthyfitnessmeals.com/shrimp-pasta-salad/'), ('breakfast', 'https://healthyfitnessmeals.com/red-velvet-pancakes/'), ('side-dishes', 'https://healthyfitnessmeals.com/baked-keto-zucchini-fries/'), ('breakfast', 'https://healthyfitnessmeals.com/healthy-oatmeal-bars/'), ('desserts', 'https://healthyfitnessmeals.com/healthy-oatmeal-chocolate-chip-banana-bread/'), ('breakfast', 'https://healthyfitnessmeals.com/healthy-pumpkin-chia-muffins/'), ('side-dishes', 'https://healthyfitnessmeals.com/roasted-honey-glazed-carrots/'), ('main-courses', 'https://healthyfitnessmeals.com/oven-baked-chicken-wings/'), ('desserts', 'https://healthyfitnessmeals.com/cinnamon-sugar-pumpkin-donuts/'), ('main-courses', 'https://healthyfitnessmeals.com/chicken-and-broccoli-stir-fry/'), ('main-courses', 'https://healthyfitnessmeals.com/chicken-spinach-pasta/'), ('main-courses', 'https://healthyfitnessmeals.com/honey-garlic-salmon-recipe/'), ('main-courses', 'https://healthyfitnessmeals.com/santa-fe-grilled-chicken-salad/'), ('side-dishes', 'https://healthyfitnessmeals.com/avocado-tomato-salad/'), ('main-courses', 'https://healthyfitnessmeals.com/chicken-enchilada-pasta/'), ('breakfast', 'https://healthyfitnessmeals.com/no-bake-blueberry-cheesecake/'), ('breakfast', 'https://healthyfitnessmeals.com/oatmeal-chocolate-chip-cookies/'), ('main-courses', 'https://healthyfitnessmeals.com/garlic-shrimp-in-creamy-mushroom-sauce/'), ('main-courses', 'https://healthyfitnessmeals.com/taco-griled-chicken-bowl/'), ('side-dishes', 'https://healthyfitnessmeals.com/crispy-parmesan-roasted-potatoes/'), ('main-courses', 'https://healthyfitnessmeals.com/chicken-lo-mein-recipe/'), ('main-courses', 'https://healthyfitnessmeals.com/spaghetti-casserole-recipe/'), ('desserts', 'https://healthyfitnessmeals.com/energy-bites/'), ('desserts', 'https://healthyfitnessmeals.com/papaya-breakfast-boats/'), ('breakfast', 'https://healthyfitnessmeals.com/blueberry-protein-pancakes/'), ('desserts', 'https://healthyfitnessmeals.com/jam-filled-shortbread-cookies/'), ('side-dishes', 'https://healthyfitnessmeals.com/homemade-cowboy-queso-dip/'), ('side-dishes', 'https://healthyfitnessmeals.com/easy-three-beans-salad-recipe/'), ('main-courses', 'https://healthyfitnessmeals.com/sheet-pan-chicken-recipe/'), ('breakfast', 'https://healthyfitnessmeals.com/protein-breakfast-crepes/'), ('breakfast', 'https://healthyfitnessmeals.com/keto-cinnamon-rolls/'), ('side-dishes', 'https://healthyfitnessmeals.com/creamed-peas-recipe/'), ('side-dishes', 'https://healthyfitnessmeals.com/baked-avocado-fries/'), ('desserts', 'https://healthyfitnessmeals.com/banana-oatmeal-muffins/'), ('desserts', 'https://healthyfitnessmeals.com/no-bake-brownie-protein-bites/'), ('main-courses', 'https://healthyfitnessmeals.com/asian-chili-chicken-breast/'), ('side-dishes', 'https://healthyfitnessmeals.com/baked-zucchini-chips/'), ('main-courses', 'https://healthyfitnessmeals.com/grilled-buffalo-chicken-salad/'), ('side-dishes', 'https://healthyfitnessmeals.com/baked-apples-recipe/'), ('main-courses', 'https://healthyfitnessmeals.com/stuffed-bell-peppers/'), ('desserts', 'https://healthyfitnessmeals.com/apple-cinnamon-muffins/'), ('snacks', 'https://healthyfitnessmeals.com/how-to-cut-an-apple/'), ('main-courses', 'https://healthyfitnessmeals.com/chicken-salad-sandwich/'), ('drinks', 'https://healthyfitnessmeals.com/homemade-beef-stew/'), ('main-courses', 'https://healthyfitnessmeals.com/creamy-balsamic-chicken/'), ('side-dishes', 'https://healthyfitnessmeals.com/asian-chopped-chicken-salad/'), ('main-courses', 'https://healthyfitnessmeals.com/kung-pao-shrimp/'), ('main-courses', 'https://healthyfitnessmeals.com/greek-baked-chicken-breast/'), ('desserts', 'https://healthyfitnessmeals.com/vegan-gingerbread-men-cookies-recipe/'), ('side-dishes', 'https://healthyfitnessmeals.com/chicken-vegetable-soup/'), ('main-courses', 'https://healthyfitnessmeals.com/chinese-chicken-salad-recipe/'), ('side-dishes', 'https://healthyfitnessmeals.com/buffalo-cauliflower-bites/'), ('desserts', 'https://healthyfitnessmeals.com/mini-chocolate-bundt-cakes/'), ('main-courses', 'https://healthyfitnessmeals.com/shrimp-pesto-pasta/'), ('main-courses', 'https://healthyfitnessmeals.com/chicken-florentine/'), ('side-dishes', 'https://healthyfitnessmeals.com/bell-pepper-nachos/'), ('desserts', 'https://healthyfitnessmeals.com/pumpkin-chia-pudding/'), ('breakfast', 'https://healthyfitnessmeals.com/coconut-chia-pudding/'), ('side-dishes', 'https://healthyfitnessmeals.com/slow-cooker-southwest-turkey-chili/'), ('main-courses', 'https://healthyfitnessmeals.com/southwest-chicken-salad/'), ('desserts', 'https://healthyfitnessmeals.com/protein-peanut-butter-cups/'), ('side-dishes', 'https://healthyfitnessmeals.com/butternut-squash-mushroom-risotto/'), ('side-dishes', 'https://healthyfitnessmeals.com/twice-baked-sweet-potatoes/'), ('desserts', 'https://healthyfitnessmeals.com/chicken-adobo-recipe/'), ('breakfast', 'https://healthyfitnessmeals.com/banana-oatmeal-chocolate-chip-muffins/'), ('side-dishes', 'https://healthyfitnessmeals.com/oven-roasted-cauliflower/'), ('side-dishes', 'https://healthyfitnessmeals.com/easy-cheese-ball/'), ('breakfast', 'https://healthyfitnessmeals.com/flourless-peanut-butter-chocolate-chip-protein-cookies/'), ('breakfast', 'https://healthyfitnessmeals.com/apple-pie-chia-pudding-recipe/'), ('desserts', 'https://healthyfitnessmeals.com/homemade-beef-stew/'), ('breakfast', 'https://healthyfitnessmeals.com/fruit-bake-dessert/'), ('main-courses', 'https://healthyfitnessmeals.com/ground-turkey-meatloaf/'), ('main-courses', 'https://healthyfitnessmeals.com/tuscan-chicken-pasta/'), ('desserts', 'https://healthyfitnessmeals.com/lemon-poppy-seed-muffins/'), ('main-courses', 'https://healthyfitnessmeals.com/how-to-cut-green-onions/'), ('desserts', 'https://healthyfitnessmeals.com/easy-cookie-dough-fudge-recipe/'), ('side-dishes', 'https://healthyfitnessmeals.com/cilantro-lime-pasta-salad-recipe/'), ('snacks', 'https://healthyfitnessmeals.com/lemon-poppy-seed-zucchini-bread/'), ('side-dishes', 'https://healthyfitnessmeals.com/healthy-white-bean-tuna-salad/'), ('main-courses', 'https://healthyfitnessmeals.com/chicken-scampi/'), ('main-courses', 'https://healthyfitnessmeals.com/taco-stuffed-zucchini-boats/'), ('side-dishes', 'https://healthyfitnessmeals.com/keto-buffalo-cauliflower-bites/'), ('main-courses', 'https://healthyfitnessmeals.com/shrimp-quesadilla-recipe/'), ('side-dishes', 'https://healthyfitnessmeals.com/roasted-pepper-hummus/'), ('main-courses', 'https://healthyfitnessmeals.com/grilled-chicken-breast-recipe/'), ('desserts', 'https://healthyfitnessmeals.com/keto-almond-butter-cups/'), ('side-dishes', 'https://healthyfitnessmeals.com/vegan-thai-sweet-potato-soup/'), ('side-dishes', 'https://healthyfitnessmeals.com/garlic-butter-mashed-cauliflower/'), ('snacks', 'https://healthyfitnessmeals.com/peanut-butter-keto-cookies/'), ('main-courses', 'https://healthyfitnessmeals.com/healthy-chicken-taco-salad/'), ('desserts', 'https://healthyfitnessmeals.com/chocolate-fruit-dip/'), ('main-courses', 'https://healthyfitnessmeals.com/hasselback-butternut-squash/'), ('side-dishes', 'https://healthyfitnessmeals.com/roasted-broccoli-and-cauliflower/'), ('side-dishes', 'https://healthyfitnessmeals.com/easy-vegetarian-chili/'), ('main-courses', 'https://healthyfitnessmeals.com/teriyaki-chicken-meal-prep-bowls-recipe/'), ('breakfast', 'https://healthyfitnessmeals.com/healthy-blueberry-breakfast-bars/'), ('snacks', 'https://healthyfitnessmeals.com/easy-watermelon-fries/'), ('snacks', 'https://healthyfitnessmeals.com/healthy-protein-brownies-recipe/'), ('main-courses', 'https://healthyfitnessmeals.com/easy-homemade-meatloaf/'), ('main-courses', 'https://healthyfitnessmeals.com/chicken-orzo-soup/'), ('side-dishes', 'https://healthyfitnessmeals.com/white-bean-and-kale-soup/'), ('breakfast', 'https://healthyfitnessmeals.com/chocolate-chia-pudding/'), ('main-courses', 'https://healthyfitnessmeals.com/white-bean-chili/'), ('main-courses', 'https://healthyfitnessmeals.com/roasted-chicken-with-maple-sweet-potatoes-and-apples-recipe/'), ('snacks', 'https://healthyfitnessmeals.com/no-bake-monster-cookie-energy-bites/'), ('snacks', 'https://healthyfitnessmeals.com/strawberry-chia-seed-pudding/'), ('snacks', 'https://healthyfitnessmeals.com/creamy-chicken-enchilada-soup/'), ('side-dishes', 'https://healthyfitnessmeals.com/roasted-garlic-cauliflower/'), ('main-courses', 'https://healthyfitnessmeals.com/grilled-steak-with-pineapple-salsa-recipe/'), ('breakfast', 'https://healthyfitnessmeals.com/whole-wheat-bread/'), ('breakfast', 'https://healthyfitnessmeals.com/apple-cinnamon-oatmeal/'), ('snacks', 'https://healthyfitnessmeals.com/blackberry-protein-popsicles/'), ('desserts', 'https://healthyfitnessmeals.com/oatmeal-breakfast-bars/'), ('desserts', 'https://healthyfitnessmeals.com/raspberry-almond-butter-cups/'), ('main-courses', 'https://healthyfitnessmeals.com/spinach-apple-pecan-salad/'), ('snacks', 'https://healthyfitnessmeals.com/roasted-cilantro-chickpeas-recipe/'), ('main-courses', 'https://healthyfitnessmeals.com/mexican-corn-soup/'), ('desserts', 'https://healthyfitnessmeals.com/how-to-make-mexican-seasoning/'), ('breakfast', 'https://healthyfitnessmeals.com/white-chocolate-cranberry-granola/'), ('main-courses', 'https://healthyfitnessmeals.com/easy-chicken-milanese/'), ('breakfast', 'https://healthyfitnessmeals.com/breakfast-baked-sweet-potatoes/'), ('breakfast', 'https://healthyfitnessmeals.com/shakshuka-recipe/'), ('side-dishes', 'https://healthyfitnessmeals.com/broccoli-cauliflower-salad/'), ('desserts', 'https://healthyfitnessmeals.com/pumpkin-baked-oatmeal/'), ('snacks', 'https://healthyfitnessmeals.com/homemade-protein-bars/'), ('side-dishes', 'https://healthyfitnessmeals.com/garlic-brussel-sprouts/'), ('main-courses', 'https://healthyfitnessmeals.com/chicken-broccoli-rice-casserole/'), ('side-dishes', 'https://healthyfitnessmeals.com/easy-greek-chicken-lettuce-wraps/'), ('breakfast', 'https://healthyfitnessmeals.com/mixed-berry-fruit-salad/'), ('main-courses', 'https://healthyfitnessmeals.com/grilled-chicken-sandwich/'), ('breakfast', 'https://healthyfitnessmeals.com/strawberries-and-cream-smoothie/'), ('side-dishes', 'https://healthyfitnessmeals.com/wild-rice-pilaf-stuffing/'), ('main-courses', 'https://healthyfitnessmeals.com/cucumber-onion-salad-recipe/'), ('side-dishes', 'https://healthyfitnessmeals.com/green-beans-tomato-salad/'), ('desserts', 'https://healthyfitnessmeals.com/easy-apple-crumble/'), ('main-courses', 'https://healthyfitnessmeals.com/shish-tawook/'), ('desserts', 'https://healthyfitnessmeals.com/blueberry-scones/'), ('snacks', 'https://healthyfitnessmeals.com/baked-avocado-fries/'), ('snacks', 'https://healthyfitnessmeals.com/blueberry-zucchini-bread/'), ('desserts', 'https://healthyfitnessmeals.com/easy-banana-nut-bread/'), ('main-courses', 'https://healthyfitnessmeals.com/cajun-shrimp-pasta/'), ('snacks', 'https://healthyfitnessmeals.com/baked-zucchini-chips/'), ('breakfast', 'https://healthyfitnessmeals.com/spaghetti-casserole-recipe/'), ('desserts', 'https://healthyfitnessmeals.com/chocolate-chip-pumpkin-bread-recipe/'), ('desserts', 'https://healthyfitnessmeals.com/chocolate-mug-cake/'), ('side-dishes', 'https://healthyfitnessmeals.com/air-fryer-homemade-onion-rings/'), ('breakfast', 'https://healthyfitnessmeals.com/banana-bread-overnight-oats/'), ('desserts', 'https://healthyfitnessmeals.com/peanut-butter-jelly-cups/'), ('side-dishes', 'https://healthyfitnessmeals.com/instant-pot-sweet-potatoes/'), ('side-dishes', 'https://healthyfitnessmeals.com/chickpea-tuna-salad/'), ('main-courses', 'https://healthyfitnessmeals.com/keto-turkey-stuffed-peppers/'), ('side-dishes', 'https://healthyfitnessmeals.com/tuna-macaroni-salad/'), ('side-dishes', 'https://healthyfitnessmeals.com/baked-jalapeno-poppers/'), ('snacks', 'https://healthyfitnessmeals.com/buffalo-cauliflower-bites/'), ('main-courses', 'https://healthyfitnessmeals.com/oven-baked-salmon-potatoes-and-veggies/'), ('desserts', 'https://healthyfitnessmeals.com/healthy-zucchini-muffins/'), ('main-courses', 'https://healthyfitnessmeals.com/cheesy-chicken-and-mushroom-recipe/'), ('snacks', 'https://healthyfitnessmeals.com/crispy-baked-greek-potato-wedges/'), ('main-courses', 'https://healthyfitnessmeals.com/garlic-red-potatoes/'), ('side-dishes', 'https://healthyfitnessmeals.com/roasted-pumpkin-soup-recipe/'), ('side-dishes', 'https://healthyfitnessmeals.com/hasselback-butternut-squash/'), ('desserts', 'https://healthyfitnessmeals.com/chocolate-banana-muffins/'), ('main-courses', 'https://healthyfitnessmeals.com/healthy-shrimp-scampi/'), ('main-courses', 'https://healthyfitnessmeals.com/balsamic-and-pesto-grilled-chicken/'), ('breakfast', 'https://healthyfitnessmeals.com/chia-seed-pudding-recipe/'), ('desserts', 'https://healthyfitnessmeals.com/mocha-protein-shake/'), ('breakfast', 'https://healthyfitnessmeals.com/skinny-chocolate-zucchini-muffins/'), ('desserts', 'https://healthyfitnessmeals.com/no-bake-keto-cheesecake/'), ('main-courses', 'https://healthyfitnessmeals.com/spinach-feta-turkey-burgers/'), ('side-dishes', 'https://healthyfitnessmeals.com/baked-maple-glazed-salmon/'), ('side-dishes', 'https://healthyfitnessmeals.com/buffalo-chicken-salad/'), ('main-courses', 'https://healthyfitnessmeals.com/easy-chicken-chili/'), ('side-dishes', 'https://healthyfitnessmeals.com/homemade-ranch-dressing/'), ('main-courses', 'https://healthyfitnessmeals.com/chicken-parmesan-pasta/'), ('main-courses', 'https://healthyfitnessmeals.com/how-to-cut-an-eggplant/'), ('snacks', 'https://healthyfitnessmeals.com/roasted-pepper-hummus/'), ('main-courses', 'https://healthyfitnessmeals.com/chicken-fajitas/'), ('main-courses', 'https://healthyfitnessmeals.com/healthy-grilled-shrimp-salad/'), ('main-courses', 'https://healthyfitnessmeals.com/pesto-chicken-recipe/'), ('side-dishes', 'https://healthyfitnessmeals.com/easy-homemade-hummus/'), ('main-courses', 'https://healthyfitnessmeals.com/pan-fried-chicken-breast/'), ('snacks', 'https://healthyfitnessmeals.com/pumpkin-oatmeal-cookies/'), ('main-courses', 'https://healthyfitnessmeals.com/healthy-green-bean-casserole/'), ('desserts', 'https://healthyfitnessmeals.com/lemon-poppy-seed-zucchini-bread/'), ('side-dishes', 'https://healthyfitnessmeals.com/easy-salmon-patties/'), ('main-courses', 'https://healthyfitnessmeals.com/creamy-vegetarian-tortilla-soup/'), ('main-courses', 'https://healthyfitnessmeals.com/easy-keto-shrimp/'), ('breakfast', 'https://healthyfitnessmeals.com/crispy-greek-potato-bake-recipe/'), ('desserts', 'https://healthyfitnessmeals.com/peanut-butter-keto-cookies/'), ('side-dishes', 'https://healthyfitnessmeals.com/baked-zucchini-fries/'), ('main-courses', 'https://healthyfitnessmeals.com/caprese-salad-recipe/'), ('breakfast', 'https://healthyfitnessmeals.com/poached-egg-sweet-potato-breakfast/'), ('desserts', 'https://healthyfitnessmeals.com/easy-protein-brownies/'), ('side-dishes', 'https://healthyfitnessmeals.com/vegan-cabbage-soup/'), ('desserts', 'https://healthyfitnessmeals.com/galette-recipe/'), ('desserts', 'https://healthyfitnessmeals.com/apple-walnut-bread/'), ('side-dishes', 'https://healthyfitnessmeals.com/oven-roasted-butternut-squash/'), ('desserts', 'https://healthyfitnessmeals.com/chocolate-zucchini-bread/'), ('breakfast', 'https://healthyfitnessmeals.com/homemade-oatmeal-granola-bars/'), ('side-dishes', 'https://healthyfitnessmeals.com/zucchini-fritters/'), ('snacks', 'https://healthyfitnessmeals.com/spaghetti-casserole-recipe/'), ('breakfast', 'https://healthyfitnessmeals.com/apple-cinnamon-bread/'), ('main-courses', 'https://healthyfitnessmeals.com/easy-steak-fajita-recipe/'), ('main-courses', 'https://healthyfitnessmeals.com/zesty-shrimp-avocado-salad/'), ('desserts', 'https://healthyfitnessmeals.com/keto-chocolate-mousse/'), ('desserts', 'https://healthyfitnessmeals.com/easy-watermelon-fries/'), ('snacks', 'https://healthyfitnessmeals.com/banana-bread-overnight-oats/'), ('side-dishes', 'https://healthyfitnessmeals.com/cucumber-onion-salad-recipe/'), ('breakfast', 'https://healthyfitnessmeals.com/sweet-potato-hash/'), ('breakfast', 'https://healthyfitnessmeals.com/baked-oatmeal-recipe/'), ('desserts', 'https://healthyfitnessmeals.com/healthy-double-chocolate-brownies/'), ('side-dishes', 'https://healthyfitnessmeals.com/homemade-pesto-sauce/'), ('main-courses', 'https://healthyfitnessmeals.com/italian-wedding-soup/'), ('snacks', 'https://healthyfitnessmeals.com/chickpea-avocado-sandwich/'), ('snacks', 'https://healthyfitnessmeals.com/strawberry-parfaits-recipe/'), ('main-courses', 'https://healthyfitnessmeals.com/shrimp-and-broccoli-stir-fry/'), ('breakfast', 'https://healthyfitnessmeals.com/healthy-lemon-loaf/'), ('snacks', 'https://healthyfitnessmeals.com/no-bake-protein-energy-bites/'), ('main-courses', 'https://healthyfitnessmeals.com/chicken-fettuccine-alfredo/'), ('main-courses', 'https://healthyfitnessmeals.com/easy-chicken-fajita-recipe/'), ('main-courses', 'https://healthyfitnessmeals.com/chicken-chopped-salad/'), ('main-courses', 'https://healthyfitnessmeals.com/creamy-honey-mustard-chicken/'), ('desserts', 'https://healthyfitnessmeals.com/creamy-chicken-enchilada-soup/'), ('side-dishes', 'https://healthyfitnessmeals.com/parmesan-brussel-sprouts/'), ('main-courses', 'https://healthyfitnessmeals.com/jerk-chicken-recipe/'), ('breakfast', 'https://healthyfitnessmeals.com/no-bake-oatmeal-cookies/'), ('main-courses', 'https://healthyfitnessmeals.com/chicken-cauliflower-fried-rice/'), ('breakfast', 'https://healthyfitnessmeals.com/blueberry-overnight-oatmeal/'), ('side-dishes', 'https://healthyfitnessmeals.com/easy-classic-macaroni-salad/'), ('breakfast', 'https://healthyfitnessmeals.com/brown-butter-gingerbread-madeleines/'), ('breakfast', 'https://healthyfitnessmeals.com/fruit-and-oatmeal-breakfast-bowl/'), ('desserts', 'https://healthyfitnessmeals.com/blackberry-protein-popsicles/'), ('main-courses', 'https://healthyfitnessmeals.com/pan-seared-honey-balsamic-salmon/'), ('side-dishes', 'https://healthyfitnessmeals.com/greek-baked-beans/'), ('main-courses', 'https://healthyfitnessmeals.com/garlic-shrimp-pasta/'), ('side-dishes', 'https://healthyfitnessmeals.com/easy-fruit-salad-recipe/'), ('desserts', 'https://healthyfitnessmeals.com/keto-chocolate-cookies/'), ('main-courses', 'https://healthyfitnessmeals.com/greek-chicken-bowl/'), ('breakfast', 'https://healthyfitnessmeals.com/almond-joy-overnight-oats/'), ('desserts', 'https://healthyfitnessmeals.com/banana-ice-cream-recipe/'), ('desserts', 'https://healthyfitnessmeals.com/healthy-maple-glazed-pumpkin-cookies/'), ('main-courses', 'https://healthyfitnessmeals.com/creamy-chicken-gnocchi-soup/'), ('desserts', 'https://healthyfitnessmeals.com/homemade-protein-bars/'), ('side-dishes', 'https://healthyfitnessmeals.com/garlic-red-potatoes/'), ('main-courses', 'https://healthyfitnessmeals.com/creamy-spinach-parmesan-chicken-skillet/'), ('breakfast', 'https://healthyfitnessmeals.com/keto-everything-bagels/'), ('side-dishes', 'https://healthyfitnessmeals.com/creamy-sauteed-mushroom-recipe/'), ('breakfast', 'https://healthyfitnessmeals.com/baked-egg-cups/'), ('main-courses', 'https://healthyfitnessmeals.com/blackened-salmon/'), ('side-dishes', 'https://healthyfitnessmeals.com/homemade-vegetable-soup/'), ('breakfast', 'https://healthyfitnessmeals.com/healthier-pumpkin-muffins/'), ('breakfast', 'https://healthyfitnessmeals.com/baked-oatmeal-protein-muffins/'), ('snacks', 'https://healthyfitnessmeals.com/no-bake-chocolate-oatmeal-cookies/'), ('main-courses', 'https://healthyfitnessmeals.com/honey-lime-salmon/'), ('main-courses', 'https://healthyfitnessmeals.com/miso-glazed-salmon/'), ('main-courses', 'https://healthyfitnessmeals.com/stuffed-zucchini-boats/'), ('side-dishes', 'https://healthyfitnessmeals.com/garlic-butter-hasselback-potatoes/'), ('desserts', 'https://healthyfitnessmeals.com/chocolate-peanut-butter-cookies/'), ('snacks', 'https://healthyfitnessmeals.com/cranberry-almond-breakfast-cookies/'), ('desserts', 'https://healthyfitnessmeals.com/blueberry-zucchini-bread/'), ('side-dishes', 'https://healthyfitnessmeals.com/honey-roasted-butternut-squash/'), ('main-courses', 'https://healthyfitnessmeals.com/chicken-caprese-salad/'), ('side-dishes', 'https://healthyfitnessmeals.com/street-corn-salad/'), ('desserts', 'https://healthyfitnessmeals.com/baked-apples-recipe/'), ('side-dishes', 'https://healthyfitnessmeals.com/chicken-lemon-rice-soup/'), ('desserts', 'https://healthyfitnessmeals.com/peanut-butter-protein-hearts/'), ('breakfast', 'https://healthyfitnessmeals.com/banana-protein-donuts/'), ('side-dishes', 'https://healthyfitnessmeals.com/sweet-and-spicy-baked-cauliflower/'), ('breakfast', 'https://healthyfitnessmeals.com/keto-deviled-eggs/'), ('snacks', 'https://healthyfitnessmeals.com/healthy-banana-oatmeal-cookies/'), ('breakfast', 'https://healthyfitnessmeals.com/peanut-butter-overnight-oats/'), ('side-dishes', 'https://healthyfitnessmeals.com/healthy-green-bean-casserole/'), ('breakfast', 'https://healthyfitnessmeals.com/blueberry-baked-oatmeal/'), ('breakfast', 'https://healthyfitnessmeals.com/apple-cider-donuts/'), ('side-dishes', 'https://healthyfitnessmeals.com/thai-peanut-salad/'), ('snacks', 'https://healthyfitnessmeals.com/homemade-protein-granola/'), ('side-dishes', 'https://healthyfitnessmeals.com/mediterranean-chickpea-salad/'), ('main-courses', 'https://healthyfitnessmeals.com/chicken-adobo-recipe/'), ('desserts', 'https://healthyfitnessmeals.com/double-chocolate-banana-bread/')]\n"
     ]
    }
   ],
   "source": [
    "recipe_index= [\"https://healthyfitnessmeals.com/category/breakfast/\", \"https://healthyfitnessmeals.com/category/snacks/\", \n",
    "            \"https://healthyfitnessmeals.com/category/main-courses/\", \"https://healthyfitnessmeals.com/category/drinks/\",\n",
    "            \"https://healthyfitnessmeals.com/category/desserts/\", \"https://healthyfitnessmeals.com/category/side-dishes/\"]\n",
    "\n",
    "recipe_links = list()\n",
    "not_link_words = [\"/category/\", \"/about/\", \"/recipe-index/\",\"/rss-opt-in-2/\"]\n",
    "\n",
    "for ri in recipe_index:\n",
    "    category = ri.split(\"/\")[-2]\n",
    "    for _ in range(10):\n",
    "        try:\n",
    "            response = requests.get(f\"{ri}/page/{_}\")\n",
    "            content = response.content\n",
    "            soup = BeautifulSoup(content, 'html')\n",
    "            for a in soup.find_all('a', href=True):\n",
    "                # print (\"Found the URL:\", a['href'])\n",
    "                if a[\"href\"].startswith(\"https://healthyfitnessmeals.com/\") and a[\"href\"].endswith(\"/\") and not any([w for w in not_link_words if w in a[\"href\"]]) and \"-\" in a[\"href\"].split(\"/\")[-2]:\n",
    "                    recipe_links.append((category, a[\"href\"]))\n",
    "        except Exception as e:\n",
    "            print(e)\n",
    "            pass\n",
    "\n",
    "print(list(set(recipe_links)))"
   ]
  },
  {
   "cell_type": "code",
   "execution_count": 81,
   "metadata": {},
   "outputs": [],
   "source": [
    "import pandas as pd\n",
    "data = list(set(recipe_links))\n",
    "df = pd.DataFrame.from_records(data, columns=[\"category\", \"link\"])\n",
    "df\n",
    "df.to_csv(\"data/category_meal_link.csv\", index=False)"
   ]
  },
  {
   "cell_type": "code",
   "execution_count": 3,
   "metadata": {},
   "outputs": [
    {
     "name": "stdout",
     "output_type": "stream",
     "text": [
      "{'title': 'Crispy Garlic Parmesan Baked Potato Wedges Recipe', 'description': 'Filled with extra crispy flavors and textures, this delicious Garlic Parmesan Baked Potato Wedges Recipe is made with aromatic smoked paprika, garlic powder, salt, Russet potatoes, and a little bit of parmesan cheese! Baked garlic potato wedges with cheese are easy to make for delicious dinners at home. ', 'image': 'https://healthyfitnessmeals.com/wp-content/uploads/2020/05/instagram-In-Stream_Square___Baked-potato-wedges-4-300x300.jpg', 'course': 'appetizer, side dish', 'cuisine': 'american', 'diet': 'gluten free, vegetarian', 'prepTime': '10 minutes', 'cookTime': '35 minutes', 'totalTime': '45 minutes', 'servings': '4', 'calories': '438kcal', 'author': 'rena', 'ingredients': {'item': ['Olive Oil', 'Garlic Powder', 'Onion Powder', 'Smoked Paprika', 'Kosher Salt', 'Black Cracked Pepper', 'Russet Potatoes', 'Finely grated or shredded parmesan cheese', 'Fresh chopped parsley'], 'amount': ['3', '1', '1/2', '1', '1/2', '1/2', '4', '1/3', '2'], 'unit': ['tbsp.', 'tsp.', 'tsp.', 'tsp.', 'tsp.', 'tsp.', 'large', 'cup', 'tbsp.']}, 'instructions': 'Preheat the oven to 400°F and line 2 large baking sheets with parchment paper; set aside.In a small mixing bowl, whisk olive oil, garlic powder, onion powder, paprika, salt and pepper set aside.Rinse and scrub the potatoes thoroughly to remove any dirt. Pat the excess moisture with a paper towel.Next, place the potato on a cutting board and carefully slice it in half lengthwise. Place the cut side down onto the cutting board and cut it again in half to create quarters. If the potatoes are large, then you can cut again in half each quarter, to create 8 wedges.Place the wedges into a large mixing bowl. Pour the oil mixture over the top and generously rub all over the potatoes to evenly coat.Now spread the wedges onto the prepared baking sheets, making sure you leave some space in between.Sprinkle with 3/4 of the parmesan and bake for 30-35 minutes, flipping once with a tong to ensure even browning.Once done, remove from the oven. sprinkle with remaining parmesan cheese on top and garnish with freshly chopped parsley.Season with extra salt and pepper, if needed, and serve warm with your favorite dip. Enjoy!', 'notes': 'Substitutes:\\n\\nAny oil would work. We recommend using either olive oil or avocado oil\\nRusset potatoes work best for baked and roasted potatoes. You could also use yellow Yukon gold potatoes if that’s what you have handy.\\nLite or regular parmesan cheese. Grate your own!\\n\\nStorage:\\nPlace leftovers in a container and store in the fridge for up to 5-7 days. Reheat in the microwave when ready to eat. Or rebake in a preheated oven for 10 minutes. You can freeze for up to 3 months.\\nNutritional facts:\\nPlease keep in mind that the nutritional information is calculated using a nutrition facts calculator. It is a rough estimate and can vary greatly based on products used.'}\n"
     ]
    }
   ],
   "source": [
    "data_dict = dict()\n",
    "response = requests.get(\"https://healthyfitnessmeals.com/baked-potato-wedges\")\n",
    "content = response.content\n",
    "soup = BeautifulSoup(content, \"html5lib\")#.encode(\"utf8\")\n",
    "bs = soup.find(\"div\", class_=\"wprm-recipe-container\")# .get_text()#.encode(\"utf-8\")\n",
    "# title\n",
    "title = bs.find(\"h2\").get_text()\n",
    "data_dict[\"title\"] = title\n",
    "#print(title)\n",
    "# description\n",
    "description = bs.find(\"div\", class_=\"wprm-recipe-summary\").get_text()\n",
    "data_dict[\"description\"] = description\n",
    "#print(description)\n",
    "# image\n",
    "imgsrc = bs.find(\"img\")[\"data-lazy-src\"]\n",
    "data_dict[\"image\"] = imgsrc\n",
    "#print(imgsrc)\n",
    "# courses\n",
    "courses = bs.find_all(\"div\", class_=\"wprm-recipe-block-container\")\n",
    "misc_data = list()\n",
    "for c in courses:\n",
    "    c_split = c.get_text().split(\":\")\n",
    "    #print(f'\"{c_split[0]}\": {c_split[1]}')\n",
    "    if len(c_split[0].split(\" \")) > 1:\n",
    "        #print(c_split)\n",
    "        dict_key = c_split[0].split(\" \")[0].lower()+c_split[0].split(\" \")[1].strip()\n",
    "        dict_item = c_split[1].lower().strip()\n",
    "        data_dict[dict_key] = dict_item\n",
    "    else:\n",
    "        #print(c_split)\n",
    "        dict_key = c_split[0].lower().strip()\n",
    "        dict_item = c_split[1].lower().strip()\n",
    "        data_dict[dict_key] = dict_item\n",
    "\n",
    "#print(data_dict)\n",
    "# ingredients\n",
    "ingredients = dict()\n",
    "items = list()\n",
    "units = list()\n",
    "amount = list()\n",
    "it = bs.find_all(\"span\", class_=\"wprm-recipe-ingredient-name\") #.find(\"div\", class_=\"wprm-recipe-summary\")) #.find(\"h2\"))\n",
    "un = bs.find_all(\"span\", class_=\"wprm-recipe-ingredient-unit\")\n",
    "am = bs.find_all(\"span\", class_=\"wprm-recipe-ingredient-amount\")\n",
    "for i in range(len(it)):\n",
    "    try:\n",
    "        amount.append(am[i].get_text())\n",
    "    except:\n",
    "        amount.append(\"1\")\n",
    "        pass\n",
    "    try:\n",
    "        units.append(un[i].get_text())\n",
    "    except:\n",
    "        units.append(\"units\")\n",
    "        pass\n",
    "    try:\n",
    "        items.append(it[i].get_text())\n",
    "    except:\n",
    "        items.append(\"unknown-ingredient\")\n",
    "        pass\n",
    "\n",
    "ingredients[\"item\"] = items\n",
    "ingredients[\"amount\"] = amount\n",
    "ingredients[\"unit\"] = units\n",
    "# print(ingredients)\n",
    "data_dict[\"ingredients\"] = {\"item\": items, \"amount\": amount, \"unit\": units}\n",
    "#print(data_dict)\n",
    "# instructions\n",
    "instructions = bs.find(\"ul\", class_=\"wprm-recipe-instructions\").get_text() #.find(\"div\", class_=\"wprm-recipe-summary\")) #.find(\"h2\"))\n",
    "#print(instructions)\n",
    "data_dict[\"instructions\"] = instructions\n",
    "# notes\n",
    "notes = bs.find(\"div\", class_=\"wprm-recipe-notes\").get_text() #.find(\"div\", class_=\"wprm-recipe-summary\")) #.find(\"h2\"))\n",
    "data_dict[\"notes\"] = notes\n",
    "#print(notes)\n",
    "\n",
    "\n",
    "print(data_dict)"
   ]
  },
  {
   "cell_type": "code",
   "execution_count": 72,
   "metadata": {},
   "outputs": [
    {
     "data": {
      "text/plain": [
       "1"
      ]
     },
     "execution_count": 72,
     "metadata": {},
     "output_type": "execute_result"
    }
   ],
   "source": [
    "'''with open(\"data/algo.txt\", \"r\") as f:\n",
    "    a = len(f.readlines())\n",
    "    b = f.readlines()'''\n",
    "\n",
    "file1=open(\"data/algo.txt\", \"r\")\n",
    "b=file1.readlines()\n",
    "c=file1.tell()\n",
    "'''a=len(b)\n",
    "c=\"newline\"\n",
    "file1.seek(-1)\n",
    "e = file1.readlines()\n",
    "file1.tell()\n",
    "\n",
    "print(a)\n",
    "print(b[a-1])\n",
    "print(e)'''\n",
    "file1=open(\"data/algo.txt\", \"a\")\n",
    "file1.seek(c-3)\n",
    "file1.write(\"a\")\n",
    "#e = file1.readlines()\n",
    "#print(c)\n",
    "#print(e)\n"
   ]
  },
  {
   "cell_type": "code",
   "execution_count": 75,
   "metadata": {},
   "outputs": [
    {
     "name": "stdout",
     "output_type": "stream",
     "text": [
      "8page\n"
     ]
    }
   ],
   "source": [
    "file1=open(\"data/algo.txt\", \"r\")\n",
    "b=file1.readlines()\n",
    "print(b[-1])\n",
    "b[-1]=\"end-of-file\"\n",
    "with open('data/algo.txt', 'w', encoding='utf-8') as file:\n",
    "    file.writelines(b)"
   ]
  },
  {
   "cell_type": "code",
   "execution_count": 18,
   "metadata": {},
   "outputs": [
    {
     "name": "stdout",
     "output_type": "stream",
     "text": [
      "{'title': 'Cinnamon Apple Pie Vegan Chia Pudding', 'descrip': 'Filling and nutritious chia pudding made with simple ingredients and then topped with a cinnamon apple pie topping.', 'course': ['breakfast', ' dessert cuisine', ' american diet', ' gluten free'], 'cookTime': {'prepTime': ' 10 minutes', 'cookTime': ' 4 hours', 'totalTime': ' 4 hours 10 minutes'}, 'servings': ' 4', 'ingredients': [' 1/3 cup chia seeds', ' 1/3 cup unsweetened apple sauce', ' 1 1/4 cup milk of choice for a vegan option use dairy-free milk', ' 2 tbsp maple syrup', ' 1 tsp vanilla extract', ' 1/2 tsp cinnamon powderApple pie topping:', ' 1 tbsp coconut oil', ' 2 large apples peeled and cubed', ' 1/2 tsp cinnamon', ' 1/4 tsp ground nutmeg', ' 2 tbsp maple syrup', ' topping: pecans  optional'], 'notes': ['Please use the ingredients listed. Maple syrup can be substituted for honey if you do not need a vegan-friendly chia pudding option.', 'You may use apple pie mix seasoning instead of the cinnamon and nutmeg.', 'Allow the chia seeds to soak in the fridge for at least 4 hours or overnight', 'VEGAN option: use dairy-free milk like coconut milk, almond milk, or cashew milk.'], 'nutritionalInfo': {}}\n"
     ]
    }
   ],
   "source": [
    "recipe_raw = [t for t in bs.split(\"\\n\") if t!=\"\"]\n",
    "#print(recipe_raw)\n",
    "\n",
    "'''import HTMLParser\n",
    "html_parser = HTMLParser.HTMLParser()\n",
    "texto = html_parser.unescape(recipe_raw)'''\n",
    "\n",
    "title = recipe_raw[0]\n",
    "description = recipe_raw[1]\n",
    "\n",
    "course = \",\".join([r for r in recipe_raw if \"Course:\" in r]) # \",\".join((\",\".join([r for r in recipe_list if \"Course:\" in r]).split(\":\")))\n",
    "course = course.replace(\":\", \",\").replace(\"Course,\", \"\")\n",
    "course = re.findall('[A-Z][^A-Z]*', course)\n",
    "course = re.sub(\" +\", \" \", \" \".join(course))\n",
    "course = [c.lower() for c in course.split(\",\")]\n",
    "\n",
    "recipe_time = \",\".join([r for r in recipe_raw if \"Prep Time:\" in r]) # \",\".join((\",\".join([r for r in recipe_list if \"Course:\" in r]).split(\":\")))\n",
    "recipe_time = re.findall('[A-Z][^A-Z]*', recipe_time)\n",
    "cooking_time = dict()\n",
    "cooking_time[\"prepTime\"] = recipe_time[1].split(\":\")[-1]\n",
    "cooking_time[\"cookTime\"] = recipe_time[3].split(\":\")[-1]\n",
    "cooking_time[\"totalTime\"] = recipe_time[5].split(\":\")[-1]\n",
    "#for i in range(0, len(recipe_time), 2):\n",
    "    #cooking_time[recipe_time[i]] = recipe_time[i+1]\n",
    "    # cooking_time.append(f\"{recipe_time[i]}{recipe_time[i+1]}\")\n",
    "\n",
    "servings = [r for r in recipe_raw if \"Servings:\" in r][0].split(\":\")[-1]\n",
    "\n",
    "ingredients = \",\".join([r for r in recipe_raw if \"Ingredients\" in r]).replace(\"Ingredients\", \"\").split(\"▢\")[1:] # .replace(\"▢\", \",\")\n",
    "\n",
    "notes = list() # \",\".join([r for r in recipe_raw if \"Notes\" in r])\n",
    "\n",
    "j = [h for h, c in enumerate(recipe_raw) if c.startswith(\"NutritionCalories\")]\n",
    "# print(j[0])\n",
    "for i, r in enumerate(recipe_raw):\n",
    "    if i > recipe_raw.index(\"Notes\") and i < j[0]:\n",
    "        notes.append(r)\n",
    "\n",
    "nutritional_info = dict()\n",
    "nutrients_list = \",\".join([r for r in recipe_raw if \"NutritionCalories:\" in r]).replace(\"NutritionCalories:\", \"\").split(\"|\")\n",
    "\n",
    "print({\n",
    "    \"title\": title,\n",
    "    \"descrip\": description,\n",
    "    \"course\": course,\n",
    "    \"cookTime\": cooking_time,\n",
    "    \"servings\": servings,\n",
    "    \"ingredients\": ingredients,\n",
    "    \"notes\": notes,\n",
    "    \"nutritionalInfo\": nutritional_info\n",
    "})"
   ]
  },
  {
   "cell_type": "code",
   "execution_count": 152,
   "metadata": {},
   "outputs": [
    {
     "data": {
      "text/plain": [
       "['Cinnamon Apple Pie Vegan Chia Pudding',\n",
       " 'Filling and nutritious chia pudding made with simple ingredients and then topped with a cinnamon apple pie topping.',\n",
       " 'No ratings yet',\n",
       " ' Print',\n",
       " ' Pin',\n",
       " ' Rate',\n",
       " 'Course: Breakfast, DessertCuisine: AmericanDiet: Gluten Free',\n",
       " 'Prep Time: 10 minutesCook Time: 4 hoursTotal Time: 4 hours 10 minutes',\n",
       " 'Servings: 4',\n",
       " 'Calories: 255kcal',\n",
       " 'Author: Rena',\n",
       " 'IngredientsChia pudding:▢ 1/3 cup chia seeds▢ 1/3 cup unsweetened apple sauce▢ 1 1/4 cup milk of choice for a vegan option use dairy-free milk▢ 2 tbsp maple syrup▢ 1 tsp vanilla extract▢ 1/2 tsp cinnamon powderApple pie topping:▢ 1 tbsp coconut oil▢ 2 large apples peeled and cubed▢ 1/2 tsp cinnamon▢ 1/4 tsp ground nutmeg▢ 2 tbsp maple syrup▢ topping: pecans  optional',\n",
       " 'InstructionsIn a mixing bowl, stir well all the chia pudding ingredients, then refrigerate until set.To make the apple pie topping, heat the coconut oil in a frying pan over high heat. Add the cubed apples, cinnamon, and nutmeg.Cook for 4-5 minutes, stirring occasionally. Stir in the maple syrup and continue to cook for a couple of minutes longer.Once the chia pudding is set, divide it among 4 jars. Top each with the apple pie topping. Refrigerate or serve and enjoy!',\n",
       " 'Notes',\n",
       " 'Please use the ingredients listed. Maple syrup can be substituted for honey if you do not need a vegan-friendly chia pudding option.',\n",
       " 'You may use apple pie mix seasoning instead of the cinnamon and nutmeg.',\n",
       " 'Allow the chia seeds to soak in the fridge for at least 4 hours or overnight',\n",
       " 'VEGAN option: use dairy-free milk like coconut milk, almond milk, or cashew milk.',\n",
       " 'NutritionCalories: 255kcal | Carbohydrates: 42g | Protein: 5g | Fat: 9g | Saturated Fat: 4g | Polyunsaturated Fat: 3g | Monounsaturated Fat: 1g | Trans Fat: 0.02g | Cholesterol: 4mg | Sodium: 35mg | Potassium: 358mg | Fiber: 8g | Sugar: 29g | Vitamin A: 220IU | Vitamin C: 6mg | Calcium: 217mg | Iron: 1mg',\n",
       " '   Tried this Recipe? Tag me Today!Mention @HealthyFitnessMeals or tag #HealthyFitnessMeals!']"
      ]
     },
     "execution_count": 152,
     "metadata": {},
     "output_type": "execute_result"
    }
   ],
   "source": [
    "recipe_list = [t for t in bs.split(\"\\n\") if t!=\"\"]\n",
    "recipe_list"
   ]
  },
  {
   "cell_type": "code",
   "execution_count": 105,
   "metadata": {},
   "outputs": [
    {
     "name": "stdout",
     "output_type": "stream",
     "text": [
      "Cinnamon Apple Pie Vegan Chia Pudding Filling and nutritious chia pudding made with simple ingredients and then topped with a cinnamon apple pie topping.\n"
     ]
    }
   ],
   "source": [
    "title = recipe_list[0]\n",
    "descrip = recipe_list[1]\n",
    "print(title, descrip)"
   ]
  },
  {
   "cell_type": "code",
   "execution_count": 108,
   "metadata": {},
   "outputs": [
    {
     "name": "stdout",
     "output_type": "stream",
     "text": [
      "Breakfast, Dessert Cuisine, American Diet, Gluten Free\n"
     ]
    }
   ],
   "source": [
    "course = \",\".join([r for r in recipe_list if \"Course:\" in r]) # \",\".join((\",\".join([r for r in recipe_list if \"Course:\" in r]).split(\":\")))\n",
    "course = course.replace(\":\", \",\").replace(\"Course,\", \"\")\n",
    "course = re.findall('[A-Z][^A-Z]*', course)\n",
    "course = re.sub(\" +\", \" \", \" \".join(course))\n",
    "#course = course.replace(\",\", \" \").replace(\"Course: \", \"\").split(\"  \")\n",
    "#course = [c.replace(\",\", \" \") for c in course]\n",
    "print(course)\n",
    "# print(title, course, descrip)"
   ]
  },
  {
   "cell_type": "code",
   "execution_count": 144,
   "metadata": {},
   "outputs": [
    {
     "name": "stdout",
     "output_type": "stream",
     "text": [
      "Prep Time: 10 minutes\n",
      "Cook Time: 4 hours\n",
      "Total Time: 4 hours 10 minutes\n",
      "['Prep ', 'Time: 10 minutes', 'Cook ', 'Time: 4 hours', 'Total ', 'Time: 4 hours 10 minutes']\n"
     ]
    }
   ],
   "source": [
    "cooking_time = \",\".join([r for r in recipe_list if \"Prep Time:\" in r]) # \",\".join((\",\".join([r for r in recipe_list if \"Course:\" in r]).split(\":\")))\n",
    "# course = course.replace(\":\", \",\").replace(\"Prep Time,\", \"\")\n",
    "cooking_time = re.findall('[A-Z][^A-Z]*', cooking_time)\n",
    "# cooking_time = [c.split(\":\") for c in cooking_time]\n",
    "#cooking_time = re.sub(\" +\", \" \", \" \".join(cooking_time))\n",
    "#course = course.replace(\",\", \" \").replace(\"Course: \", \"\").split(\"  \")\n",
    "#course = [c.replace(\",\", \" \") for c in course]\n",
    "# cooking_time = re.findall('[A-Z][^A-Z]*', cooking_time)\n",
    "# cooking_time = re.findall('[^A-Z][A-Z][^A-Z]*', cooking_time)\n",
    "for i in range(0, len(cooking_time), 2):\n",
    "    print(f\"{cooking_time[i]}{cooking_time[i+1]}\")\n",
    "print(cooking_time)\n",
    "# print(title, course, descrip)"
   ]
  },
  {
   "cell_type": "code",
   "execution_count": 153,
   "metadata": {},
   "outputs": [
    {
     "data": {
      "text/plain": [
       "'Servings: 4'"
      ]
     },
     "execution_count": 153,
     "metadata": {},
     "output_type": "execute_result"
    }
   ],
   "source": [
    "servings = \",\".join([r for r in recipe_list if \"Servings:\" in r])\n",
    "servings"
   ]
  },
  {
   "cell_type": "code",
   "execution_count": 149,
   "metadata": {},
   "outputs": [
    {
     "data": {
      "text/plain": [
       "'Calories: 255kcal'"
      ]
     },
     "execution_count": 149,
     "metadata": {},
     "output_type": "execute_result"
    }
   ],
   "source": [
    "calories = \",\".join([r for r in recipe_list if \"Calories:\" in r]).split(\",\")[0]\n",
    "calories"
   ]
  },
  {
   "cell_type": "code",
   "execution_count": 157,
   "metadata": {},
   "outputs": [
    {
     "data": {
      "text/plain": [
       "['NutritionCalories: 255kcal ',\n",
       " ' Carbohydrates: 42g ',\n",
       " ' Protein: 5g ',\n",
       " ' Fat: 9g ',\n",
       " ' Saturated Fat: 4g ',\n",
       " ' Polyunsaturated Fat: 3g ',\n",
       " ' Monounsaturated Fat: 1g ',\n",
       " ' Trans Fat: 0.02g ',\n",
       " ' Cholesterol: 4mg ',\n",
       " ' Sodium: 35mg ',\n",
       " ' Potassium: 358mg ',\n",
       " ' Fiber: 8g ',\n",
       " ' Sugar: 29g ',\n",
       " ' Vitamin A: 220IU ',\n",
       " ' Vitamin C: 6mg ',\n",
       " ' Calcium: 217mg ',\n",
       " ' Iron: 1mg']"
      ]
     },
     "execution_count": 157,
     "metadata": {},
     "output_type": "execute_result"
    }
   ],
   "source": [
    "nutritional_info = \",\".join([r for r in recipe_list if \"NutritionCalories:\" in r])\n",
    "nutritional_info = nutritional_info.split(\"|\")\n",
    "\n",
    "nutritional_info"
   ]
  },
  {
   "cell_type": "code",
   "execution_count": 4,
   "metadata": {},
   "outputs": [
    {
     "data": {
      "text/html": [
       "<div>\n",
       "<style scoped>\n",
       "    .dataframe tbody tr th:only-of-type {\n",
       "        vertical-align: middle;\n",
       "    }\n",
       "\n",
       "    .dataframe tbody tr th {\n",
       "        vertical-align: top;\n",
       "    }\n",
       "\n",
       "    .dataframe thead th {\n",
       "        text-align: right;\n",
       "    }\n",
       "</style>\n",
       "<table border=\"1\" class=\"dataframe\">\n",
       "  <thead>\n",
       "    <tr style=\"text-align: right;\">\n",
       "      <th></th>\n",
       "      <th>raw_ingr</th>\n",
       "      <th>raw_words</th>\n",
       "      <th>processed</th>\n",
       "      <th>len_proc</th>\n",
       "      <th>replaced</th>\n",
       "      <th>count</th>\n",
       "      <th>id</th>\n",
       "    </tr>\n",
       "  </thead>\n",
       "  <tbody>\n",
       "    <tr>\n",
       "      <th>11600</th>\n",
       "      <td>umeboshi</td>\n",
       "      <td>1</td>\n",
       "      <td>umeboshi</td>\n",
       "      <td>8</td>\n",
       "      <td>umeboshi</td>\n",
       "      <td>2</td>\n",
       "      <td>7344</td>\n",
       "    </tr>\n",
       "    <tr>\n",
       "      <th>11601</th>\n",
       "      <td>scotch</td>\n",
       "      <td>1</td>\n",
       "      <td>scotch</td>\n",
       "      <td>6</td>\n",
       "      <td>scotch</td>\n",
       "      <td>9</td>\n",
       "      <td>6341</td>\n",
       "    </tr>\n",
       "    <tr>\n",
       "      <th>11602</th>\n",
       "      <td>armagnac</td>\n",
       "      <td>1</td>\n",
       "      <td>armagnac</td>\n",
       "      <td>8</td>\n",
       "      <td>armagnac</td>\n",
       "      <td>3</td>\n",
       "      <td>197</td>\n",
       "    </tr>\n",
       "    <tr>\n",
       "      <th>11603</th>\n",
       "      <td>sweetcorn</td>\n",
       "      <td>1</td>\n",
       "      <td>sweetcorn</td>\n",
       "      <td>9</td>\n",
       "      <td>sweetcorn</td>\n",
       "      <td>45</td>\n",
       "      <td>7017</td>\n",
       "    </tr>\n",
       "    <tr>\n",
       "      <th>11604</th>\n",
       "      <td>advocaat</td>\n",
       "      <td>1</td>\n",
       "      <td>advocaat</td>\n",
       "      <td>8</td>\n",
       "      <td>advocaat</td>\n",
       "      <td>3</td>\n",
       "      <td>31</td>\n",
       "    </tr>\n",
       "    <tr>\n",
       "      <th>11605</th>\n",
       "      <td>dippers</td>\n",
       "      <td>1</td>\n",
       "      <td>dipper</td>\n",
       "      <td>6</td>\n",
       "      <td>dipper</td>\n",
       "      <td>4</td>\n",
       "      <td>2162</td>\n",
       "    </tr>\n",
       "    <tr>\n",
       "      <th>11606</th>\n",
       "      <td>bangers</td>\n",
       "      <td>1</td>\n",
       "      <td>banger</td>\n",
       "      <td>6</td>\n",
       "      <td>banger</td>\n",
       "      <td>2</td>\n",
       "      <td>363</td>\n",
       "    </tr>\n",
       "    <tr>\n",
       "      <th>11607</th>\n",
       "      <td>flavoring</td>\n",
       "      <td>1</td>\n",
       "      <td>flavoring</td>\n",
       "      <td>9</td>\n",
       "      <td>flavoring</td>\n",
       "      <td>29</td>\n",
       "      <td>2677</td>\n",
       "    </tr>\n",
       "    <tr>\n",
       "      <th>11608</th>\n",
       "      <td>seeds</td>\n",
       "      <td>1</td>\n",
       "      <td>seed</td>\n",
       "      <td>4</td>\n",
       "      <td>seed</td>\n",
       "      <td>25</td>\n",
       "      <td>6375</td>\n",
       "    </tr>\n",
       "    <tr>\n",
       "      <th>11609</th>\n",
       "      <td>fettuccine</td>\n",
       "      <td>1</td>\n",
       "      <td>fettuccine</td>\n",
       "      <td>10</td>\n",
       "      <td>fettuccine</td>\n",
       "      <td>306</td>\n",
       "      <td>2592</td>\n",
       "    </tr>\n",
       "    <tr>\n",
       "      <th>11610</th>\n",
       "      <td>nashi</td>\n",
       "      <td>1</td>\n",
       "      <td>nashi</td>\n",
       "      <td>5</td>\n",
       "      <td>nashi</td>\n",
       "      <td>2</td>\n",
       "      <td>4896</td>\n",
       "    </tr>\n",
       "    <tr>\n",
       "      <th>11611</th>\n",
       "      <td>spirulina</td>\n",
       "      <td>1</td>\n",
       "      <td>spirulina</td>\n",
       "      <td>9</td>\n",
       "      <td>spirulina</td>\n",
       "      <td>2</td>\n",
       "      <td>6771</td>\n",
       "    </tr>\n",
       "    <tr>\n",
       "      <th>11612</th>\n",
       "      <td>coffee</td>\n",
       "      <td>1</td>\n",
       "      <td>coffee</td>\n",
       "      <td>6</td>\n",
       "      <td>coffee</td>\n",
       "      <td>349</td>\n",
       "      <td>1625</td>\n",
       "    </tr>\n",
       "    <tr>\n",
       "      <th>11613</th>\n",
       "      <td>vermouth</td>\n",
       "      <td>1</td>\n",
       "      <td>vermouth</td>\n",
       "      <td>8</td>\n",
       "      <td>vermouth</td>\n",
       "      <td>65</td>\n",
       "      <td>7614</td>\n",
       "    </tr>\n",
       "    <tr>\n",
       "      <th>11614</th>\n",
       "      <td>vinaigrette</td>\n",
       "      <td>1</td>\n",
       "      <td>vinaigrette</td>\n",
       "      <td>11</td>\n",
       "      <td>vinaigrette</td>\n",
       "      <td>64</td>\n",
       "      <td>7618</td>\n",
       "    </tr>\n",
       "    <tr>\n",
       "      <th>11615</th>\n",
       "      <td>dal</td>\n",
       "      <td>1</td>\n",
       "      <td>dal</td>\n",
       "      <td>3</td>\n",
       "      <td>dal</td>\n",
       "      <td>2</td>\n",
       "      <td>2034</td>\n",
       "    </tr>\n",
       "    <tr>\n",
       "      <th>11616</th>\n",
       "      <td>conch</td>\n",
       "      <td>1</td>\n",
       "      <td>conch</td>\n",
       "      <td>5</td>\n",
       "      <td>conch</td>\n",
       "      <td>6</td>\n",
       "      <td>1660</td>\n",
       "    </tr>\n",
       "    <tr>\n",
       "      <th>11617</th>\n",
       "      <td>cassia</td>\n",
       "      <td>1</td>\n",
       "      <td>cassium</td>\n",
       "      <td>7</td>\n",
       "      <td>cassium</td>\n",
       "      <td>7</td>\n",
       "      <td>1105</td>\n",
       "    </tr>\n",
       "    <tr>\n",
       "      <th>11618</th>\n",
       "      <td>watermelon</td>\n",
       "      <td>1</td>\n",
       "      <td>watermelon</td>\n",
       "      <td>10</td>\n",
       "      <td>watermelon</td>\n",
       "      <td>200</td>\n",
       "      <td>7661</td>\n",
       "    </tr>\n",
       "    <tr>\n",
       "      <th>11619</th>\n",
       "      <td>shortbread</td>\n",
       "      <td>1</td>\n",
       "      <td>shortbread</td>\n",
       "      <td>10</td>\n",
       "      <td>shortbread</td>\n",
       "      <td>7</td>\n",
       "      <td>6465</td>\n",
       "    </tr>\n",
       "  </tbody>\n",
       "</table>\n",
       "</div>"
      ],
      "text/plain": [
       "          raw_ingr  raw_words    processed  len_proc     replaced  count    id\n",
       "11600     umeboshi          1     umeboshi         8     umeboshi      2  7344\n",
       "11601       scotch          1       scotch         6       scotch      9  6341\n",
       "11602     armagnac          1     armagnac         8     armagnac      3   197\n",
       "11603    sweetcorn          1    sweetcorn         9    sweetcorn     45  7017\n",
       "11604     advocaat          1     advocaat         8     advocaat      3    31\n",
       "11605      dippers          1       dipper         6       dipper      4  2162\n",
       "11606      bangers          1       banger         6       banger      2   363\n",
       "11607    flavoring          1    flavoring         9    flavoring     29  2677\n",
       "11608        seeds          1         seed         4         seed     25  6375\n",
       "11609   fettuccine          1   fettuccine        10   fettuccine    306  2592\n",
       "11610        nashi          1        nashi         5        nashi      2  4896\n",
       "11611    spirulina          1    spirulina         9    spirulina      2  6771\n",
       "11612       coffee          1       coffee         6       coffee    349  1625\n",
       "11613     vermouth          1     vermouth         8     vermouth     65  7614\n",
       "11614  vinaigrette          1  vinaigrette        11  vinaigrette     64  7618\n",
       "11615          dal          1          dal         3          dal      2  2034\n",
       "11616        conch          1        conch         5        conch      6  1660\n",
       "11617       cassia          1      cassium         7      cassium      7  1105\n",
       "11618   watermelon          1   watermelon        10   watermelon    200  7661\n",
       "11619   shortbread          1   shortbread        10   shortbread      7  6465"
      ]
     },
     "execution_count": 4,
     "metadata": {},
     "output_type": "execute_result"
    }
   ],
   "source": [
    "import pickle\n",
    "\n",
    "with open(\"data/ingr_map.pkl\", \"rb\") as f:\n",
    "    data = pickle.load(f)\n",
    "\n",
    "data[11600:11620]"
   ]
  },
  {
   "cell_type": "code",
   "execution_count": 5,
   "metadata": {},
   "outputs": [
    {
     "data": {
      "text/html": [
       "<div>\n",
       "<style scoped>\n",
       "    .dataframe tbody tr th:only-of-type {\n",
       "        vertical-align: middle;\n",
       "    }\n",
       "\n",
       "    .dataframe tbody tr th {\n",
       "        vertical-align: top;\n",
       "    }\n",
       "\n",
       "    .dataframe thead th {\n",
       "        text-align: right;\n",
       "    }\n",
       "</style>\n",
       "<table border=\"1\" class=\"dataframe\">\n",
       "  <thead>\n",
       "    <tr style=\"text-align: right;\">\n",
       "      <th></th>\n",
       "      <th>id</th>\n",
       "      <th>i</th>\n",
       "      <th>name_tokens</th>\n",
       "      <th>ingredient_tokens</th>\n",
       "      <th>steps_tokens</th>\n",
       "      <th>techniques</th>\n",
       "      <th>calorie_level</th>\n",
       "      <th>ingredient_ids</th>\n",
       "    </tr>\n",
       "  </thead>\n",
       "  <tbody>\n",
       "    <tr>\n",
       "      <th>0</th>\n",
       "      <td>424415</td>\n",
       "      <td>23</td>\n",
       "      <td>[40480, 37229, 2911, 1019, 249, 6878, 6878, 28...</td>\n",
       "      <td>[[2911, 1019, 249, 6878], [1353], [6953], [153...</td>\n",
       "      <td>[40480, 40482, 21662, 481, 6878, 500, 246, 161...</td>\n",
       "      <td>[0, 0, 0, 0, 0, 0, 0, 0, 0, 1, 0, 0, 0, 0, 0, ...</td>\n",
       "      <td>0</td>\n",
       "      <td>[389, 7655, 6270, 1527, 3406]</td>\n",
       "    </tr>\n",
       "    <tr>\n",
       "      <th>1</th>\n",
       "      <td>146223</td>\n",
       "      <td>96900</td>\n",
       "      <td>[40480, 18376, 7056, 246, 1531, 2032, 40481]</td>\n",
       "      <td>[[17918], [25916], [2507, 6444], [8467, 1179],...</td>\n",
       "      <td>[40480, 40482, 729, 2525, 10906, 485, 43, 8393...</td>\n",
       "      <td>[1, 0, 0, 0, 0, 0, 0, 0, 0, 1, 0, 0, 0, 0, 0, ...</td>\n",
       "      <td>0</td>\n",
       "      <td>[2683, 4969, 800, 5298, 840, 2499, 6632, 7022,...</td>\n",
       "    </tr>\n",
       "    <tr>\n",
       "      <th>2</th>\n",
       "      <td>312329</td>\n",
       "      <td>120056</td>\n",
       "      <td>[40480, 21044, 16954, 8294, 556, 10837, 40481]</td>\n",
       "      <td>[[5867, 24176], [1353], [6953], [1301, 11332],...</td>\n",
       "      <td>[40480, 40482, 8240, 481, 24176, 296, 1353, 66...</td>\n",
       "      <td>[0, 0, 0, 0, 1, 0, 0, 0, 0, 0, 0, 1, 0, 0, 0, ...</td>\n",
       "      <td>1</td>\n",
       "      <td>[1257, 7655, 6270, 590, 5024, 1119, 4883, 6696...</td>\n",
       "    </tr>\n",
       "    <tr>\n",
       "      <th>3</th>\n",
       "      <td>74301</td>\n",
       "      <td>168258</td>\n",
       "      <td>[40480, 10025, 31156, 40481]</td>\n",
       "      <td>[[1270, 1645, 28447], [21601], [27952, 29471, ...</td>\n",
       "      <td>[40480, 40482, 5539, 21601, 1073, 903, 2324, 4...</td>\n",
       "      <td>[1, 0, 0, 0, 0, 0, 0, 0, 0, 0, 0, 0, 0, 0, 0, ...</td>\n",
       "      <td>0</td>\n",
       "      <td>[7940, 3609, 7060, 6265, 1170, 6654, 5003, 3561]</td>\n",
       "    </tr>\n",
       "    <tr>\n",
       "      <th>4</th>\n",
       "      <td>76272</td>\n",
       "      <td>109030</td>\n",
       "      <td>[40480, 17841, 252, 782, 2373, 1641, 2373, 252...</td>\n",
       "      <td>[[1430, 11434], [1430, 17027], [1615, 23, 695,...</td>\n",
       "      <td>[40480, 40482, 14046, 1430, 11434, 488, 17027,...</td>\n",
       "      <td>[0, 0, 0, 0, 0, 0, 0, 0, 0, 1, 0, 0, 0, 0, 0, ...</td>\n",
       "      <td>0</td>\n",
       "      <td>[3484, 6324, 7594, 243]</td>\n",
       "    </tr>\n",
       "  </tbody>\n",
       "</table>\n",
       "</div>"
      ],
      "text/plain": [
       "       id       i                                        name_tokens  \\\n",
       "0  424415      23  [40480, 37229, 2911, 1019, 249, 6878, 6878, 28...   \n",
       "1  146223   96900       [40480, 18376, 7056, 246, 1531, 2032, 40481]   \n",
       "2  312329  120056     [40480, 21044, 16954, 8294, 556, 10837, 40481]   \n",
       "3   74301  168258                       [40480, 10025, 31156, 40481]   \n",
       "4   76272  109030  [40480, 17841, 252, 782, 2373, 1641, 2373, 252...   \n",
       "\n",
       "                                   ingredient_tokens  \\\n",
       "0  [[2911, 1019, 249, 6878], [1353], [6953], [153...   \n",
       "1  [[17918], [25916], [2507, 6444], [8467, 1179],...   \n",
       "2  [[5867, 24176], [1353], [6953], [1301, 11332],...   \n",
       "3  [[1270, 1645, 28447], [21601], [27952, 29471, ...   \n",
       "4  [[1430, 11434], [1430, 17027], [1615, 23, 695,...   \n",
       "\n",
       "                                        steps_tokens  \\\n",
       "0  [40480, 40482, 21662, 481, 6878, 500, 246, 161...   \n",
       "1  [40480, 40482, 729, 2525, 10906, 485, 43, 8393...   \n",
       "2  [40480, 40482, 8240, 481, 24176, 296, 1353, 66...   \n",
       "3  [40480, 40482, 5539, 21601, 1073, 903, 2324, 4...   \n",
       "4  [40480, 40482, 14046, 1430, 11434, 488, 17027,...   \n",
       "\n",
       "                                          techniques  calorie_level  \\\n",
       "0  [0, 0, 0, 0, 0, 0, 0, 0, 0, 1, 0, 0, 0, 0, 0, ...              0   \n",
       "1  [1, 0, 0, 0, 0, 0, 0, 0, 0, 1, 0, 0, 0, 0, 0, ...              0   \n",
       "2  [0, 0, 0, 0, 1, 0, 0, 0, 0, 0, 0, 1, 0, 0, 0, ...              1   \n",
       "3  [1, 0, 0, 0, 0, 0, 0, 0, 0, 0, 0, 0, 0, 0, 0, ...              0   \n",
       "4  [0, 0, 0, 0, 0, 0, 0, 0, 0, 1, 0, 0, 0, 0, 0, ...              0   \n",
       "\n",
       "                                      ingredient_ids  \n",
       "0                      [389, 7655, 6270, 1527, 3406]  \n",
       "1  [2683, 4969, 800, 5298, 840, 2499, 6632, 7022,...  \n",
       "2  [1257, 7655, 6270, 590, 5024, 1119, 4883, 6696...  \n",
       "3   [7940, 3609, 7060, 6265, 1170, 6654, 5003, 3561]  \n",
       "4                            [3484, 6324, 7594, 243]  "
      ]
     },
     "execution_count": 5,
     "metadata": {},
     "output_type": "execute_result"
    }
   ],
   "source": [
    "recipes1 = pd.read_csv(\"data/PP_recipes.csv\", header=0)\n",
    "recipes1.head()"
   ]
  },
  {
   "cell_type": "code",
   "execution_count": 6,
   "metadata": {},
   "outputs": [
    {
     "data": {
      "text/html": [
       "<div>\n",
       "<style scoped>\n",
       "    .dataframe tbody tr th:only-of-type {\n",
       "        vertical-align: middle;\n",
       "    }\n",
       "\n",
       "    .dataframe tbody tr th {\n",
       "        vertical-align: top;\n",
       "    }\n",
       "\n",
       "    .dataframe thead th {\n",
       "        text-align: right;\n",
       "    }\n",
       "</style>\n",
       "<table border=\"1\" class=\"dataframe\">\n",
       "  <thead>\n",
       "    <tr style=\"text-align: right;\">\n",
       "      <th></th>\n",
       "      <th>name</th>\n",
       "      <th>id</th>\n",
       "      <th>minutes</th>\n",
       "      <th>contributor_id</th>\n",
       "      <th>submitted</th>\n",
       "      <th>tags</th>\n",
       "      <th>nutrition</th>\n",
       "      <th>n_steps</th>\n",
       "      <th>steps</th>\n",
       "      <th>description</th>\n",
       "      <th>ingredients</th>\n",
       "      <th>n_ingredients</th>\n",
       "    </tr>\n",
       "  </thead>\n",
       "  <tbody>\n",
       "    <tr>\n",
       "      <th>0</th>\n",
       "      <td>arriba   baked winter squash mexican style</td>\n",
       "      <td>137739</td>\n",
       "      <td>55</td>\n",
       "      <td>47892</td>\n",
       "      <td>2005-09-16</td>\n",
       "      <td>['60-minutes-or-less', 'time-to-make', 'course...</td>\n",
       "      <td>[51.5, 0.0, 13.0, 0.0, 2.0, 0.0, 4.0]</td>\n",
       "      <td>11</td>\n",
       "      <td>['make a choice and proceed with recipe', 'dep...</td>\n",
       "      <td>autumn is my favorite time of year to cook! th...</td>\n",
       "      <td>['winter squash', 'mexican seasoning', 'mixed ...</td>\n",
       "      <td>7</td>\n",
       "    </tr>\n",
       "    <tr>\n",
       "      <th>1</th>\n",
       "      <td>a bit different  breakfast pizza</td>\n",
       "      <td>31490</td>\n",
       "      <td>30</td>\n",
       "      <td>26278</td>\n",
       "      <td>2002-06-17</td>\n",
       "      <td>['30-minutes-or-less', 'time-to-make', 'course...</td>\n",
       "      <td>[173.4, 18.0, 0.0, 17.0, 22.0, 35.0, 1.0]</td>\n",
       "      <td>9</td>\n",
       "      <td>['preheat oven to 425 degrees f', 'press dough...</td>\n",
       "      <td>this recipe calls for the crust to be prebaked...</td>\n",
       "      <td>['prepared pizza crust', 'sausage patty', 'egg...</td>\n",
       "      <td>6</td>\n",
       "    </tr>\n",
       "    <tr>\n",
       "      <th>2</th>\n",
       "      <td>all in the kitchen  chili</td>\n",
       "      <td>112140</td>\n",
       "      <td>130</td>\n",
       "      <td>196586</td>\n",
       "      <td>2005-02-25</td>\n",
       "      <td>['time-to-make', 'course', 'preparation', 'mai...</td>\n",
       "      <td>[269.8, 22.0, 32.0, 48.0, 39.0, 27.0, 5.0]</td>\n",
       "      <td>6</td>\n",
       "      <td>['brown ground beef in large pot', 'add choppe...</td>\n",
       "      <td>this modified version of 'mom's' chili was a h...</td>\n",
       "      <td>['ground beef', 'yellow onions', 'diced tomato...</td>\n",
       "      <td>13</td>\n",
       "    </tr>\n",
       "    <tr>\n",
       "      <th>3</th>\n",
       "      <td>alouette  potatoes</td>\n",
       "      <td>59389</td>\n",
       "      <td>45</td>\n",
       "      <td>68585</td>\n",
       "      <td>2003-04-14</td>\n",
       "      <td>['60-minutes-or-less', 'time-to-make', 'course...</td>\n",
       "      <td>[368.1, 17.0, 10.0, 2.0, 14.0, 8.0, 20.0]</td>\n",
       "      <td>11</td>\n",
       "      <td>['place potatoes in a large pot of lightly sal...</td>\n",
       "      <td>this is a super easy, great tasting, make ahea...</td>\n",
       "      <td>['spreadable cheese with garlic and herbs', 'n...</td>\n",
       "      <td>11</td>\n",
       "    </tr>\n",
       "    <tr>\n",
       "      <th>4</th>\n",
       "      <td>amish  tomato ketchup  for canning</td>\n",
       "      <td>44061</td>\n",
       "      <td>190</td>\n",
       "      <td>41706</td>\n",
       "      <td>2002-10-25</td>\n",
       "      <td>['weeknight', 'time-to-make', 'course', 'main-...</td>\n",
       "      <td>[352.9, 1.0, 337.0, 23.0, 3.0, 0.0, 28.0]</td>\n",
       "      <td>5</td>\n",
       "      <td>['mix all ingredients&amp; boil for 2 1 / 2 hours ...</td>\n",
       "      <td>my dh's amish mother raised him on this recipe...</td>\n",
       "      <td>['tomato juice', 'apple cider vinegar', 'sugar...</td>\n",
       "      <td>8</td>\n",
       "    </tr>\n",
       "  </tbody>\n",
       "</table>\n",
       "</div>"
      ],
      "text/plain": [
       "                                         name      id  minutes  \\\n",
       "0  arriba   baked winter squash mexican style  137739       55   \n",
       "1            a bit different  breakfast pizza   31490       30   \n",
       "2                   all in the kitchen  chili  112140      130   \n",
       "3                          alouette  potatoes   59389       45   \n",
       "4          amish  tomato ketchup  for canning   44061      190   \n",
       "\n",
       "   contributor_id   submitted  \\\n",
       "0           47892  2005-09-16   \n",
       "1           26278  2002-06-17   \n",
       "2          196586  2005-02-25   \n",
       "3           68585  2003-04-14   \n",
       "4           41706  2002-10-25   \n",
       "\n",
       "                                                tags  \\\n",
       "0  ['60-minutes-or-less', 'time-to-make', 'course...   \n",
       "1  ['30-minutes-or-less', 'time-to-make', 'course...   \n",
       "2  ['time-to-make', 'course', 'preparation', 'mai...   \n",
       "3  ['60-minutes-or-less', 'time-to-make', 'course...   \n",
       "4  ['weeknight', 'time-to-make', 'course', 'main-...   \n",
       "\n",
       "                                    nutrition  n_steps  \\\n",
       "0       [51.5, 0.0, 13.0, 0.0, 2.0, 0.0, 4.0]       11   \n",
       "1   [173.4, 18.0, 0.0, 17.0, 22.0, 35.0, 1.0]        9   \n",
       "2  [269.8, 22.0, 32.0, 48.0, 39.0, 27.0, 5.0]        6   \n",
       "3   [368.1, 17.0, 10.0, 2.0, 14.0, 8.0, 20.0]       11   \n",
       "4   [352.9, 1.0, 337.0, 23.0, 3.0, 0.0, 28.0]        5   \n",
       "\n",
       "                                               steps  \\\n",
       "0  ['make a choice and proceed with recipe', 'dep...   \n",
       "1  ['preheat oven to 425 degrees f', 'press dough...   \n",
       "2  ['brown ground beef in large pot', 'add choppe...   \n",
       "3  ['place potatoes in a large pot of lightly sal...   \n",
       "4  ['mix all ingredients& boil for 2 1 / 2 hours ...   \n",
       "\n",
       "                                         description  \\\n",
       "0  autumn is my favorite time of year to cook! th...   \n",
       "1  this recipe calls for the crust to be prebaked...   \n",
       "2  this modified version of 'mom's' chili was a h...   \n",
       "3  this is a super easy, great tasting, make ahea...   \n",
       "4  my dh's amish mother raised him on this recipe...   \n",
       "\n",
       "                                         ingredients  n_ingredients  \n",
       "0  ['winter squash', 'mexican seasoning', 'mixed ...              7  \n",
       "1  ['prepared pizza crust', 'sausage patty', 'egg...              6  \n",
       "2  ['ground beef', 'yellow onions', 'diced tomato...             13  \n",
       "3  ['spreadable cheese with garlic and herbs', 'n...             11  \n",
       "4  ['tomato juice', 'apple cider vinegar', 'sugar...              8  "
      ]
     },
     "execution_count": 6,
     "metadata": {},
     "output_type": "execute_result"
    }
   ],
   "source": [
    "recipes2 = pd.read_csv(\"data/RAW_recipes.csv\", header=0)\n",
    "recipes2.head()"
   ]
  },
  {
   "cell_type": "code",
   "execution_count": 20,
   "metadata": {},
   "outputs": [
    {
     "data": {
      "text/html": [
       "<div>\n",
       "<style scoped>\n",
       "    .dataframe tbody tr th:only-of-type {\n",
       "        vertical-align: middle;\n",
       "    }\n",
       "\n",
       "    .dataframe tbody tr th {\n",
       "        vertical-align: top;\n",
       "    }\n",
       "\n",
       "    .dataframe thead th {\n",
       "        text-align: right;\n",
       "    }\n",
       "</style>\n",
       "<table border=\"1\" class=\"dataframe\">\n",
       "  <thead>\n",
       "    <tr style=\"text-align: right;\">\n",
       "      <th></th>\n",
       "      <th>title</th>\n",
       "      <th>calories</th>\n",
       "      <th>protein</th>\n",
       "      <th>fat</th>\n",
       "      <th>breakfast</th>\n",
       "      <th>brunch</th>\n",
       "      <th>dinner</th>\n",
       "      <th>lunch</th>\n",
       "      <th>snack</th>\n",
       "      <th>3-ingredient recipes</th>\n",
       "      <th>carbs</th>\n",
       "    </tr>\n",
       "  </thead>\n",
       "  <tbody>\n",
       "    <tr>\n",
       "      <th>9815</th>\n",
       "      <td>3-Ingredient Shakshuka</td>\n",
       "      <td>454.0</td>\n",
       "      <td>13.0</td>\n",
       "      <td>31.0</td>\n",
       "      <td>1.0</td>\n",
       "      <td>1.0</td>\n",
       "      <td>0.0</td>\n",
       "      <td>0.0</td>\n",
       "      <td>0.0</td>\n",
       "      <td>1.0</td>\n",
       "      <td>30.75</td>\n",
       "    </tr>\n",
       "    <tr>\n",
       "      <th>13226</th>\n",
       "      <td>3-Ingredient Ice Cream French Toast</td>\n",
       "      <td>757.0</td>\n",
       "      <td>13.0</td>\n",
       "      <td>48.0</td>\n",
       "      <td>1.0</td>\n",
       "      <td>1.0</td>\n",
       "      <td>0.0</td>\n",
       "      <td>0.0</td>\n",
       "      <td>0.0</td>\n",
       "      <td>1.0</td>\n",
       "      <td>68.25</td>\n",
       "    </tr>\n",
       "  </tbody>\n",
       "</table>\n",
       "</div>"
      ],
      "text/plain": [
       "                                      title  calories  protein   fat  \\\n",
       "9815                3-Ingredient Shakshuka      454.0     13.0  31.0   \n",
       "13226  3-Ingredient Ice Cream French Toast      757.0     13.0  48.0   \n",
       "\n",
       "       breakfast  brunch  dinner  lunch  snack  3-ingredient recipes  carbs  \n",
       "9815         1.0     1.0     0.0    0.0    0.0                   1.0  30.75  \n",
       "13226        1.0     1.0     0.0    0.0    0.0                   1.0  68.25  "
      ]
     },
     "execution_count": 20,
     "metadata": {},
     "output_type": "execute_result"
    }
   ],
   "source": [
    "#4-4-9\n",
    "recipes = recipes.loc[:, [\"title\", \"calories\", \"protein\", \"fat\", \"breakfast\", \"brunch\", \"dinner\", \"lunch\", \"snack\", \"3-ingredient recipes\"]]\n",
    "recipes[\"carbs\"] = (recipes[\"calories\"] - (recipes[\"protein\"] * 4 + recipes[\"fat\"] * 9)) / 4\n",
    "recipes.loc[(recipes[\"breakfast\"]==1)&(recipes[\"3-ingredient recipes\"]==1)] # .loc[recipes[\"calories\"].isna()]"
   ]
  },
  {
   "cell_type": "code",
   "execution_count": null,
   "metadata": {},
   "outputs": [],
   "source": [
    "with open(\"archive/full_format_recipes.json\") as jsonfile:\n",
    "    json_recipes = json.load(jsonfile)\n",
    "\n",
    "print(json_recipes)"
   ]
  },
  {
   "cell_type": "code",
   "execution_count": 6,
   "metadata": {},
   "outputs": [],
   "source": [
    "# print([json_recipes[i] for i in range(1000) if any([ing for ing in json_recipes[i]['ingredients'] if \"turkey\" in ing])])"
   ]
  },
  {
   "cell_type": "code",
   "execution_count": 5,
   "metadata": {},
   "outputs": [
    {
     "data": {
      "text/html": [
       "<div>\n",
       "<style scoped>\n",
       "    .dataframe tbody tr th:only-of-type {\n",
       "        vertical-align: middle;\n",
       "    }\n",
       "\n",
       "    .dataframe tbody tr th {\n",
       "        vertical-align: top;\n",
       "    }\n",
       "\n",
       "    .dataframe thead th {\n",
       "        text-align: right;\n",
       "    }\n",
       "</style>\n",
       "<table border=\"1\" class=\"dataframe\">\n",
       "  <thead>\n",
       "    <tr style=\"text-align: right;\">\n",
       "      <th></th>\n",
       "      <th>directions</th>\n",
       "      <th>fat</th>\n",
       "      <th>date</th>\n",
       "      <th>categories</th>\n",
       "      <th>calories</th>\n",
       "      <th>desc</th>\n",
       "      <th>protein</th>\n",
       "      <th>rating</th>\n",
       "      <th>title</th>\n",
       "      <th>ingredients</th>\n",
       "      <th>sodium</th>\n",
       "    </tr>\n",
       "  </thead>\n",
       "  <tbody>\n",
       "    <tr>\n",
       "      <th>0</th>\n",
       "      <td>[1. Place the stock, lentils, celery, carrot, ...</td>\n",
       "      <td>7.0</td>\n",
       "      <td>2006-09-01 04:00:00+00:00</td>\n",
       "      <td>[Sandwich, Bean, Fruit, Tomato, turkey, Vegeta...</td>\n",
       "      <td>426.0</td>\n",
       "      <td>None</td>\n",
       "      <td>30.0</td>\n",
       "      <td>2.500</td>\n",
       "      <td>Lentil, Apple, and Turkey Wrap</td>\n",
       "      <td>[4 cups low-sodium vegetable or chicken stock,...</td>\n",
       "      <td>559.0</td>\n",
       "    </tr>\n",
       "    <tr>\n",
       "      <th>1</th>\n",
       "      <td>[Combine first 9 ingredients in heavy medium s...</td>\n",
       "      <td>23.0</td>\n",
       "      <td>2004-08-20 04:00:00+00:00</td>\n",
       "      <td>[Food Processor, Onion, Pork, Bake, Bastille D...</td>\n",
       "      <td>403.0</td>\n",
       "      <td>This uses the same ingredients found in boudin...</td>\n",
       "      <td>18.0</td>\n",
       "      <td>4.375</td>\n",
       "      <td>Boudin Blanc Terrine with Red Onion Confit</td>\n",
       "      <td>[1 1/2 cups whipping cream, 2 medium onions, c...</td>\n",
       "      <td>1439.0</td>\n",
       "    </tr>\n",
       "    <tr>\n",
       "      <th>2</th>\n",
       "      <td>[In a large heavy saucepan cook diced fennel a...</td>\n",
       "      <td>7.0</td>\n",
       "      <td>2004-08-20 04:00:00+00:00</td>\n",
       "      <td>[Soup/Stew, Dairy, Potato, Vegetable, Fennel, ...</td>\n",
       "      <td>165.0</td>\n",
       "      <td>None</td>\n",
       "      <td>6.0</td>\n",
       "      <td>3.750</td>\n",
       "      <td>Potato and Fennel Soup Hodge</td>\n",
       "      <td>[1 fennel bulb (sometimes called anise), stalk...</td>\n",
       "      <td>165.0</td>\n",
       "    </tr>\n",
       "    <tr>\n",
       "      <th>3</th>\n",
       "      <td>[Heat oil in heavy large skillet over medium-h...</td>\n",
       "      <td>NaN</td>\n",
       "      <td>2009-03-27 04:00:00+00:00</td>\n",
       "      <td>[Fish, Olive, Tomato, Sauté, Low Fat, Low Cal,...</td>\n",
       "      <td>NaN</td>\n",
       "      <td>The Sicilian-style tomato sauce has tons of Me...</td>\n",
       "      <td>NaN</td>\n",
       "      <td>5.000</td>\n",
       "      <td>Mahi-Mahi in Tomato Olive Sauce</td>\n",
       "      <td>[2 tablespoons extra-virgin olive oil, 1 cup c...</td>\n",
       "      <td>NaN</td>\n",
       "    </tr>\n",
       "    <tr>\n",
       "      <th>4</th>\n",
       "      <td>[Preheat oven to 350°F. Lightly grease 8x8x2-i...</td>\n",
       "      <td>32.0</td>\n",
       "      <td>2004-08-20 04:00:00+00:00</td>\n",
       "      <td>[Cheese, Dairy, Pasta, Vegetable, Side, Bake, ...</td>\n",
       "      <td>547.0</td>\n",
       "      <td>None</td>\n",
       "      <td>20.0</td>\n",
       "      <td>3.125</td>\n",
       "      <td>Spinach Noodle Casserole</td>\n",
       "      <td>[1 12-ounce package frozen spinach soufflé, th...</td>\n",
       "      <td>452.0</td>\n",
       "    </tr>\n",
       "  </tbody>\n",
       "</table>\n",
       "</div>"
      ],
      "text/plain": [
       "                                          directions   fat  \\\n",
       "0  [1. Place the stock, lentils, celery, carrot, ...   7.0   \n",
       "1  [Combine first 9 ingredients in heavy medium s...  23.0   \n",
       "2  [In a large heavy saucepan cook diced fennel a...   7.0   \n",
       "3  [Heat oil in heavy large skillet over medium-h...   NaN   \n",
       "4  [Preheat oven to 350°F. Lightly grease 8x8x2-i...  32.0   \n",
       "\n",
       "                       date  \\\n",
       "0 2006-09-01 04:00:00+00:00   \n",
       "1 2004-08-20 04:00:00+00:00   \n",
       "2 2004-08-20 04:00:00+00:00   \n",
       "3 2009-03-27 04:00:00+00:00   \n",
       "4 2004-08-20 04:00:00+00:00   \n",
       "\n",
       "                                          categories  calories  \\\n",
       "0  [Sandwich, Bean, Fruit, Tomato, turkey, Vegeta...     426.0   \n",
       "1  [Food Processor, Onion, Pork, Bake, Bastille D...     403.0   \n",
       "2  [Soup/Stew, Dairy, Potato, Vegetable, Fennel, ...     165.0   \n",
       "3  [Fish, Olive, Tomato, Sauté, Low Fat, Low Cal,...       NaN   \n",
       "4  [Cheese, Dairy, Pasta, Vegetable, Side, Bake, ...     547.0   \n",
       "\n",
       "                                                desc  protein  rating  \\\n",
       "0                                               None     30.0   2.500   \n",
       "1  This uses the same ingredients found in boudin...     18.0   4.375   \n",
       "2                                               None      6.0   3.750   \n",
       "3  The Sicilian-style tomato sauce has tons of Me...      NaN   5.000   \n",
       "4                                               None     20.0   3.125   \n",
       "\n",
       "                                         title  \\\n",
       "0              Lentil, Apple, and Turkey Wrap    \n",
       "1  Boudin Blanc Terrine with Red Onion Confit    \n",
       "2                Potato and Fennel Soup Hodge    \n",
       "3             Mahi-Mahi in Tomato Olive Sauce    \n",
       "4                    Spinach Noodle Casserole    \n",
       "\n",
       "                                         ingredients  sodium  \n",
       "0  [4 cups low-sodium vegetable or chicken stock,...   559.0  \n",
       "1  [1 1/2 cups whipping cream, 2 medium onions, c...  1439.0  \n",
       "2  [1 fennel bulb (sometimes called anise), stalk...   165.0  \n",
       "3  [2 tablespoons extra-virgin olive oil, 1 cup c...     NaN  \n",
       "4  [1 12-ounce package frozen spinach soufflé, th...   452.0  "
      ]
     },
     "execution_count": 5,
     "metadata": {},
     "output_type": "execute_result"
    }
   ],
   "source": [
    "json_full_recipes = pd.read_json(\"archive/full_format_recipes.json\")\n",
    "json_full_recipes.head()"
   ]
  },
  {
   "cell_type": "code",
   "execution_count": 6,
   "metadata": {},
   "outputs": [
    {
     "data": {
      "text/plain": [
       "list"
      ]
     },
     "execution_count": 6,
     "metadata": {},
     "output_type": "execute_result"
    }
   ],
   "source": [
    "type(json_full_recipes[\"directions\"][0])"
   ]
  }
 ],
 "metadata": {
  "kernelspec": {
   "display_name": "Python 3.10.5 ('meal-advisor-QCWxLYiX-py3.10')",
   "language": "python",
   "name": "python3"
  },
  "language_info": {
   "codemirror_mode": {
    "name": "ipython",
    "version": 3
   },
   "file_extension": ".py",
   "mimetype": "text/x-python",
   "name": "python",
   "nbconvert_exporter": "python",
   "pygments_lexer": "ipython3",
   "version": "3.10.5"
  },
  "orig_nbformat": 4,
  "vscode": {
   "interpreter": {
    "hash": "76e15b0a316186ed36ba497d9fc91944fa846f4b4f4141e1a0f6316bff2be551"
   }
  }
 },
 "nbformat": 4,
 "nbformat_minor": 2
}
